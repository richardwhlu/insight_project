{
 "cells": [
  {
   "cell_type": "code",
   "execution_count": 76,
   "metadata": {},
   "outputs": [],
   "source": [
    "import pickle\n",
    "from sklearn.ensemble import RandomForestClassifier\n",
    "import os\n",
    "from sklearn.metrics import confusion_matrix, roc_curve, auc"
   ]
  },
  {
   "cell_type": "code",
   "execution_count": 11,
   "metadata": {},
   "outputs": [
    {
     "name": "stdout",
     "output_type": "stream",
     "text": [
      "Preprocessing Stem & Join (P): 3.347217082977295\n",
      "Preprocessing No Stem (P): 2.828143358230591\n",
      "Preprocessing No Stem & Punct (P): 3.0154898166656494\n",
      "TFIDF: 0.11683869361877441\n",
      "Topics: 0.37028050422668457\n",
      "Metadata: 0.9819507598876953\n",
      "Syntax: 30.048978090286255\n",
      "Embeddings: 78.09168791770935\n"
     ]
    }
   ],
   "source": [
    "# os.chdir(\"../2_modeling/\")\n",
    "exec(open(\"train_model.py\").read())"
   ]
  },
  {
   "cell_type": "code",
   "execution_count": 13,
   "metadata": {},
   "outputs": [
    {
     "data": {
      "text/plain": [
       "(1050, 459)"
      ]
     },
     "execution_count": 13,
     "metadata": {},
     "output_type": "execute_result"
    }
   ],
   "source": [
    "feature_matrix.shape"
   ]
  },
  {
   "cell_type": "code",
   "execution_count": 14,
   "metadata": {},
   "outputs": [],
   "source": [
    "ambiance = pickle.load(open(\"../../4_models/rf_ambiance_700iterations_athreshold_100_1.pickle\", \"rb\"))\n",
    "price = pickle.load(open(\"../../4_models/rf_price_700iterations_athreshold_100_1.pickle\", \"rb\"))\n",
    "service = pickle.load(open(\"../../4_models/rf_service_700iterations_athreshold_100_1.pickle\", \"rb\"))\n",
    "food = pickle.load(open(\"../../4_models/rf_food_700iterations_athreshold_100_1.pickle\", \"rb\"))\n",
    "\n",
    "ambiance_i = pickle.load(open(\"../../4_models/rf_ambiance_700iterations_athreshold_100_1initial.pickle\", \"rb\"))\n",
    "price_i = pickle.load(open(\"../../4_models/rf_price_700iterations_athreshold_100_1initial.pickle\", \"rb\"))\n",
    "service_i = pickle.load(open(\"../../4_models/rf_service_700iterations_athreshold_100_1initial.pickle\", \"rb\"))\n",
    "food_i = pickle.load(open(\"../../4_models/rf_food_700iterations_athreshold_100_1initial.pickle\", \"rb\"))"
   ]
  },
  {
   "cell_type": "code",
   "execution_count": 80,
   "metadata": {},
   "outputs": [],
   "source": [
    "def test(target_string, clf, clf2):\n",
    "    X_tmp, y_tmp, X_test, y_test = iterative_train_test_split(\n",
    "        np.array(feature_matrix),\n",
    "        np.array(target[[target_string]]),\n",
    "        test_size=0.2,\n",
    "        random_state=10191994)\n",
    "\n",
    "    X_train, y_train, X_validation, y_validation = iterative_train_test_split(\n",
    "        X_tmp,\n",
    "        y_tmp,\n",
    "        test_size=0.25, # 0.25 * 0.8 = 0.2\n",
    "        random_state=10191994)\n",
    "    \n",
    "    print(clf.score(X_validation[:, 1:], y_validation))\n",
    "    print(confusion_matrix(y_validation,\n",
    "            clf.predict(X_validation[:, 1:])))\n",
    "    fpr, tpr, _ = roc_curve(y_validation,\n",
    "                    clf.predict_proba(X_validation[:, 1:])[:,1])\n",
    "    auc_score = auc(fpr, tpr)\n",
    "    print(\"auc:\", auc_score)\n",
    "    \n",
    "    print(clf2.score(X_validation[:, 1:], y_validation))\n",
    "    print(confusion_matrix(y_validation,\n",
    "            clf2.predict(X_validation[:, 1:])))\n",
    "    fpr, tpr, _ = roc_curve(y_validation,\n",
    "                    clf2.predict_proba(X_validation[:, 1:])[:,1])\n",
    "    auc_score = auc(fpr, tpr)\n",
    "    print(\"auc:\", auc_score)\n",
    "\n",
    "    print(clf.score(X_test[:, 1:], y_test))\n",
    "    print(confusion_matrix(y_test,\n",
    "            clf.predict(X_test[:, 1:])))\n",
    "    fpr, tpr, _ = roc_curve(y_test,\n",
    "                    clf.predict_proba(X_test[:, 1:])[:,1])\n",
    "    auc_score = auc(fpr, tpr)\n",
    "    print(\"auc:\", auc_score)\n",
    "    \n",
    "    print(clf2.score(X_test[:, 1:], y_test))\n",
    "    print(confusion_matrix(y_test,\n",
    "            clf2.predict(X_test[:, 1:])))\n",
    "    fpr, tpr, _ = roc_curve(y_test,\n",
    "                    clf2.predict_proba(X_test[:, 1:])[:,1])\n",
    "    auc_score = auc(fpr, tpr)\n",
    "    print(\"auc:\", auc_score)\n",
    "    \n",
    "#     return X_validation\n",
    "    \n",
    "#     print(clf.score(X_validation[:, 1:], y_validation))\n",
    "#     print(confusion_matrix(y_validation,\n",
    "#             clf.predict(X_validation[:, 1:])))"
   ]
  },
  {
   "cell_type": "code",
   "execution_count": 81,
   "metadata": {},
   "outputs": [
    {
     "name": "stdout",
     "output_type": "stream",
     "text": [
      "0.8761904761904762\n",
      "[[ 11   8]\n",
      " [ 18 173]]\n",
      "auc: 0.8963901901350234\n",
      "0.9\n",
      "[[ 15   4]\n",
      " [ 17 174]]\n",
      "auc: 0.9341416368145494\n",
      "0.8809523809523809\n",
      "[[ 15   4]\n",
      " [ 21 170]]\n",
      "auc: 0.9129236704326261\n",
      "0.8571428571428571\n",
      "[[ 16   3]\n",
      " [ 27 164]]\n",
      "auc: 0.9217415265913476\n"
     ]
    }
   ],
   "source": [
    "test(\"food\", food_i, food)"
   ]
  },
  {
   "cell_type": "code",
   "execution_count": 82,
   "metadata": {},
   "outputs": [
    {
     "name": "stdout",
     "output_type": "stream",
     "text": [
      "0.8428571428571429\n",
      "[[ 65  11]\n",
      " [ 22 112]]\n",
      "auc: 0.9200706991358995\n",
      "0.8523809523809524\n",
      "[[ 67   9]\n",
      " [ 22 112]]\n",
      "auc: 0.9114296936370778\n",
      "0.8714285714285714\n",
      "[[ 63  13]\n",
      " [ 14 120]]\n",
      "auc: 0.9385310290652003\n",
      "0.8571428571428571\n",
      "[[ 63  13]\n",
      " [ 17 117]]\n",
      "auc: 0.9406912804399058\n"
     ]
    }
   ],
   "source": [
    "test(\"service\", service_i, service)"
   ]
  },
  {
   "cell_type": "code",
   "execution_count": 84,
   "metadata": {},
   "outputs": [
    {
     "name": "stdout",
     "output_type": "stream",
     "text": [
      "0.8523809523809524\n",
      "[[131  24]\n",
      " [  7  48]]\n",
      "auc: 0.9113196480938417\n",
      "0.8428571428571429\n",
      "[[129  26]\n",
      " [  7  48]]\n",
      "auc: 0.906158357771261\n",
      "0.861904761904762\n",
      "[[133  22]\n",
      " [  7  48]]\n",
      "auc: 0.9417008797653958\n",
      "0.8714285714285714\n",
      "[[136  19]\n",
      " [  8  47]]\n",
      "auc: 0.9454545454545455\n"
     ]
    }
   ],
   "source": [
    "test(\"price\", price_i, price)"
   ]
  },
  {
   "cell_type": "code",
   "execution_count": 85,
   "metadata": {},
   "outputs": [
    {
     "name": "stdout",
     "output_type": "stream",
     "text": [
      "0.7904761904761904\n",
      "[[102  23]\n",
      " [ 21  64]]\n",
      "auc: 0.8817882352941177\n",
      "0.8238095238095238\n",
      "[[102  23]\n",
      " [ 14  71]]\n",
      "auc: 0.8839529411764706\n",
      "0.7857142857142857\n",
      "[[101  24]\n",
      " [ 21  64]]\n",
      "auc: 0.8815058823529411\n",
      "0.8\n",
      "[[100  25]\n",
      " [ 17  68]]\n",
      "auc: 0.8832\n"
     ]
    }
   ],
   "source": [
    "test(\"ambiance\", ambiance_i, ambiance)"
   ]
  },
  {
   "cell_type": "code",
   "execution_count": 86,
   "metadata": {},
   "outputs": [],
   "source": [
    "    X_tmp, y_tmp, X_test, y_test = iterative_train_test_split(\n",
    "        np.array(feature_matrix),\n",
    "        np.array(target[[\"food\"]]),\n",
    "        test_size=0.2,\n",
    "        random_state=10191994)\n",
    "\n",
    "    X_train, y_train, X_validation, y_validation = iterative_train_test_split(\n",
    "        X_tmp,\n",
    "        y_tmp,\n",
    "        test_size=0.25, # 0.25 * 0.8 = 0.2\n",
    "        random_state=10191994)"
   ]
  },
  {
   "cell_type": "code",
   "execution_count": 91,
   "metadata": {},
   "outputs": [],
   "source": [
    "with open(\"../../0_data/5_train_validation_test/X_train.pickle\", \"wb\") as f:\n",
    "    pickle.dump(X_train, f)"
   ]
  },
  {
   "cell_type": "code",
   "execution_count": 92,
   "metadata": {},
   "outputs": [],
   "source": [
    "X_train_test = pickle.load(open(\"../../0_data/5_train_validation_test/X_train.pickle\", \"rb\"))"
   ]
  },
  {
   "cell_type": "code",
   "execution_count": 93,
   "metadata": {},
   "outputs": [
    {
     "data": {
      "text/plain": [
       "array([[ True,  True,  True, ...,  True,  True,  True],\n",
       "       [ True,  True,  True, ...,  True,  True,  True],\n",
       "       [ True,  True,  True, ...,  True,  True,  True],\n",
       "       ...,\n",
       "       [ True,  True,  True, ...,  True,  True,  True],\n",
       "       [ True,  True,  True, ...,  True,  True,  True],\n",
       "       [ True,  True,  True, ...,  True,  True,  True]])"
      ]
     },
     "execution_count": 93,
     "metadata": {},
     "output_type": "execute_result"
    }
   ],
   "source": [
    "X_train == X_train_test"
   ]
  },
  {
   "cell_type": "code",
   "execution_count": null,
   "metadata": {},
   "outputs": [],
   "source": []
  }
 ],
 "metadata": {
  "kernelspec": {
   "display_name": "Python 3",
   "language": "python",
   "name": "python3"
  },
  "language_info": {
   "codemirror_mode": {
    "name": "ipython",
    "version": 3
   },
   "file_extension": ".py",
   "mimetype": "text/x-python",
   "name": "python",
   "nbconvert_exporter": "python",
   "pygments_lexer": "ipython3",
   "version": "3.7.3"
  }
 },
 "nbformat": 4,
 "nbformat_minor": 2
}
