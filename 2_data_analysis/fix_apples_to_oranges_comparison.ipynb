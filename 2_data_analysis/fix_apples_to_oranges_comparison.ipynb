{
 "cells": [
  {
   "cell_type": "code",
   "execution_count": 5,
   "metadata": {
    "ExecuteTime": {
     "end_time": "2019-07-01T16:56:27.820617Z",
     "start_time": "2019-07-01T16:56:27.544632Z"
    }
   },
   "outputs": [],
   "source": [
    "import pandas as pd\n",
    "import pickle"
   ]
  },
  {
   "cell_type": "code",
   "execution_count": 2,
   "metadata": {
    "ExecuteTime": {
     "end_time": "2019-07-01T16:55:27.851408Z",
     "start_time": "2019-07-01T16:55:27.683395Z"
    }
   },
   "outputs": [],
   "source": [
    "X_test_ambiance = pickle.load(open(\"../0_data/5_train_validation_test/X_test_ambiance_1050.pickle\", \"rb\"))\n",
    "y_test_ambiance = pickle.load(open(\"../0_data/5_train_validation_test/y_test_ambiance_1050.pickle\", \"rb\"))\n",
    "X_test_service = pickle.load(open(\"../0_data/5_train_validation_test/X_test_service_1050.pickle\", \"rb\"))\n",
    "y_test_service = pickle.load(open(\"../0_data/5_train_validation_test/y_test_service_1050.pickle\", \"rb\"))\n",
    "X_test_price = pickle.load(open(\"../0_data/5_train_validation_test/X_test_price_1050.pickle\", \"rb\"))\n",
    "y_test_price = pickle.load(open(\"../0_data/5_train_validation_test/y_test_price_1050.pickle\", \"rb\"))\n",
    "X_test_food = pickle.load(open(\"../0_data/5_train_validation_test/X_test_food_1050.pickle\", \"rb\"))\n",
    "y_test_food = pickle.load(open(\"../0_data/5_train_validation_test/y_test_food_1050.pickle\", \"rb\"))"
   ]
  },
  {
   "cell_type": "code",
   "execution_count": 3,
   "metadata": {
    "ExecuteTime": {
     "end_time": "2019-07-01T16:56:04.962200Z",
     "start_time": "2019-07-01T16:56:04.550660Z"
    }
   },
   "outputs": [],
   "source": [
    "# pseudolabel models\n",
    "with open(\"../4_models/rf_ambiance_4iterations_athreshold_5000_200_1050.pickle\", \"rb\") as f:\n",
    "    ambiance_p_mid = pickle.load(f)\n",
    "    \n",
    "with open(\"../4_models/rf_service_4iterations_athreshold_5000_200_1050.pickle\", \"rb\") as f:\n",
    "    service_p_mid = pickle.load(f)\n",
    "\n",
    "with open(\"../4_models/rf_price_4iterations_athreshold_5000_200_1050.pickle\", \"rb\") as f:\n",
    "    price_p_mid = pickle.load(f)\n",
    "\n",
    "with open(\"../4_models/rf_food_4iterations_athreshold_5000_200_1050.pickle\", \"rb\") as f:\n",
    "    food_p_mid = pickle.load(f)"
   ]
  },
  {
   "cell_type": "code",
   "execution_count": 6,
   "metadata": {
    "ExecuteTime": {
     "end_time": "2019-07-01T16:56:35.270016Z",
     "start_time": "2019-07-01T16:56:35.246949Z"
    }
   },
   "outputs": [
    {
     "data": {
      "text/html": [
       "<div>\n",
       "<style scoped>\n",
       "    .dataframe tbody tr th:only-of-type {\n",
       "        vertical-align: middle;\n",
       "    }\n",
       "\n",
       "    .dataframe tbody tr th {\n",
       "        vertical-align: top;\n",
       "    }\n",
       "\n",
       "    .dataframe thead th {\n",
       "        text-align: right;\n",
       "    }\n",
       "</style>\n",
       "<table border=\"1\" class=\"dataframe\">\n",
       "  <thead>\n",
       "    <tr style=\"text-align: right;\">\n",
       "      <th></th>\n",
       "      <th>0</th>\n",
       "    </tr>\n",
       "  </thead>\n",
       "  <tbody>\n",
       "    <tr>\n",
       "      <th>0</th>\n",
       "      <td>1</td>\n",
       "    </tr>\n",
       "    <tr>\n",
       "      <th>1</th>\n",
       "      <td>1</td>\n",
       "    </tr>\n",
       "    <tr>\n",
       "      <th>2</th>\n",
       "      <td>1</td>\n",
       "    </tr>\n",
       "    <tr>\n",
       "      <th>3</th>\n",
       "      <td>1</td>\n",
       "    </tr>\n",
       "    <tr>\n",
       "      <th>4</th>\n",
       "      <td>1</td>\n",
       "    </tr>\n",
       "  </tbody>\n",
       "</table>\n",
       "</div>"
      ],
      "text/plain": [
       "   0\n",
       "0  1\n",
       "1  1\n",
       "2  1\n",
       "3  1\n",
       "4  1"
      ]
     },
     "execution_count": 6,
     "metadata": {},
     "output_type": "execute_result"
    }
   ],
   "source": [
    "pd.DataFrame(y_test_ambiance).head()"
   ]
  },
  {
   "cell_type": "markdown",
   "metadata": {},
   "source": [
    "If not considering row by row (e.g. 3/4, 2/4), then summation across confusion matrices should be the same"
   ]
  },
  {
   "cell_type": "code",
   "execution_count": 8,
   "metadata": {
    "ExecuteTime": {
     "end_time": "2019-07-01T17:39:24.934925Z",
     "start_time": "2019-07-01T17:39:24.922729Z"
    }
   },
   "outputs": [
    {
     "data": {
      "text/plain": [
       "0.8586723768736617"
      ]
     },
     "execution_count": 8,
     "metadata": {},
     "output_type": "execute_result"
    }
   ],
   "source": [
    "precision = (176+120+45+60)/(176+9+120+15+45+23+60+19)\n",
    "precision"
   ]
  },
  {
   "cell_type": "code",
   "execution_count": 10,
   "metadata": {
    "ExecuteTime": {
     "end_time": "2019-07-01T17:39:53.023027Z",
     "start_time": "2019-07-01T17:39:53.016797Z"
    }
   },
   "outputs": [
    {
     "data": {
      "text/plain": [
       "0.8623655913978494"
      ]
     },
     "execution_count": 10,
     "metadata": {},
     "output_type": "execute_result"
    }
   ],
   "source": [
    "recall = (176+120+45+60)/(176+15+120+14+45+10+60+25)\n",
    "recall"
   ]
  },
  {
   "cell_type": "code",
   "execution_count": null,
   "metadata": {},
   "outputs": [],
   "source": []
  }
 ],
 "metadata": {
  "kernelspec": {
   "display_name": "Python 3",
   "language": "python",
   "name": "python3"
  },
  "language_info": {
   "codemirror_mode": {
    "name": "ipython",
    "version": 3
   },
   "file_extension": ".py",
   "mimetype": "text/x-python",
   "name": "python",
   "nbconvert_exporter": "python",
   "pygments_lexer": "ipython3",
   "version": "3.7.3"
  },
  "toc": {
   "base_numbering": 1,
   "nav_menu": {},
   "number_sections": true,
   "sideBar": true,
   "skip_h1_title": false,
   "title_cell": "Table of Contents",
   "title_sidebar": "Contents",
   "toc_cell": false,
   "toc_position": {},
   "toc_section_display": true,
   "toc_window_display": false
  }
 },
 "nbformat": 4,
 "nbformat_minor": 2
}
