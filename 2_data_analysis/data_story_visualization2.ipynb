{
 "cells": [
  {
   "cell_type": "code",
   "execution_count": 1,
   "metadata": {},
   "outputs": [
    {
     "name": "stderr",
     "output_type": "stream",
     "text": [
      "/home/richard/anaconda3/envs/insight/lib/python3.7/site-packages/smart_open/smart_open_lib.py:398: UserWarning: This function is deprecated, use smart_open.open instead. See the migration notes for details: https://github.com/RaRe-Technologies/smart_open/blob/master/README.rst#migrating-to-the-new-open-function\n",
      "  'See the migration notes for details: %s' % _MIGRATION_NOTES_URL\n"
     ]
    }
   ],
   "source": [
    "import os\n",
    "os.chdir(\"1_feature_engineering\")\n",
    "exec(open(\"extract_review_features.py\").read())"
   ]
  },
  {
   "cell_type": "code",
   "execution_count": 2,
   "metadata": {},
   "outputs": [
    {
     "name": "stdout",
     "output_type": "stream",
     "text": [
      "Preprocessing Stem & Join (P): 3.2486469745635986\n",
      "Preprocessing No Stem (P): 2.957641839981079\n",
      "Preprocessing No Stem & Punct (P): 2.969756603240967\n",
      "TFIDF: 0.07323431968688965\n",
      "Topics: 0.3993186950683594\n"
     ]
    },
    {
     "name": "stderr",
     "output_type": "stream",
     "text": [
      "/home/richard/anaconda3/envs/insight/lib/python3.7/site-packages/ipykernel_launcher.py:498: SettingWithCopyWarning: \n",
      "A value is trying to be set on a copy of a slice from a DataFrame.\n",
      "Try using .loc[row_indexer,col_indexer] = value instead\n",
      "\n",
      "See the caveats in the documentation: http://pandas.pydata.org/pandas-docs/stable/indexing.html#indexing-view-versus-copy\n"
     ]
    },
    {
     "name": "stdout",
     "output_type": "stream",
     "text": [
      "Metadata: 0.6300594806671143\n"
     ]
    },
    {
     "name": "stderr",
     "output_type": "stream",
     "text": [
      "/home/richard/anaconda3/envs/insight/lib/python3.7/site-packages/ipykernel_launcher.py:354: RuntimeWarning: invalid value encountered in double_scalars\n"
     ]
    },
    {
     "name": "stdout",
     "output_type": "stream",
     "text": [
      "Syntax: 32.44103169441223\n",
      "Embeddings: 82.87586951255798\n"
     ]
    }
   ],
   "source": [
    "feature_matrix = produce_feature_matrix(data2)"
   ]
  },
  {
   "cell_type": "code",
   "execution_count": 3,
   "metadata": {},
   "outputs": [
    {
     "data": {
      "text/plain": [
       "(1050, 459)"
      ]
     },
     "execution_count": 3,
     "metadata": {},
     "output_type": "execute_result"
    }
   ],
   "source": [
    "feature_matrix.shape"
   ]
  },
  {
   "cell_type": "markdown",
   "metadata": {},
   "source": [
    "#### Split out features by categories"
   ]
  },
  {
   "cell_type": "code",
   "execution_count": 4,
   "metadata": {},
   "outputs": [],
   "source": [
    "feature_names = feature_matrix.columns[1:]"
   ]
  },
  {
   "cell_type": "code",
   "execution_count": 5,
   "metadata": {},
   "outputs": [],
   "source": [
    "metadata_columns = feature_names[:5]"
   ]
  },
  {
   "cell_type": "code",
   "execution_count": 6,
   "metadata": {},
   "outputs": [],
   "source": [
    "syntax_columns = feature_names[5:149]"
   ]
  },
  {
   "cell_type": "code",
   "execution_count": 7,
   "metadata": {},
   "outputs": [
    {
     "data": {
      "text/plain": [
       "Index(['NOUN', 'VERB', 'ADJ', 'ADV', '.', 'ADP', 'NUM', 'PRON', 'PRT', 'DET',\n",
       "       'CONJ', 'X', 'NOUN_VERB', 'NOUN_ADJ', 'NOUN_ADV', 'NOUN_.', 'NOUN_ADP',\n",
       "       'NOUN_NUM', 'NOUN_PRON', 'NOUN_PRT', 'NOUN_DET', 'NOUN_CONJ', 'NOUN_X',\n",
       "       'VERB_NOUN', 'VERB_ADJ', 'VERB_ADV', 'VERB_.', 'VERB_ADP', 'VERB_NUM',\n",
       "       'VERB_PRON', 'VERB_PRT', 'VERB_DET', 'VERB_CONJ', 'VERB_X', 'ADJ_NOUN',\n",
       "       'ADJ_VERB', 'ADJ_ADV', 'ADJ_.', 'ADJ_ADP', 'ADJ_NUM', 'ADJ_PRON',\n",
       "       'ADJ_PRT', 'ADJ_DET', 'ADJ_CONJ', 'ADJ_X', 'ADV_NOUN', 'ADV_VERB',\n",
       "       'ADV_ADJ', 'ADV_.', 'ADV_ADP'],\n",
       "      dtype='object')"
      ]
     },
     "execution_count": 7,
     "metadata": {},
     "output_type": "execute_result"
    }
   ],
   "source": [
    "syntax_columns[:50]"
   ]
  },
  {
   "cell_type": "code",
   "execution_count": 8,
   "metadata": {},
   "outputs": [],
   "source": [
    "embeddings_columns = feature_names[149:158]"
   ]
  },
  {
   "cell_type": "code",
   "execution_count": 9,
   "metadata": {},
   "outputs": [],
   "source": [
    "tfidf_unigrams_columns = feature_names[158:258]"
   ]
  },
  {
   "cell_type": "code",
   "execution_count": 10,
   "metadata": {},
   "outputs": [
    {
     "data": {
      "text/plain": [
       "Index(['also', 'alway', 'amaz', 'around', 'ask', 'back', 'bar', 'best',\n",
       "       'better', 'bit', 'buffet', 'burger', 'came', 'chees', 'chicken', 'come',\n",
       "       'could', 'day', 'definit', 'delici', 'dessert', 'dinner', 'dish',\n",
       "       'drink', 'eat', 'enjoy', 'even', 'everyth', 'experi', 'favorit',\n",
       "       'first', 'flavor', 'food', 'fresh', 'fri', 'friend', 'get', 'go',\n",
       "       'good', 'got', 'great', 'hour', 'know', 'like', 'littl', 'locat',\n",
       "       'look', 'lot', 'love', 'made'],\n",
       "      dtype='object')"
      ]
     },
     "execution_count": 10,
     "metadata": {},
     "output_type": "execute_result"
    }
   ],
   "source": [
    "tfidf_unigrams_columns[:50]"
   ]
  },
  {
   "cell_type": "code",
   "execution_count": 11,
   "metadata": {},
   "outputs": [],
   "source": [
    "tfidf_bigrams_columns = feature_names[258:358]"
   ]
  },
  {
   "cell_type": "code",
   "execution_count": 12,
   "metadata": {},
   "outputs": [
    {
     "data": {
      "text/plain": [
       "Index(['10 minut', '15 minut', '20 minut', 'also order', 'back tri',\n",
       "       'best part', 'ca wait', 'came back', 'chicken waffl', 'come back',\n",
       "       'cook perfectli', 'crab leg', 'custom servic', 'definit back',\n",
       "       'definit come', 'definit worth', 'dim sum', 'dine experi',\n",
       "       'even though', 'everi time', 'feel like', 'felt like', 'first time',\n",
       "       'foie gra', 'food came', 'food good', 'food great', 'food servic',\n",
       "       'french toast', 'fri chicken', 'fri rice', 'gave us', 'give place',\n",
       "       'go back', 'go wrong', 'good food', 'good servic', 'good thing',\n",
       "       'great food', 'great place', 'great servic', 'happi hour',\n",
       "       'highli recommend', 'ice cream', 'la vega', 'last night', 'last time',\n",
       "       'late night', 'like place', 'littl bit'],\n",
       "      dtype='object')"
      ]
     },
     "execution_count": 12,
     "metadata": {},
     "output_type": "execute_result"
    }
   ],
   "source": [
    "tfidf_bigrams_columns[:50]"
   ]
  },
  {
   "cell_type": "code",
   "execution_count": 13,
   "metadata": {},
   "outputs": [],
   "source": [
    "topics_columns = feature_names[358:458]"
   ]
  },
  {
   "cell_type": "markdown",
   "metadata": {},
   "source": [
    "#### Get the validation data"
   ]
  },
  {
   "cell_type": "code",
   "execution_count": 21,
   "metadata": {},
   "outputs": [],
   "source": [
    "from sklearn.ensemble import RandomForestClassifier\n",
    "import pickle\n",
    "import copy"
   ]
  },
  {
   "cell_type": "code",
   "execution_count": 22,
   "metadata": {},
   "outputs": [],
   "source": [
    "clf = RandomForestClassifier(n_estimators=1000,\n",
    "                             max_depth=3,\n",
    "                             min_samples_leaf=10,\n",
    "                             max_features=0.6,\n",
    "                             random_state=10191994,\n",
    "                             class_weight=\"balanced\",\n",
    "                             n_jobs=-1)"
   ]
  },
  {
   "cell_type": "code",
   "execution_count": 42,
   "metadata": {},
   "outputs": [],
   "source": [
    "X_train_ambiance = pickle.load(open(\"../../0_data/5_train_validation_test/X_train_ambiance_1050.pickle\", \"rb\"))\n",
    "y_train_ambiance = pickle.load(open(\"../../0_data/5_train_validation_test/y_train_ambiance_1050.pickle\", \"rb\"))\n",
    "X_validation_ambiance = pickle.load(open(\"../../0_data/5_train_validation_test/X_validation_ambiance_1050.pickle\", \"rb\"))\n",
    "y_validation_ambiance = pickle.load(open(\"../../0_data/5_train_validation_test/y_validation_ambiance_1050.pickle\", \"rb\"))\n",
    "X_test_ambiance = pickle.load(open(\"../../0_data/5_train_validation_test/X_test_ambiance_1050.pickle\", \"rb\"))\n",
    "y_test_ambiance = pickle.load(open(\"../../0_data/5_train_validation_test/y_test_ambiance_1050.pickle\", \"rb\"))"
   ]
  },
  {
   "cell_type": "code",
   "execution_count": 70,
   "metadata": {},
   "outputs": [],
   "source": [
    "def test_model(model, cat_list, train_x, train_y, test_x, test_y):\n",
    "    train_x_df = pd.DataFrame(train_x)\n",
    "    train_x_df.columns = [\"text\"] + list(feature_names)\n",
    "    test_x_df = pd.DataFrame(test_x)\n",
    "    test_x_df.columns = [\"text\"] + list(feature_names)\n",
    "    \n",
    "    tmp_train_df = pd.concat([train_x_df[x] for x in cat_list], axis=1)\n",
    "#     print(tmp_train_df.columns)\n",
    "    tmp_test_df = pd.concat([test_x_df[x] for x in cat_list], axis=1)\n",
    "    \n",
    "    tmp_model = copy.deepcopy(model)\n",
    "    tmp_model.fit(tmp_train_df, train_y)\n",
    "    \n",
    "#     return tmp_model\n",
    "    return (tmp_model, tmp_model.score(\n",
    "        tmp_test_df, test_y), tmp_test_df)"
   ]
  },
  {
   "cell_type": "code",
   "execution_count": 71,
   "metadata": {},
   "outputs": [
    {
     "data": {
      "text/html": [
       "<div>\n",
       "<style scoped>\n",
       "    .dataframe tbody tr th:only-of-type {\n",
       "        vertical-align: middle;\n",
       "    }\n",
       "\n",
       "    .dataframe tbody tr th {\n",
       "        vertical-align: top;\n",
       "    }\n",
       "\n",
       "    .dataframe thead th {\n",
       "        text-align: right;\n",
       "    }\n",
       "</style>\n",
       "<table border=\"1\" class=\"dataframe\">\n",
       "  <thead>\n",
       "    <tr style=\"text-align: right;\">\n",
       "      <th></th>\n",
       "      <th>food</th>\n",
       "      <th>service</th>\n",
       "      <th>price</th>\n",
       "      <th>ambiance</th>\n",
       "    </tr>\n",
       "  </thead>\n",
       "  <tbody>\n",
       "    <tr>\n",
       "      <th>count</th>\n",
       "      <td>1050.000000</td>\n",
       "      <td>1050.000000</td>\n",
       "      <td>1050.000000</td>\n",
       "      <td>1050.000000</td>\n",
       "    </tr>\n",
       "    <tr>\n",
       "      <th>mean</th>\n",
       "      <td>0.908571</td>\n",
       "      <td>0.637143</td>\n",
       "      <td>0.263810</td>\n",
       "      <td>0.404762</td>\n",
       "    </tr>\n",
       "    <tr>\n",
       "      <th>std</th>\n",
       "      <td>0.288355</td>\n",
       "      <td>0.481053</td>\n",
       "      <td>0.440907</td>\n",
       "      <td>0.491080</td>\n",
       "    </tr>\n",
       "    <tr>\n",
       "      <th>min</th>\n",
       "      <td>0.000000</td>\n",
       "      <td>0.000000</td>\n",
       "      <td>0.000000</td>\n",
       "      <td>0.000000</td>\n",
       "    </tr>\n",
       "    <tr>\n",
       "      <th>25%</th>\n",
       "      <td>1.000000</td>\n",
       "      <td>0.000000</td>\n",
       "      <td>0.000000</td>\n",
       "      <td>0.000000</td>\n",
       "    </tr>\n",
       "    <tr>\n",
       "      <th>50%</th>\n",
       "      <td>1.000000</td>\n",
       "      <td>1.000000</td>\n",
       "      <td>0.000000</td>\n",
       "      <td>0.000000</td>\n",
       "    </tr>\n",
       "    <tr>\n",
       "      <th>75%</th>\n",
       "      <td>1.000000</td>\n",
       "      <td>1.000000</td>\n",
       "      <td>1.000000</td>\n",
       "      <td>1.000000</td>\n",
       "    </tr>\n",
       "    <tr>\n",
       "      <th>max</th>\n",
       "      <td>1.000000</td>\n",
       "      <td>1.000000</td>\n",
       "      <td>1.000000</td>\n",
       "      <td>1.000000</td>\n",
       "    </tr>\n",
       "  </tbody>\n",
       "</table>\n",
       "</div>"
      ],
      "text/plain": [
       "              food      service        price     ambiance\n",
       "count  1050.000000  1050.000000  1050.000000  1050.000000\n",
       "mean      0.908571     0.637143     0.263810     0.404762\n",
       "std       0.288355     0.481053     0.440907     0.491080\n",
       "min       0.000000     0.000000     0.000000     0.000000\n",
       "25%       1.000000     0.000000     0.000000     0.000000\n",
       "50%       1.000000     1.000000     0.000000     0.000000\n",
       "75%       1.000000     1.000000     1.000000     1.000000\n",
       "max       1.000000     1.000000     1.000000     1.000000"
      ]
     },
     "execution_count": 71,
     "metadata": {},
     "output_type": "execute_result"
    }
   ],
   "source": [
    "data.describe()"
   ]
  },
  {
   "cell_type": "code",
   "execution_count": 72,
   "metadata": {},
   "outputs": [],
   "source": [
    "from sklearn.metrics import precision_recall_fscore_support, confusion_matrix"
   ]
  },
  {
   "cell_type": "code",
   "execution_count": 74,
   "metadata": {},
   "outputs": [
    {
     "name": "stderr",
     "output_type": "stream",
     "text": [
      "/home/richard/anaconda3/envs/insight/lib/python3.7/site-packages/ipykernel_launcher.py:12: DataConversionWarning: A column-vector y was passed when a 1d array was expected. Please change the shape of y to (n_samples,), for example using ravel().\n",
      "  if sys.path[0] == '':\n",
      "/home/richard/anaconda3/envs/insight/lib/python3.7/site-packages/ipykernel_launcher.py:12: DataConversionWarning: A column-vector y was passed when a 1d array was expected. Please change the shape of y to (n_samples,), for example using ravel().\n",
      "  if sys.path[0] == '':\n",
      "/home/richard/anaconda3/envs/insight/lib/python3.7/site-packages/ipykernel_launcher.py:12: DataConversionWarning: A column-vector y was passed when a 1d array was expected. Please change the shape of y to (n_samples,), for example using ravel().\n",
      "  if sys.path[0] == '':\n",
      "/home/richard/anaconda3/envs/insight/lib/python3.7/site-packages/ipykernel_launcher.py:12: DataConversionWarning: A column-vector y was passed when a 1d array was expected. Please change the shape of y to (n_samples,), for example using ravel().\n",
      "  if sys.path[0] == '':\n",
      "/home/richard/anaconda3/envs/insight/lib/python3.7/site-packages/ipykernel_launcher.py:12: DataConversionWarning: A column-vector y was passed when a 1d array was expected. Please change the shape of y to (n_samples,), for example using ravel().\n",
      "  if sys.path[0] == '':\n"
     ]
    }
   ],
   "source": [
    "ambiance_clf1, ambiance_syntax, ambiance_test1 = test_model(clf, [syntax_columns], X_train_ambiance, y_train_ambiance, X_test_ambiance, y_test_ambiance)\n",
    "ambiance_clf2, ambiance_metadata, ambiance_test2 = test_model(clf, [metadata_columns, syntax_columns], X_train_ambiance, y_train_ambiance, X_test_ambiance, y_test_ambiance)\n",
    "ambiance_clf3, ambiance_tfidf, ambiance_test3 = test_model(clf, [metadata_columns, syntax_columns, tfidf_unigrams_columns, tfidf_bigrams_columns], X_train_ambiance, y_train_ambiance, X_test_ambiance, y_test_ambiance)\n",
    "ambiance_clf4, ambiance_topics, ambiance_test4 = test_model(clf, [metadata_columns, syntax_columns, tfidf_unigrams_columns, tfidf_bigrams_columns, topics_columns], X_train_ambiance, y_train_ambiance, X_test_ambiance, y_test_ambiance)\n",
    "ambiance_clf5, ambiance_embeddings, ambiance_test5 = test_model(clf, [metadata_columns, syntax_columns, tfidf_unigrams_columns, tfidf_bigrams_columns, topics_columns, embeddings_columns], X_train_ambiance, y_train_ambiance, X_test_ambiance, y_test_ambiance)\n",
    "ambiance_p = pickle.load(open(\"../../4_models/rf_ambiance_4iterations_athreshold_5000_200_1050.pickle\", \"rb\"))\n",
    "ambiance_pseudolabel = ambiance_p.score(X_test_ambiance[:, 1:], y_test_ambiance)"
   ]
  },
  {
   "cell_type": "code",
   "execution_count": 28,
   "metadata": {},
   "outputs": [
    {
     "data": {
      "text/plain": [
       "array([[106,  19],\n",
       "       [ 25,  60]])"
      ]
     },
     "execution_count": 28,
     "metadata": {},
     "output_type": "execute_result"
    }
   ],
   "source": [
    "confusion_matrix(y_test_ambiance, ambiance_p.predict(X_test_ambiance[:, 1:]))"
   ]
  },
  {
   "cell_type": "code",
   "execution_count": 29,
   "metadata": {},
   "outputs": [
    {
     "data": {
      "text/plain": [
       "(array([0.80916031, 0.75949367]),\n",
       " array([0.848     , 0.70588235]),\n",
       " array([0.828125  , 0.73170732]),\n",
       " array([125,  85]))"
      ]
     },
     "execution_count": 29,
     "metadata": {},
     "output_type": "execute_result"
    }
   ],
   "source": [
    "precision_recall_fscore_support(y_test_ambiance, ambiance_p.predict(X_test_ambiance[:, 1:]))"
   ]
  },
  {
   "cell_type": "code",
   "execution_count": 30,
   "metadata": {},
   "outputs": [],
   "source": [
    "ambiance = [ambiance_syntax, ambiance_metadata, ambiance_tfidf, ambiance_topics, ambiance_embeddings, ambiance_pseudolabel]"
   ]
  },
  {
   "cell_type": "code",
   "execution_count": 75,
   "metadata": {},
   "outputs": [
    {
     "data": {
      "text/plain": [
       "0.780952380952381"
      ]
     },
     "execution_count": 75,
     "metadata": {},
     "output_type": "execute_result"
    }
   ],
   "source": [
    "ambiance_clf5.score(ambiance_test5, y_test_ambiance)"
   ]
  },
  {
   "cell_type": "code",
   "execution_count": 76,
   "metadata": {},
   "outputs": [
    {
     "data": {
      "text/plain": [
       "Index(['sen_len', 'sen_avg_len', 'sen_med_len', 'sen_money_len', 'sen_num_len',\n",
       "       'NOUN', 'VERB', 'ADJ', 'ADV', '.',\n",
       "       ...\n",
       "       'topic_99', 'food_3avg_sim', 'delicious_3avg_sim', 'service_3avg_sim',\n",
       "       'staff_3avg_sim', 'price_3avg_similarity', 'cost_3avg_similarity',\n",
       "       'ambiance_3avg_similarity', 'patio_3avg_similarity',\n",
       "       'loud_3avg_similarity'],\n",
       "      dtype='object', length=458)"
      ]
     },
     "execution_count": 76,
     "metadata": {},
     "output_type": "execute_result"
    }
   ],
   "source": [
    "ambiance_test5.columns"
   ]
  },
  {
   "cell_type": "code",
   "execution_count": 77,
   "metadata": {},
   "outputs": [
    {
     "data": {
      "text/plain": [
       "[0.5857142857142857,\n",
       " 0.5857142857142857,\n",
       " 0.6238095238095238,\n",
       " 0.7095238095238096,\n",
       " 0.780952380952381,\n",
       " 0.7904761904761904]"
      ]
     },
     "execution_count": 77,
     "metadata": {},
     "output_type": "execute_result"
    }
   ],
   "source": [
    "ambiance"
   ]
  },
  {
   "cell_type": "code",
   "execution_count": null,
   "metadata": {},
   "outputs": [],
   "source": [
    "X_train_service = pickle.load(open(\"../../0_data/5_train_validation_test/X_train_service_1050.pickle\", \"rb\"))\n",
    "y_train_service = pickle.load(open(\"../../0_data/5_train_validation_test/y_train_service_1050.pickle\", \"rb\"))\n",
    "X_validation_service = pickle.load(open(\"../../0_data/5_train_validation_test/X_validation_service_1050.pickle\", \"rb\"))\n",
    "y_validation_service = pickle.load(open(\"../../0_data/5_train_validation_test/y_validation_service_1050.pickle\", \"rb\"))\n",
    "X_test_service = pickle.load(open(\"../../0_data/5_train_validation_test/X_test_service_1050.pickle\", \"rb\"))\n",
    "y_test_service = pickle.load(open(\"../../0_data/5_train_validation_test/y_test_service_1050.pickle\", \"rb\"))\n",
    "\n",
    "service_clf1, service_syntax = test_model(clf, [syntax_columns], X_train_service, y_train_service, X_test_service, y_test_service)\n",
    "service_clf2, service_metadata = test_model(clf, [metadata_columns, syntax_columns], X_train_service, y_train_service, X_test_service, y_test_service)\n",
    "service_clf3, service_tfidf = test_model(clf, [metadata_columns, syntax_columns, tfidf_unigrams_columns, tfidf_bigrams_columns], X_train_service, y_train_service, X_test_service, y_test_service)\n",
    "service_clf4, service_topics = test_model(clf, [metadata_columns, syntax_columns, tfidf_unigrams_columns, tfidf_bigrams_columns, topics_columns], X_train_service, y_train_service, X_test_service, y_test_service)\n",
    "service_clf5, service_embeddings = test_model(clf, [metadata_columns, syntax_columns, tfidf_unigrams_columns, tfidf_bigrams_columns, topics_columns, embeddings_columns], X_train_service, y_train_service, X_test_service, y_test_service)\n",
    "service_p = pickle.load(open(\"../../4_models/rf_service_4iterations_athreshold_5000_200_1050.pickle\", \"rb\"))\n",
    "service_pseudolabel = service_p.score(X_test_service[:, 1:], y_test_service)\n",
    "\n",
    "service = [service_syntax, service_metadata, service_tfidf, service_topics, service_embeddings, service_pseudolabel]"
   ]
  },
  {
   "cell_type": "code",
   "execution_count": null,
   "metadata": {},
   "outputs": [],
   "source": [
    "precision_recall_fscore_support(y_test_service, service_p.predict(X_test_service[:, 1:]))"
   ]
  },
  {
   "cell_type": "code",
   "execution_count": null,
   "metadata": {},
   "outputs": [],
   "source": [
    "service_clf5.score(X_test_service[:, 1:], y_test_service)"
   ]
  },
  {
   "cell_type": "code",
   "execution_count": null,
   "metadata": {},
   "outputs": [],
   "source": [
    "service"
   ]
  },
  {
   "cell_type": "code",
   "execution_count": null,
   "metadata": {},
   "outputs": [],
   "source": [
    "X_train_price = pickle.load(open(\"../../0_data/5_train_validation_test/X_train_price_1050.pickle\", \"rb\"))\n",
    "y_train_price = pickle.load(open(\"../../0_data/5_train_validation_test/y_train_price_1050.pickle\", \"rb\"))\n",
    "X_validation_price = pickle.load(open(\"../../0_data/5_train_validation_test/X_validation_price_1050.pickle\", \"rb\"))\n",
    "y_validation_price = pickle.load(open(\"../../0_data/5_train_validation_test/y_validation_price_1050.pickle\", \"rb\"))\n",
    "X_test_price = pickle.load(open(\"../../0_data/5_train_validation_test/X_test_price_1050.pickle\", \"rb\"))\n",
    "y_test_price = pickle.load(open(\"../../0_data/5_train_validation_test/y_test_price_1050.pickle\", \"rb\"))\n",
    "\n",
    "price_clf1, price_syntax = test_model(clf, [syntax_columns], X_train_price, y_train_price, X_test_price, y_test_price)\n",
    "price_clf2, price_metadata = test_model(clf, [metadata_columns, syntax_columns], X_train_price, y_train_price, X_test_price, y_test_price)\n",
    "price_clf3, price_tfidf = test_model(clf, [metadata_columns, syntax_columns, tfidf_unigrams_columns, tfidf_bigrams_columns], X_train_price, y_train_price, X_test_price, y_test_price)\n",
    "price_clf4, price_topics = test_model(clf, [metadata_columns, syntax_columns, tfidf_unigrams_columns, tfidf_bigrams_columns, topics_columns], X_train_price, y_train_price, X_test_price, y_test_price)\n",
    "price_clf5, price_embeddings = test_model(clf, [metadata_columns, syntax_columns, tfidf_unigrams_columns, tfidf_bigrams_columns, topics_columns, embeddings_columns], X_train_price, y_train_price, X_test_price, y_test_price)\n",
    "price_p = pickle.load(open(\"../../4_models/rf_price_4iterations_athreshold_5000_200_1050.pickle\", \"rb\"))\n",
    "price_pseudolabel = price_p.score(X_test_price[:, 1:], y_test_price)\n",
    "\n",
    "price = [price_syntax, price_metadata, price_tfidf, price_topics, price_embeddings, price_pseudolabel]"
   ]
  },
  {
   "cell_type": "code",
   "execution_count": null,
   "metadata": {},
   "outputs": [],
   "source": [
    "confusion_matrix(y_test_price, price_p.predict(X_test_price[:, 1:]))"
   ]
  },
  {
   "cell_type": "code",
   "execution_count": null,
   "metadata": {},
   "outputs": [],
   "source": [
    "45/68"
   ]
  },
  {
   "cell_type": "code",
   "execution_count": null,
   "metadata": {},
   "outputs": [],
   "source": [
    "precision_recall_fscore_support(y_test_price, price_p.predict(X_test_price[:, 1:]))"
   ]
  },
  {
   "cell_type": "code",
   "execution_count": null,
   "metadata": {},
   "outputs": [],
   "source": [
    "price"
   ]
  },
  {
   "cell_type": "code",
   "execution_count": null,
   "metadata": {},
   "outputs": [],
   "source": [
    "X_train_food = pickle.load(open(\"../../0_data/5_train_validation_test/X_train_food_1050.pickle\", \"rb\"))\n",
    "y_train_food = pickle.load(open(\"../../0_data/5_train_validation_test/y_train_food_1050.pickle\", \"rb\"))\n",
    "X_validation_food = pickle.load(open(\"../../0_data/5_train_validation_test/X_validation_food_1050.pickle\", \"rb\"))\n",
    "y_validation_food = pickle.load(open(\"../../0_data/5_train_validation_test/y_validation_food_1050.pickle\", \"rb\"))\n",
    "X_test_food = pickle.load(open(\"../../0_data/5_train_validation_test/X_test_food_1050.pickle\", \"rb\"))\n",
    "y_test_food = pickle.load(open(\"../../0_data/5_train_validation_test/y_test_food_1050.pickle\", \"rb\"))\n",
    "\n",
    "food_clf1, food_syntax = test_model(clf, [syntax_columns], X_train_food, y_train_food, X_test_food, y_test_food)\n",
    "food_clf2, food_metadata = test_model(clf, [metadata_columns, syntax_columns], X_train_food, y_train_food, X_test_food, y_test_food)\n",
    "food_clf3, food_tfidf = test_model(clf, [metadata_columns, syntax_columns, tfidf_unigrams_columns, tfidf_bigrams_columns], X_train_food, y_train_food, X_test_food, y_test_food)\n",
    "food_clf4, food_topics = test_model(clf, [metadata_columns, syntax_columns, tfidf_unigrams_columns, tfidf_bigrams_columns, topics_columns], X_train_food, y_train_food, X_test_food, y_test_food)\n",
    "food_clf5, food_embeddings = test_model(clf, [metadata_columns, syntax_columns, tfidf_unigrams_columns, tfidf_bigrams_columns, topics_columns, embeddings_columns], X_train_food, y_train_food, X_test_food, y_test_food)\n",
    "food_p = pickle.load(open(\"../../4_models/rf_food_4iterations_athreshold_5000_200_1050.pickle\", \"rb\"))\n",
    "food_pseudolabel = food_p.score(X_test_food[:, 1:], y_test_food)\n",
    "\n",
    "food = [food_syntax, food_metadata, food_tfidf, food_topics, food_embeddings, food_pseudolabel]"
   ]
  },
  {
   "cell_type": "code",
   "execution_count": null,
   "metadata": {},
   "outputs": [],
   "source": [
    "confusion_matrix(y_test_food, food_p.predict(X_test_food[:, 1:]))"
   ]
  },
  {
   "cell_type": "code",
   "execution_count": null,
   "metadata": {},
   "outputs": [],
   "source": [
    "precision_recall_fscore_support(y_test_food, food_p.predict(X_test_food[:, 1:]))"
   ]
  },
  {
   "cell_type": "code",
   "execution_count": null,
   "metadata": {},
   "outputs": [],
   "source": [
    "food"
   ]
  },
  {
   "cell_type": "code",
   "execution_count": null,
   "metadata": {},
   "outputs": [],
   "source": [
    "df = pd.DataFrame({\"features\": [\"1 [Syntax]\",\n",
    "                                \"2 [+ Metadata]\",\n",
    "                                \"3 [+ TF-IDF]\",\n",
    "                                \"4 [+ Topics]\",\n",
    "                                \"5 [+ Embeddings]\",\n",
    "                                \"6 [Pseudo-Label]\"],\n",
    "                   \"food\": food,\n",
    "                   \"service\": service,\n",
    "                   \"price\": price,\n",
    "                   \"ambiance\": ambiance})"
   ]
  },
  {
   "cell_type": "code",
   "execution_count": null,
   "metadata": {},
   "outputs": [],
   "source": [
    "import matplotlib.pyplot as plt\n",
    "import seaborn as sns"
   ]
  },
  {
   "cell_type": "code",
   "execution_count": null,
   "metadata": {},
   "outputs": [],
   "source": [
    "f, ax = plt.subplots()\n",
    "sns.lineplot(x=\"features\", y=\"food\", markers=True, data=df,\n",
    "             color=\"blue\", label=\"food\")\n",
    "sns.lineplot(x=\"features\", y=\"service\", markers=True, data=df,\n",
    "             color=\"red\", label=\"service\")\n",
    "sns.lineplot(x=\"features\", y=\"price\", markers=True, data=df,\n",
    "             color=\"green\", label=\"price\")\n",
    "sns.lineplot(x=\"features\", y=\"ambiance\", markers=True, data=df,\n",
    "             color=\"orange\", label=\"ambiance\")\n",
    "plt.setp(ax.get_xticklabels(), rotation=30)\n",
    "ax.set(ylabel=\"Accuracy\", xlabel=\"Model\", ylim=(0.4, 1))\n",
    "ax.legend(ncol=2, loc=\"lower right\", frameon=True)\n",
    "ax.grid(True)\n",
    "sns.despine(left=True, bottom=True)\n",
    "plt.tight_layout()\n",
    "plt.savefig(\"../../3_reports/figures/model_accuracy_20190620.eps\", format='eps', dpi=1000)"
   ]
  },
  {
   "cell_type": "code",
   "execution_count": null,
   "metadata": {},
   "outputs": [],
   "source": [
    "f, ax = plt.subplots()\n",
    "sns.lineplot(x=\"features\", y=\"food\", markers=True, data=df,\n",
    "             color=\"blue\", label=\"food\")\n",
    "plt.setp(ax.get_xticklabels(), rotation=30)\n",
    "ax.set(ylabel=\"Accuracy\", xlabel=\"Model\", ylim=(0.4, 1))\n",
    "ax.legend(ncol=2, loc=\"lower right\", frameon=True)\n",
    "ax.grid(True)\n",
    "sns.despine(left=True, bottom=True)\n",
    "plt.tight_layout()\n",
    "plt.savefig(\"../../3_reports/figures/food_model_accuracy_20190620.eps\", format='eps', dpi=1000)"
   ]
  },
  {
   "cell_type": "code",
   "execution_count": null,
   "metadata": {},
   "outputs": [],
   "source": [
    "f, ax = plt.subplots()\n",
    "sns.lineplot(x=\"features\", y=\"service\", markers=True, data=df,\n",
    "             color=\"red\", label=\"service\")\n",
    "plt.setp(ax.get_xticklabels(), rotation=30)\n",
    "ax.set(ylabel=\"Accuracy\", xlabel=\"Model\", ylim=(0.4, 1))\n",
    "ax.legend(ncol=2, loc=\"lower right\", frameon=True)\n",
    "ax.grid(True)\n",
    "sns.despine(left=True, bottom=True)\n",
    "plt.tight_layout()\n",
    "plt.savefig(\"../../3_reports/figures/service_model_accuracy_20190620.eps\", format='eps', dpi=1000)"
   ]
  },
  {
   "cell_type": "code",
   "execution_count": null,
   "metadata": {},
   "outputs": [],
   "source": [
    "f, ax = plt.subplots()\n",
    "sns.lineplot(x=\"features\", y=\"price\", markers=True, data=df,\n",
    "             color=\"green\", label=\"price\")\n",
    "plt.setp(ax.get_xticklabels(), rotation=30)\n",
    "ax.set(ylabel=\"Accuracy\", xlabel=\"Model\", ylim=(0.4, 1))\n",
    "ax.legend(ncol=2, loc=\"lower right\", frameon=True)\n",
    "ax.grid(True)\n",
    "sns.despine(left=True, bottom=True)\n",
    "plt.tight_layout()\n",
    "plt.savefig(\"../../3_reports/figures/price_model_accuracy_20190620.eps\", format='eps', dpi=1000)"
   ]
  },
  {
   "cell_type": "code",
   "execution_count": null,
   "metadata": {},
   "outputs": [],
   "source": [
    "f, ax = plt.subplots()\n",
    "sns.lineplot(x=\"features\", y=\"ambiance\", markers=True, data=df,\n",
    "             color=\"orange\", label=\"ambiance\")\n",
    "plt.setp(ax.get_xticklabels(), rotation=30)\n",
    "ax.set(ylabel=\"Accuracy\", xlabel=\"Model\", ylim=(0.4, 1))\n",
    "ax.legend(ncol=2, loc=\"lower right\", frameon=True)\n",
    "ax.grid(True)\n",
    "sns.despine(left=True, bottom=True)\n",
    "plt.tight_layout()\n",
    "plt.savefig(\"../../3_reports/figures/ambiance_model_accuracy_20190620.eps\", format='eps', dpi=1000)"
   ]
  },
  {
   "cell_type": "markdown",
   "metadata": {},
   "source": [
    "#### Features"
   ]
  },
  {
   "cell_type": "code",
   "execution_count": 78,
   "metadata": {},
   "outputs": [
    {
     "data": {
      "text/html": [
       "<div>\n",
       "<style scoped>\n",
       "    .dataframe tbody tr th:only-of-type {\n",
       "        vertical-align: middle;\n",
       "    }\n",
       "\n",
       "    .dataframe tbody tr th {\n",
       "        vertical-align: top;\n",
       "    }\n",
       "\n",
       "    .dataframe thead th {\n",
       "        text-align: right;\n",
       "    }\n",
       "</style>\n",
       "<table border=\"1\" class=\"dataframe\">\n",
       "  <thead>\n",
       "    <tr style=\"text-align: right;\">\n",
       "      <th></th>\n",
       "      <th>feature</th>\n",
       "      <th>importance</th>\n",
       "    </tr>\n",
       "  </thead>\n",
       "  <tbody>\n",
       "    <tr>\n",
       "      <th>0</th>\n",
       "      <td>ambiance_3avg_similarity</td>\n",
       "      <td>0.440235</td>\n",
       "    </tr>\n",
       "    <tr>\n",
       "      <th>1</th>\n",
       "      <td>patio_3avg_similarity</td>\n",
       "      <td>0.274558</td>\n",
       "    </tr>\n",
       "    <tr>\n",
       "      <th>2</th>\n",
       "      <td>loud_3avg_similarity</td>\n",
       "      <td>0.141364</td>\n",
       "    </tr>\n",
       "    <tr>\n",
       "      <th>3</th>\n",
       "      <td>topic_0</td>\n",
       "      <td>0.025897</td>\n",
       "    </tr>\n",
       "    <tr>\n",
       "      <th>4</th>\n",
       "      <td>topic_8</td>\n",
       "      <td>0.005998</td>\n",
       "    </tr>\n",
       "    <tr>\n",
       "      <th>5</th>\n",
       "      <td>topic_25</td>\n",
       "      <td>0.005656</td>\n",
       "    </tr>\n",
       "    <tr>\n",
       "      <th>6</th>\n",
       "      <td>say</td>\n",
       "      <td>0.005603</td>\n",
       "    </tr>\n",
       "    <tr>\n",
       "      <th>7</th>\n",
       "      <td>topic_30</td>\n",
       "      <td>0.005133</td>\n",
       "    </tr>\n",
       "    <tr>\n",
       "      <th>8</th>\n",
       "      <td>staff_3avg_sim</td>\n",
       "      <td>0.004355</td>\n",
       "    </tr>\n",
       "    <tr>\n",
       "      <th>9</th>\n",
       "      <td>topic_22</td>\n",
       "      <td>0.003969</td>\n",
       "    </tr>\n",
       "    <tr>\n",
       "      <th>10</th>\n",
       "      <td>topic_94</td>\n",
       "      <td>0.003450</td>\n",
       "    </tr>\n",
       "    <tr>\n",
       "      <th>11</th>\n",
       "      <td>topic_70</td>\n",
       "      <td>0.003312</td>\n",
       "    </tr>\n",
       "    <tr>\n",
       "      <th>12</th>\n",
       "      <td>topic_13</td>\n",
       "      <td>0.003300</td>\n",
       "    </tr>\n",
       "    <tr>\n",
       "      <th>13</th>\n",
       "      <td>food_3avg_sim</td>\n",
       "      <td>0.002572</td>\n",
       "    </tr>\n",
       "    <tr>\n",
       "      <th>14</th>\n",
       "      <td>service_3avg_sim</td>\n",
       "      <td>0.002561</td>\n",
       "    </tr>\n",
       "    <tr>\n",
       "      <th>15</th>\n",
       "      <td>ask</td>\n",
       "      <td>0.002426</td>\n",
       "    </tr>\n",
       "    <tr>\n",
       "      <th>16</th>\n",
       "      <td>VERB</td>\n",
       "      <td>0.001902</td>\n",
       "    </tr>\n",
       "    <tr>\n",
       "      <th>17</th>\n",
       "      <td>topic_91</td>\n",
       "      <td>0.001815</td>\n",
       "    </tr>\n",
       "    <tr>\n",
       "      <th>18</th>\n",
       "      <td>topic_50</td>\n",
       "      <td>0.001573</td>\n",
       "    </tr>\n",
       "    <tr>\n",
       "      <th>19</th>\n",
       "      <td>topic_84</td>\n",
       "      <td>0.001548</td>\n",
       "    </tr>\n",
       "  </tbody>\n",
       "</table>\n",
       "</div>"
      ],
      "text/plain": [
       "                     feature  importance\n",
       "0   ambiance_3avg_similarity    0.440235\n",
       "1      patio_3avg_similarity    0.274558\n",
       "2       loud_3avg_similarity    0.141364\n",
       "3                    topic_0    0.025897\n",
       "4                    topic_8    0.005998\n",
       "5                   topic_25    0.005656\n",
       "6                        say    0.005603\n",
       "7                   topic_30    0.005133\n",
       "8             staff_3avg_sim    0.004355\n",
       "9                   topic_22    0.003969\n",
       "10                  topic_94    0.003450\n",
       "11                  topic_70    0.003312\n",
       "12                  topic_13    0.003300\n",
       "13             food_3avg_sim    0.002572\n",
       "14          service_3avg_sim    0.002561\n",
       "15                       ask    0.002426\n",
       "16                      VERB    0.001902\n",
       "17                  topic_91    0.001815\n",
       "18                  topic_50    0.001573\n",
       "19                  topic_84    0.001548"
      ]
     },
     "execution_count": 78,
     "metadata": {},
     "output_type": "execute_result"
    }
   ],
   "source": [
    "ambiance_embeddings_df = pd.DataFrame(sorted(list(zip(ambiance_test.columns, ambiance_clf5.feature_importances_)), key=lambda x: -x[1]))\n",
    "ambiance_embeddings_df.columns = [\"feature\", \"importance\"]\n",
    "ambiance_embeddings_tmp_df = ambiance_embeddings_df.iloc[:20, :]\n",
    "ambiance_embeddings_tmp_df"
   ]
  },
  {
   "cell_type": "code",
   "execution_count": 79,
   "metadata": {},
   "outputs": [],
   "source": [
    "ambiance_p_df = pd.DataFrame(sorted(list(zip(feature_names, ambiance_p.feature_importances_)), key=lambda x: -x[1]))\n",
    "ambiance_p_df.columns = [\"feature\", \"importance\"]"
   ]
  },
  {
   "cell_type": "code",
   "execution_count": 80,
   "metadata": {},
   "outputs": [],
   "source": [
    "ambiance_p_tmp_df = ambiance_p_df.iloc[:6,:]"
   ]
  },
  {
   "cell_type": "code",
   "execution_count": 81,
   "metadata": {},
   "outputs": [
    {
     "data": {
      "text/html": [
       "<div>\n",
       "<style scoped>\n",
       "    .dataframe tbody tr th:only-of-type {\n",
       "        vertical-align: middle;\n",
       "    }\n",
       "\n",
       "    .dataframe tbody tr th {\n",
       "        vertical-align: top;\n",
       "    }\n",
       "\n",
       "    .dataframe thead th {\n",
       "        text-align: right;\n",
       "    }\n",
       "</style>\n",
       "<table border=\"1\" class=\"dataframe\">\n",
       "  <thead>\n",
       "    <tr style=\"text-align: right;\">\n",
       "      <th></th>\n",
       "      <th>feature</th>\n",
       "      <th>importance</th>\n",
       "    </tr>\n",
       "  </thead>\n",
       "  <tbody>\n",
       "    <tr>\n",
       "      <th>0</th>\n",
       "      <td>ambiance_3avg_similarity</td>\n",
       "      <td>0.511294</td>\n",
       "    </tr>\n",
       "    <tr>\n",
       "      <th>1</th>\n",
       "      <td>patio_3avg_similarity</td>\n",
       "      <td>0.216590</td>\n",
       "    </tr>\n",
       "    <tr>\n",
       "      <th>2</th>\n",
       "      <td>loud_3avg_similarity</td>\n",
       "      <td>0.141713</td>\n",
       "    </tr>\n",
       "    <tr>\n",
       "      <th>3</th>\n",
       "      <td>topic_0</td>\n",
       "      <td>0.034299</td>\n",
       "    </tr>\n",
       "    <tr>\n",
       "      <th>4</th>\n",
       "      <td>say</td>\n",
       "      <td>0.006216</td>\n",
       "    </tr>\n",
       "    <tr>\n",
       "      <th>5</th>\n",
       "      <td>topic_8</td>\n",
       "      <td>0.005607</td>\n",
       "    </tr>\n",
       "  </tbody>\n",
       "</table>\n",
       "</div>"
      ],
      "text/plain": [
       "                    feature  importance\n",
       "0  ambiance_3avg_similarity    0.511294\n",
       "1     patio_3avg_similarity    0.216590\n",
       "2      loud_3avg_similarity    0.141713\n",
       "3                   topic_0    0.034299\n",
       "4                       say    0.006216\n",
       "5                   topic_8    0.005607"
      ]
     },
     "execution_count": 81,
     "metadata": {},
     "output_type": "execute_result"
    }
   ],
   "source": [
    "ambiance_p_tmp_df"
   ]
  },
  {
   "cell_type": "code",
   "execution_count": null,
   "metadata": {},
   "outputs": [],
   "source": [
    "ambiance_p_tmp_df[\"feature_name\"] = [\"Sim. to Ambiance\",\n",
    "                                     \"Sim. to Patio\",\n",
    "                                     \"Sim. to Loud\",\n",
    "                                     \"Topic: Atmosphere\",\n",
    "                                     \"Say\",\n",
    "                                     \"Topic: Interior\"]"
   ]
  },
  {
   "cell_type": "code",
   "execution_count": null,
   "metadata": {},
   "outputs": [],
   "source": [
    "f, ax = plt.subplots()\n",
    "ax = sns.barplot(y=\"feature_name\", x=\"importance\", data=ambiance_p_tmp_df,\n",
    "                 palette=[\"orange\", \"orange\", \"orange\", \"lightgray\", \"lightgray\", \"lightgray\"])\n",
    "ax.set(xlabel=\"Importance\", ylabel=\"Feature\", xlim=(0, 0.6), title=\"Top Six Features\")\n",
    "plt.tight_layout()\n",
    "plt.savefig(\"../../3_reports/figures/ambiance_fi_20190620_embeddings.eps\", format=\"eps\", dpi=1000)"
   ]
  },
  {
   "cell_type": "code",
   "execution_count": null,
   "metadata": {},
   "outputs": [],
   "source": [
    "service_p_df = pd.DataFrame(sorted(list(zip(feature_names, service_p.feature_importances_)), key=lambda x: -x[1]))\n",
    "service_p_df.columns = [\"feature\", \"importance\"]\n",
    "service_p_tmp_df = service_p_df.iloc[:6, :]\n",
    "service_p_tmp_df[\"feature_name\"] = [\"Sim. to Service\",\n",
    "                                    \"Sim. to Staff\",\n",
    "                                    \"Servic\",\n",
    "                                    \"Topic: Order\",\n",
    "                                    \"Topic: Waitress\",\n",
    "                                    \"Topic: Wait\"]"
   ]
  },
  {
   "cell_type": "code",
   "execution_count": null,
   "metadata": {},
   "outputs": [],
   "source": [
    "f, ax = plt.subplots()\n",
    "ax = sns.barplot(y=\"feature_name\", x=\"importance\", data=service_p_tmp_df,\n",
    "                 palette=[\"lightgray\", \"lightgray\", \"lightgray\", \"lightgray\", \"lightgray\", \"lightgray\"])\n",
    "ax.set(xlabel=\"Importance\", ylabel=\"Feature\", xlim=(0, 0.6), title=\"Top Six Features\")\n",
    "plt.tight_layout()\n",
    "plt.savefig(\"../../3_reports/figures/service_fi_20190620_gray.eps\", format=\"eps\", dpi=1000)"
   ]
  },
  {
   "cell_type": "code",
   "execution_count": null,
   "metadata": {},
   "outputs": [],
   "source": [
    "price_p_df = pd.DataFrame(sorted(list(zip(feature_names, price_p.feature_importances_)), key=lambda x: -x[1]))\n",
    "price_p_df.columns = [\"feature\", \"importance\"]\n",
    "price_p_tmp_df = price_p_df.iloc[:6, :]\n",
    "price_p_tmp_df[\"feature_name\"] = [\"Sim. to Price\",\n",
    "                                  \"Sim. to Cost\",\n",
    "                                  \"Price\",\n",
    "                                  \"(NUM, ADP)\",\n",
    "                                  \"(NUM, PRT)\",\n",
    "                                  \"$%\"]"
   ]
  },
  {
   "cell_type": "code",
   "execution_count": null,
   "metadata": {},
   "outputs": [],
   "source": [
    "f, ax = plt.subplots()\n",
    "ax = sns.barplot(y=\"feature_name\", x=\"importance\", data=price_p_tmp_df,\n",
    "                 palette=[\"lightgray\", \"lightgray\", \"lightgray\", \"green\", \"green\", \"green\"])\n",
    "ax.set(xlabel=\"Importance\", ylabel=\"Feature\", xlim=(0, 0.6), title=\"Top Six Features\")\n",
    "plt.tight_layout()\n",
    "plt.savefig(\"../../3_reports/figures/price_fi_20190620_num_symbol.eps\", format=\"eps\", dpi=1000)"
   ]
  },
  {
   "cell_type": "code",
   "execution_count": null,
   "metadata": {},
   "outputs": [],
   "source": [
    "food_p_df = pd.DataFrame(sorted(list(zip(feature_names, food_p.feature_importances_)), key=lambda x: -x[1]))\n",
    "food_p_df.columns = [\"feature\", \"importance\"]\n",
    "food_p_tmp_df = food_p_df.iloc[:6, :]\n",
    "food_p_tmp_df[\"feature_name\"] = [\"Sim. to Delicious\",\n",
    "                                 \"Sim. to Food\",\n",
    "                                 \"Topic: Hotel\",\n",
    "                                 \"Food\",\n",
    "                                 \"Much\",\n",
    "                                 \"Topic: Room\"]"
   ]
  },
  {
   "cell_type": "code",
   "execution_count": null,
   "metadata": {},
   "outputs": [],
   "source": [
    "f, ax = plt.subplots()\n",
    "ax = sns.barplot(y=\"feature_name\", x=\"importance\", data=food_p_tmp_df,\n",
    "                 palette=[\"blue\", \"blue\", \"lightgray\", \"lightgray\", \"lightgray\", \"lightgray\"])\n",
    "ax.set(xlabel=\"Importance\", ylabel=\"Feature\", xlim=(0, 0.6), title=\"Top Six Features\")\n",
    "plt.tight_layout()\n",
    "plt.savefig(\"../../3_reports/figures/food_fi_20190620_embeddings.eps\", format=\"eps\", dpi=1000)"
   ]
  },
  {
   "cell_type": "markdown",
   "metadata": {},
   "source": [
    "Percentage increase from pseudolabel"
   ]
  },
  {
   "cell_type": "code",
   "execution_count": null,
   "metadata": {},
   "outputs": [],
   "source": [
    "food[-1]/food[-2]"
   ]
  },
  {
   "cell_type": "code",
   "execution_count": null,
   "metadata": {},
   "outputs": [],
   "source": [
    "service[-1]/service[-2]"
   ]
  },
  {
   "cell_type": "code",
   "execution_count": null,
   "metadata": {},
   "outputs": [],
   "source": [
    "price[-1]/price[-2]"
   ]
  },
  {
   "cell_type": "code",
   "execution_count": null,
   "metadata": {},
   "outputs": [],
   "source": [
    "ambiance[-1]/ambiance[-2]"
   ]
  },
  {
   "cell_type": "markdown",
   "metadata": {},
   "source": [
    "#### Random assignment accuracy"
   ]
  },
  {
   "cell_type": "code",
   "execution_count": null,
   "metadata": {},
   "outputs": [],
   "source": [
    "data.columns"
   ]
  },
  {
   "cell_type": "code",
   "execution_count": null,
   "metadata": {},
   "outputs": [],
   "source": [
    "from sklearn.metrics import confusion_matrix\n",
    "import random\n",
    "import copy\n",
    "import numpy as np"
   ]
  },
  {
   "cell_type": "code",
   "execution_count": null,
   "metadata": {},
   "outputs": [],
   "source": [
    "cm = confusion_matrix(y_test_ambiance, ambiance_p.predict(X_test_ambiance[:, 1:]))"
   ]
  },
  {
   "cell_type": "code",
   "execution_count": null,
   "metadata": {},
   "outputs": [],
   "source": [
    "cm"
   ]
  },
  {
   "cell_type": "code",
   "execution_count": null,
   "metadata": {},
   "outputs": [],
   "source": [
    "(cm[0][0] + cm[1][1])/np.sum(cm)"
   ]
  },
  {
   "cell_type": "code",
   "execution_count": null,
   "metadata": {},
   "outputs": [],
   "source": [
    "166/210"
   ]
  },
  {
   "cell_type": "code",
   "execution_count": null,
   "metadata": {},
   "outputs": [],
   "source": [
    "np.random.randint(2, size=100)"
   ]
  },
  {
   "cell_type": "code",
   "execution_count": null,
   "metadata": {},
   "outputs": [],
   "source": [
    "def random_base(n, test):\n",
    "    random.seed(10191994)\n",
    "    tmp_list = []\n",
    "    for i in range(n):\n",
    "#         tmp = copy.deepcopy(test)\n",
    "#         random.shuffle(tmp)\n",
    "        tmp = np.random.randint(2, size=test.shape[0])\n",
    "        tmp_cm = confusion_matrix(test, tmp)\n",
    "        tmp_list.append((tmp_cm[0][0] + tmp_cm[1][1])/np.sum(tmp_cm))\n",
    "    return np.mean(tmp_list)"
   ]
  },
  {
   "cell_type": "code",
   "execution_count": null,
   "metadata": {},
   "outputs": [],
   "source": [
    "test0 = random_base(7000, y_test_ambiance)"
   ]
  },
  {
   "cell_type": "code",
   "execution_count": null,
   "metadata": {},
   "outputs": [],
   "source": [
    "test0"
   ]
  },
  {
   "cell_type": "code",
   "execution_count": null,
   "metadata": {},
   "outputs": [],
   "source": [
    "ambiance[-2]"
   ]
  },
  {
   "cell_type": "code",
   "execution_count": null,
   "metadata": {},
   "outputs": [],
   "source": [
    "test1 = random_base(7000, y_test_price)"
   ]
  },
  {
   "cell_type": "code",
   "execution_count": null,
   "metadata": {},
   "outputs": [],
   "source": [
    "test1"
   ]
  },
  {
   "cell_type": "code",
   "execution_count": null,
   "metadata": {},
   "outputs": [],
   "source": [
    "price[-2]"
   ]
  },
  {
   "cell_type": "code",
   "execution_count": null,
   "metadata": {},
   "outputs": [],
   "source": [
    "test2 = random_base(7000, y_test_service)"
   ]
  },
  {
   "cell_type": "code",
   "execution_count": null,
   "metadata": {},
   "outputs": [],
   "source": [
    "test2"
   ]
  },
  {
   "cell_type": "code",
   "execution_count": null,
   "metadata": {},
   "outputs": [],
   "source": [
    "service[-2]"
   ]
  },
  {
   "cell_type": "code",
   "execution_count": null,
   "metadata": {},
   "outputs": [],
   "source": [
    "test3 = random_base(7000, y_test_food)"
   ]
  },
  {
   "cell_type": "code",
   "execution_count": null,
   "metadata": {},
   "outputs": [],
   "source": [
    "test3"
   ]
  },
  {
   "cell_type": "code",
   "execution_count": null,
   "metadata": {},
   "outputs": [],
   "source": [
    "food[-2]"
   ]
  },
  {
   "cell_type": "code",
   "execution_count": null,
   "metadata": {},
   "outputs": [],
   "source": [
    "ambiance"
   ]
  },
  {
   "cell_type": "code",
   "execution_count": null,
   "metadata": {},
   "outputs": [],
   "source": [
    "service"
   ]
  },
  {
   "cell_type": "code",
   "execution_count": null,
   "metadata": {},
   "outputs": [],
   "source": [
    "price"
   ]
  },
  {
   "cell_type": "code",
   "execution_count": null,
   "metadata": {},
   "outputs": [],
   "source": [
    "food"
   ]
  },
  {
   "cell_type": "markdown",
   "metadata": {},
   "source": [
    "#### ROC AUC"
   ]
  },
  {
   "cell_type": "code",
   "execution_count": null,
   "metadata": {},
   "outputs": [],
   "source": [
    "from sklearn.metrics import roc_auc_score"
   ]
  },
  {
   "cell_type": "code",
   "execution_count": null,
   "metadata": {},
   "outputs": [],
   "source": [
    "food_auc = roc_auc_score(y_test_food, food_p.predict(X_test_food[:, 1:]))\n",
    "service_auc = roc_auc_score(y_test_service, service_p.predict(X_test_service[:, 1:]))\n",
    "price_auc = roc_auc_score(y_test_price, price_p.predict(X_test_price[:, 1:]))\n",
    "ambiance_auc = roc_auc_score(y_test_ambiance, ambiance_p.predict(X_test_ambiance[:, 1:]))"
   ]
  },
  {
   "cell_type": "code",
   "execution_count": null,
   "metadata": {},
   "outputs": [],
   "source": [
    "food_auc"
   ]
  },
  {
   "cell_type": "code",
   "execution_count": null,
   "metadata": {},
   "outputs": [],
   "source": [
    "service_auc"
   ]
  },
  {
   "cell_type": "code",
   "execution_count": null,
   "metadata": {},
   "outputs": [],
   "source": [
    "price_auc"
   ]
  },
  {
   "cell_type": "code",
   "execution_count": null,
   "metadata": {},
   "outputs": [],
   "source": [
    "ambiance_auc"
   ]
  },
  {
   "cell_type": "code",
   "execution_count": null,
   "metadata": {},
   "outputs": [],
   "source": [
    "print(roc_auc_score(y_validation_food, food_p.predict(X_validation_food[:, 1:])))\n",
    "print(roc_auc_score(y_validation_service, service_p.predict(X_validation_service[:, 1:])))\n",
    "print(roc_auc_score(y_validation_price, price_p.predict(X_validation_price[:, 1:])))\n",
    "print(roc_auc_score(y_validation_ambiance, ambiance_p.predict(X_validation_ambiance[:, 1:])))"
   ]
  },
  {
   "cell_type": "code",
   "execution_count": null,
   "metadata": {},
   "outputs": [],
   "source": [
    "print(roc_auc_score(y_test_food, food_p.predict(X_test_food[:, 1:])))\n",
    "print(roc_auc_score(y_test_service, service_p.predict(X_test_service[:, 1:])))\n",
    "print(roc_auc_score(y_test_price, price_p.predict(X_test_price[:, 1:])))\n",
    "print(roc_auc_score(y_test_ambiance, ambiance_p.predict(X_test_ambiance[:, 1:])))"
   ]
  },
  {
   "cell_type": "code",
   "execution_count": null,
   "metadata": {},
   "outputs": [],
   "source": [
    "def test_model2(model, cat_list, train_x, train_y, test_x, test_y):\n",
    "    train_x_df = pd.DataFrame(train_x)\n",
    "    train_x_df.columns = [\"text\"] + list(feature_names)\n",
    "    test_x_df = pd.DataFrame(test_x)\n",
    "    test_x_df.columns = [\"text\"] + list(feature_names)\n",
    "    \n",
    "    tmp_train_df = pd.concat([train_x_df[x] for x in cat_list], axis=1)\n",
    "#     print(tmp_train_df.columns)\n",
    "    tmp_test_df = pd.concat([test_x_df[x] for x in cat_list], axis=1)\n",
    "    \n",
    "    model.fit(tmp_train_df, train_y)\n",
    "    \n",
    "    return roc_auc_score(test_y, model.predict(tmp_test_df))"
   ]
  },
  {
   "cell_type": "code",
   "execution_count": null,
   "metadata": {},
   "outputs": [],
   "source": [
    "print(test_model2(clf, [metadata_columns, syntax_columns, tfidf_unigrams_columns, tfidf_bigrams_columns, topics_columns, embeddings_columns], X_train_food, y_train_food, X_validation_food, y_validation_food))\n",
    "print(test_model2(clf, [metadata_columns, syntax_columns, tfidf_unigrams_columns, tfidf_bigrams_columns, topics_columns, embeddings_columns], X_train_service, y_train_service, X_validation_service, y_validation_service))\n",
    "print(test_model2(clf, [metadata_columns, syntax_columns, tfidf_unigrams_columns, tfidf_bigrams_columns, topics_columns, embeddings_columns], X_train_price, y_train_price, X_validation_price, y_validation_price))\n",
    "print(test_model2(clf, [metadata_columns, syntax_columns, tfidf_unigrams_columns, tfidf_bigrams_columns, topics_columns, embeddings_columns], X_train_ambiance, y_train_ambiance, X_validation_ambiance, y_validation_ambiance))"
   ]
  },
  {
   "cell_type": "code",
   "execution_count": null,
   "metadata": {},
   "outputs": [],
   "source": [
    "print(test_model2(clf, [metadata_columns, syntax_columns, tfidf_unigrams_columns, tfidf_bigrams_columns, topics_columns, embeddings_columns], X_train_food, y_train_food, X_test_food, y_test_food))\n",
    "print(test_model2(clf, [metadata_columns, syntax_columns, tfidf_unigrams_columns, tfidf_bigrams_columns, topics_columns, embeddings_columns], X_train_service, y_train_service, X_test_service, y_test_service))\n",
    "print(test_model2(clf, [metadata_columns, syntax_columns, tfidf_unigrams_columns, tfidf_bigrams_columns, topics_columns, embeddings_columns], X_train_price, y_train_price, X_test_price, y_test_price))\n",
    "print(test_model2(clf, [metadata_columns, syntax_columns, tfidf_unigrams_columns, tfidf_bigrams_columns, topics_columns, embeddings_columns], X_train_ambiance, y_train_ambiance, X_test_ambiance, y_test_ambiance))"
   ]
  },
  {
   "cell_type": "markdown",
   "metadata": {},
   "source": [
    "#### Average PR"
   ]
  },
  {
   "cell_type": "code",
   "execution_count": null,
   "metadata": {},
   "outputs": [],
   "source": [
    "# precision\n",
    "np.mean([precision_recall_fscore_support(y_test_food, food_p.predict(X_test_food[:, 1:]))[0][1],\n",
    "         precision_recall_fscore_support(y_test_service, service_p.predict(X_test_service[:, 1:]))[0][1],\n",
    "         precision_recall_fscore_support(y_test_price, price_p.predict(X_test_price[:, 1:]))[0][1],\n",
    "         precision_recall_fscore_support(y_test_ambiance, ambiance_p.predict(X_test_ambiance[:, 1:]))[0][1]])"
   ]
  },
  {
   "cell_type": "code",
   "execution_count": null,
   "metadata": {},
   "outputs": [],
   "source": [
    "# recall\n",
    "np.mean([precision_recall_fscore_support(y_test_food, food_p.predict(X_test_food[:, 1:]))[1][1],\n",
    "         precision_recall_fscore_support(y_test_service, service_p.predict(X_test_service[:, 1:]))[1][1],\n",
    "         precision_recall_fscore_support(y_test_price, price_p.predict(X_test_price[:, 1:]))[1][1],\n",
    "         precision_recall_fscore_support(y_test_ambiance, ambiance_p.predict(X_test_ambiance[:, 1:]))[1][1]])"
   ]
  },
  {
   "cell_type": "code",
   "execution_count": null,
   "metadata": {},
   "outputs": [],
   "source": []
  }
 ],
 "metadata": {
  "kernelspec": {
   "display_name": "Python 3",
   "language": "python",
   "name": "python3"
  },
  "language_info": {
   "codemirror_mode": {
    "name": "ipython",
    "version": 3
   },
   "file_extension": ".py",
   "mimetype": "text/x-python",
   "name": "python",
   "nbconvert_exporter": "python",
   "pygments_lexer": "ipython3",
   "version": "3.7.3"
  }
 },
 "nbformat": 4,
 "nbformat_minor": 2
}
