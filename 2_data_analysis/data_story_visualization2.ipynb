{
 "cells": [
  {
   "cell_type": "code",
   "execution_count": 21,
   "metadata": {},
   "outputs": [
    {
     "name": "stderr",
     "output_type": "stream",
     "text": [
      "/home/richard/anaconda3/envs/insight/lib/python3.7/site-packages/smart_open/smart_open_lib.py:398: UserWarning: This function is deprecated, use smart_open.open instead. See the migration notes for details: https://github.com/RaRe-Technologies/smart_open/blob/master/README.rst#migrating-to-the-new-open-function\n",
      "  'See the migration notes for details: %s' % _MIGRATION_NOTES_URL\n"
     ]
    }
   ],
   "source": [
    "import os\n",
    "# os.chdir(\"1_feature_engineering\")\n",
    "exec(open(\"extract_review_features.py\").read())"
   ]
  },
  {
   "cell_type": "code",
   "execution_count": 22,
   "metadata": {},
   "outputs": [
    {
     "name": "stdout",
     "output_type": "stream",
     "text": [
      "Preprocessing Stem & Join (P): 5.723384141921997\n",
      "Preprocessing No Stem (P): 4.876894474029541\n",
      "Preprocessing No Stem & Punct (P): 4.649285316467285\n",
      "TFIDF: 0.18485355377197266\n",
      "Topics: 0.9260208606719971\n"
     ]
    },
    {
     "name": "stderr",
     "output_type": "stream",
     "text": [
      "/home/richard/anaconda3/envs/insight/lib/python3.7/site-packages/ipykernel_launcher.py:498: SettingWithCopyWarning: \n",
      "A value is trying to be set on a copy of a slice from a DataFrame.\n",
      "Try using .loc[row_indexer,col_indexer] = value instead\n",
      "\n",
      "See the caveats in the documentation: http://pandas.pydata.org/pandas-docs/stable/indexing.html#indexing-view-versus-copy\n"
     ]
    },
    {
     "name": "stdout",
     "output_type": "stream",
     "text": [
      "Metadata: 1.0110130310058594\n"
     ]
    },
    {
     "name": "stderr",
     "output_type": "stream",
     "text": [
      "/home/richard/anaconda3/envs/insight/lib/python3.7/site-packages/ipykernel_launcher.py:354: RuntimeWarning: invalid value encountered in double_scalars\n"
     ]
    },
    {
     "name": "stdout",
     "output_type": "stream",
     "text": [
      "Syntax: 55.32958650588989\n",
      "Embeddings: 151.53225827217102\n"
     ]
    }
   ],
   "source": [
    "feature_matrix = produce_feature_matrix(data2)"
   ]
  },
  {
   "cell_type": "code",
   "execution_count": 23,
   "metadata": {},
   "outputs": [
    {
     "data": {
      "text/plain": [
       "(1050, 459)"
      ]
     },
     "execution_count": 23,
     "metadata": {},
     "output_type": "execute_result"
    }
   ],
   "source": [
    "feature_matrix.shape"
   ]
  },
  {
   "cell_type": "markdown",
   "metadata": {},
   "source": [
    "#### Split out features by categories"
   ]
  },
  {
   "cell_type": "code",
   "execution_count": 24,
   "metadata": {},
   "outputs": [],
   "source": [
    "feature_names = feature_matrix.columns[1:]"
   ]
  },
  {
   "cell_type": "code",
   "execution_count": 25,
   "metadata": {},
   "outputs": [],
   "source": [
    "metadata_columns = feature_names[:5]"
   ]
  },
  {
   "cell_type": "code",
   "execution_count": 26,
   "metadata": {},
   "outputs": [],
   "source": [
    "syntax_columns = feature_names[5:149]"
   ]
  },
  {
   "cell_type": "code",
   "execution_count": 27,
   "metadata": {},
   "outputs": [],
   "source": [
    "embeddings_columns = feature_names[149:158]"
   ]
  },
  {
   "cell_type": "code",
   "execution_count": 28,
   "metadata": {},
   "outputs": [],
   "source": [
    "tfidf_unigrams_columns = feature_names[158:258]"
   ]
  },
  {
   "cell_type": "code",
   "execution_count": 29,
   "metadata": {},
   "outputs": [],
   "source": [
    "tfidf_bigrams_columns = feature_names[258:358]"
   ]
  },
  {
   "cell_type": "code",
   "execution_count": 30,
   "metadata": {},
   "outputs": [],
   "source": [
    "topics_columns = feature_names[358:458]"
   ]
  },
  {
   "cell_type": "markdown",
   "metadata": {},
   "source": [
    "#### Get the validation data"
   ]
  },
  {
   "cell_type": "code",
   "execution_count": 31,
   "metadata": {},
   "outputs": [],
   "source": [
    "from sklearn.ensemble import RandomForestClassifier\n",
    "import pickle"
   ]
  },
  {
   "cell_type": "code",
   "execution_count": 32,
   "metadata": {},
   "outputs": [],
   "source": [
    "clf = RandomForestClassifier(n_estimators=1000,\n",
    "                             max_depth=3,\n",
    "                             min_samples_leaf=10,\n",
    "                             max_features=0.6,\n",
    "                             random_state=10191994,\n",
    "                             class_weight=\"balanced\",\n",
    "                             n_jobs=-1)"
   ]
  },
  {
   "cell_type": "code",
   "execution_count": 61,
   "metadata": {},
   "outputs": [],
   "source": [
    "X_train_ambiance = pickle.load(open(\"../../0_data/5_train_validation_test/X_train_ambiance_1050.pickle\", \"rb\"))\n",
    "y_train_ambiance = pickle.load(open(\"../../0_data/5_train_validation_test/y_train_ambiance_1050.pickle\", \"rb\"))\n",
    "X_validation_ambiance = pickle.load(open(\"../../0_data/5_train_validation_test/X_validation_ambiance_1050.pickle\", \"rb\"))\n",
    "y_validation_ambiance = pickle.load(open(\"../../0_data/5_train_validation_test/y_validation_ambiance_1050.pickle\", \"rb\"))\n",
    "X_test_ambiance = pickle.load(open(\"../../0_data/5_train_validation_test/X_test_ambiance_1050.pickle\", \"rb\"))\n",
    "y_test_ambiance = pickle.load(open(\"../../0_data/5_train_validation_test/y_test_ambiance_1050.pickle\", \"rb\"))"
   ]
  },
  {
   "cell_type": "code",
   "execution_count": 77,
   "metadata": {},
   "outputs": [],
   "source": [
    "def test_model(model, cat_list, train_x, train_y, test_x, test_y):\n",
    "    train_x_df = pd.DataFrame(train_x)\n",
    "    train_x_df.columns = [\"text\"] + list(feature_names)\n",
    "    test_x_df = pd.DataFrame(test_x)\n",
    "    test_x_df.columns = [\"text\"] + list(feature_names)\n",
    "    \n",
    "    tmp_train_df = pd.concat([train_x_df[x] for x in cat_list], axis=1)\n",
    "#     print(tmp_train_df.columns)\n",
    "    tmp_test_df = pd.concat([test_x_df[x] for x in cat_list], axis=1)\n",
    "    \n",
    "    return model.fit(tmp_train_df, train_y).score(\n",
    "        tmp_test_df, test_y)"
   ]
  },
  {
   "cell_type": "code",
   "execution_count": 57,
   "metadata": {},
   "outputs": [
    {
     "data": {
      "text/html": [
       "<div>\n",
       "<style scoped>\n",
       "    .dataframe tbody tr th:only-of-type {\n",
       "        vertical-align: middle;\n",
       "    }\n",
       "\n",
       "    .dataframe tbody tr th {\n",
       "        vertical-align: top;\n",
       "    }\n",
       "\n",
       "    .dataframe thead th {\n",
       "        text-align: right;\n",
       "    }\n",
       "</style>\n",
       "<table border=\"1\" class=\"dataframe\">\n",
       "  <thead>\n",
       "    <tr style=\"text-align: right;\">\n",
       "      <th></th>\n",
       "      <th>food</th>\n",
       "      <th>service</th>\n",
       "      <th>price</th>\n",
       "      <th>ambiance</th>\n",
       "    </tr>\n",
       "  </thead>\n",
       "  <tbody>\n",
       "    <tr>\n",
       "      <th>count</th>\n",
       "      <td>1050.000000</td>\n",
       "      <td>1050.000000</td>\n",
       "      <td>1050.000000</td>\n",
       "      <td>1050.000000</td>\n",
       "    </tr>\n",
       "    <tr>\n",
       "      <th>mean</th>\n",
       "      <td>0.908571</td>\n",
       "      <td>0.637143</td>\n",
       "      <td>0.263810</td>\n",
       "      <td>0.404762</td>\n",
       "    </tr>\n",
       "    <tr>\n",
       "      <th>std</th>\n",
       "      <td>0.288355</td>\n",
       "      <td>0.481053</td>\n",
       "      <td>0.440907</td>\n",
       "      <td>0.491080</td>\n",
       "    </tr>\n",
       "    <tr>\n",
       "      <th>min</th>\n",
       "      <td>0.000000</td>\n",
       "      <td>0.000000</td>\n",
       "      <td>0.000000</td>\n",
       "      <td>0.000000</td>\n",
       "    </tr>\n",
       "    <tr>\n",
       "      <th>25%</th>\n",
       "      <td>1.000000</td>\n",
       "      <td>0.000000</td>\n",
       "      <td>0.000000</td>\n",
       "      <td>0.000000</td>\n",
       "    </tr>\n",
       "    <tr>\n",
       "      <th>50%</th>\n",
       "      <td>1.000000</td>\n",
       "      <td>1.000000</td>\n",
       "      <td>0.000000</td>\n",
       "      <td>0.000000</td>\n",
       "    </tr>\n",
       "    <tr>\n",
       "      <th>75%</th>\n",
       "      <td>1.000000</td>\n",
       "      <td>1.000000</td>\n",
       "      <td>1.000000</td>\n",
       "      <td>1.000000</td>\n",
       "    </tr>\n",
       "    <tr>\n",
       "      <th>max</th>\n",
       "      <td>1.000000</td>\n",
       "      <td>1.000000</td>\n",
       "      <td>1.000000</td>\n",
       "      <td>1.000000</td>\n",
       "    </tr>\n",
       "  </tbody>\n",
       "</table>\n",
       "</div>"
      ],
      "text/plain": [
       "              food      service        price     ambiance\n",
       "count  1050.000000  1050.000000  1050.000000  1050.000000\n",
       "mean      0.908571     0.637143     0.263810     0.404762\n",
       "std       0.288355     0.481053     0.440907     0.491080\n",
       "min       0.000000     0.000000     0.000000     0.000000\n",
       "25%       1.000000     0.000000     0.000000     0.000000\n",
       "50%       1.000000     1.000000     0.000000     0.000000\n",
       "75%       1.000000     1.000000     1.000000     1.000000\n",
       "max       1.000000     1.000000     1.000000     1.000000"
      ]
     },
     "execution_count": 57,
     "metadata": {},
     "output_type": "execute_result"
    }
   ],
   "source": [
    "data.describe()"
   ]
  },
  {
   "cell_type": "code",
   "execution_count": 78,
   "metadata": {},
   "outputs": [
    {
     "name": "stderr",
     "output_type": "stream",
     "text": [
      "/home/richard/anaconda3/envs/insight/lib/python3.7/site-packages/ipykernel_launcher.py:11: DataConversionWarning: A column-vector y was passed when a 1d array was expected. Please change the shape of y to (n_samples,), for example using ravel().\n",
      "  # This is added back by InteractiveShellApp.init_path()\n",
      "/home/richard/anaconda3/envs/insight/lib/python3.7/site-packages/ipykernel_launcher.py:11: DataConversionWarning: A column-vector y was passed when a 1d array was expected. Please change the shape of y to (n_samples,), for example using ravel().\n",
      "  # This is added back by InteractiveShellApp.init_path()\n",
      "/home/richard/anaconda3/envs/insight/lib/python3.7/site-packages/ipykernel_launcher.py:11: DataConversionWarning: A column-vector y was passed when a 1d array was expected. Please change the shape of y to (n_samples,), for example using ravel().\n",
      "  # This is added back by InteractiveShellApp.init_path()\n",
      "/home/richard/anaconda3/envs/insight/lib/python3.7/site-packages/ipykernel_launcher.py:11: DataConversionWarning: A column-vector y was passed when a 1d array was expected. Please change the shape of y to (n_samples,), for example using ravel().\n",
      "  # This is added back by InteractiveShellApp.init_path()\n",
      "/home/richard/anaconda3/envs/insight/lib/python3.7/site-packages/ipykernel_launcher.py:11: DataConversionWarning: A column-vector y was passed when a 1d array was expected. Please change the shape of y to (n_samples,), for example using ravel().\n",
      "  # This is added back by InteractiveShellApp.init_path()\n"
     ]
    }
   ],
   "source": [
    "ambiance_syntax = test_model(clf, [syntax_columns], X_train_ambiance, y_train_ambiance, X_test_ambiance, y_test_ambiance)\n",
    "ambiance_metadata = test_model(clf, [metadata_columns, syntax_columns], X_train_ambiance, y_train_ambiance, X_test_ambiance, y_test_ambiance)\n",
    "ambiance_tfidf = test_model(clf, [metadata_columns, syntax_columns, tfidf_unigrams_columns, tfidf_bigrams_columns], X_train_ambiance, y_train_ambiance, X_test_ambiance, y_test_ambiance)\n",
    "ambiance_topics = test_model(clf, [metadata_columns, syntax_columns, tfidf_unigrams_columns, tfidf_bigrams_columns, topics_columns], X_train_ambiance, y_train_ambiance, X_test_ambiance, y_test_ambiance)\n",
    "ambiance_embeddings = test_model(clf, [metadata_columns, syntax_columns, tfidf_unigrams_columns, tfidf_bigrams_columns, topics_columns, embeddings_columns], X_train_ambiance, y_train_ambiance, X_test_ambiance, y_test_ambiance)\n",
    "ambiance_p = pickle.load(open(\"../../4_models/rf_ambiance_4iterations_athreshold_5000_200_1050.pickle\", \"rb\"))\n",
    "ambiance_pseudolabel = ambiance_p.score(X_test_ambiance[:, 1:], y_test_ambiance)"
   ]
  },
  {
   "cell_type": "code",
   "execution_count": 83,
   "metadata": {},
   "outputs": [],
   "source": [
    "ambiance = [ambiance_syntax, ambiance_metadata, ambiance_tfidf, ambiance_topics, ambiance_embeddings, ambiance_pseudolabel]"
   ]
  },
  {
   "cell_type": "code",
   "execution_count": 84,
   "metadata": {},
   "outputs": [
    {
     "data": {
      "text/plain": [
       "[0.5857142857142857,\n",
       " 0.5857142857142857,\n",
       " 0.6238095238095238,\n",
       " 0.7095238095238096,\n",
       " 0.780952380952381,\n",
       " 0.7904761904761904]"
      ]
     },
     "execution_count": 84,
     "metadata": {},
     "output_type": "execute_result"
    }
   ],
   "source": [
    "ambiance"
   ]
  },
  {
   "cell_type": "code",
   "execution_count": 85,
   "metadata": {},
   "outputs": [
    {
     "name": "stderr",
     "output_type": "stream",
     "text": [
      "/home/richard/anaconda3/envs/insight/lib/python3.7/site-packages/ipykernel_launcher.py:11: DataConversionWarning: A column-vector y was passed when a 1d array was expected. Please change the shape of y to (n_samples,), for example using ravel().\n",
      "  # This is added back by InteractiveShellApp.init_path()\n",
      "/home/richard/anaconda3/envs/insight/lib/python3.7/site-packages/ipykernel_launcher.py:11: DataConversionWarning: A column-vector y was passed when a 1d array was expected. Please change the shape of y to (n_samples,), for example using ravel().\n",
      "  # This is added back by InteractiveShellApp.init_path()\n",
      "/home/richard/anaconda3/envs/insight/lib/python3.7/site-packages/ipykernel_launcher.py:11: DataConversionWarning: A column-vector y was passed when a 1d array was expected. Please change the shape of y to (n_samples,), for example using ravel().\n",
      "  # This is added back by InteractiveShellApp.init_path()\n",
      "/home/richard/anaconda3/envs/insight/lib/python3.7/site-packages/ipykernel_launcher.py:11: DataConversionWarning: A column-vector y was passed when a 1d array was expected. Please change the shape of y to (n_samples,), for example using ravel().\n",
      "  # This is added back by InteractiveShellApp.init_path()\n",
      "/home/richard/anaconda3/envs/insight/lib/python3.7/site-packages/ipykernel_launcher.py:11: DataConversionWarning: A column-vector y was passed when a 1d array was expected. Please change the shape of y to (n_samples,), for example using ravel().\n",
      "  # This is added back by InteractiveShellApp.init_path()\n"
     ]
    }
   ],
   "source": [
    "X_train_service = pickle.load(open(\"../../0_data/5_train_validation_test/X_train_service_1050.pickle\", \"rb\"))\n",
    "y_train_service = pickle.load(open(\"../../0_data/5_train_validation_test/y_train_service_1050.pickle\", \"rb\"))\n",
    "X_validation_service = pickle.load(open(\"../../0_data/5_train_validation_test/X_validation_service_1050.pickle\", \"rb\"))\n",
    "y_validation_service = pickle.load(open(\"../../0_data/5_train_validation_test/y_validation_service_1050.pickle\", \"rb\"))\n",
    "X_test_service = pickle.load(open(\"../../0_data/5_train_validation_test/X_test_service_1050.pickle\", \"rb\"))\n",
    "y_test_service = pickle.load(open(\"../../0_data/5_train_validation_test/y_test_service_1050.pickle\", \"rb\"))\n",
    "\n",
    "service_syntax = test_model(clf, [syntax_columns], X_train_service, y_train_service, X_test_service, y_test_service)\n",
    "service_metadata = test_model(clf, [metadata_columns, syntax_columns], X_train_service, y_train_service, X_test_service, y_test_service)\n",
    "service_tfidf = test_model(clf, [metadata_columns, syntax_columns, tfidf_unigrams_columns, tfidf_bigrams_columns], X_train_service, y_train_service, X_test_service, y_test_service)\n",
    "service_topics = test_model(clf, [metadata_columns, syntax_columns, tfidf_unigrams_columns, tfidf_bigrams_columns, topics_columns], X_train_service, y_train_service, X_test_service, y_test_service)\n",
    "service_embeddings = test_model(clf, [metadata_columns, syntax_columns, tfidf_unigrams_columns, tfidf_bigrams_columns, topics_columns, embeddings_columns], X_train_service, y_train_service, X_test_service, y_test_service)\n",
    "service_p = pickle.load(open(\"../../4_models/rf_service_4iterations_athreshold_5000_200_1050.pickle\", \"rb\"))\n",
    "service_pseudolabel = service_p.score(X_test_service[:, 1:], y_test_service)\n",
    "\n",
    "service = [service_syntax, service_metadata, service_tfidf, service_topics, service_embeddings, service_pseudolabel]"
   ]
  },
  {
   "cell_type": "code",
   "execution_count": 86,
   "metadata": {},
   "outputs": [
    {
     "data": {
      "text/plain": [
       "[0.5285714285714286,\n",
       " 0.6095238095238096,\n",
       " 0.8142857142857143,\n",
       " 0.819047619047619,\n",
       " 0.861904761904762,\n",
       " 0.861904761904762]"
      ]
     },
     "execution_count": 86,
     "metadata": {},
     "output_type": "execute_result"
    }
   ],
   "source": [
    "service"
   ]
  },
  {
   "cell_type": "code",
   "execution_count": 87,
   "metadata": {},
   "outputs": [
    {
     "name": "stderr",
     "output_type": "stream",
     "text": [
      "/home/richard/anaconda3/envs/insight/lib/python3.7/site-packages/ipykernel_launcher.py:11: DataConversionWarning: A column-vector y was passed when a 1d array was expected. Please change the shape of y to (n_samples,), for example using ravel().\n",
      "  # This is added back by InteractiveShellApp.init_path()\n",
      "/home/richard/anaconda3/envs/insight/lib/python3.7/site-packages/ipykernel_launcher.py:11: DataConversionWarning: A column-vector y was passed when a 1d array was expected. Please change the shape of y to (n_samples,), for example using ravel().\n",
      "  # This is added back by InteractiveShellApp.init_path()\n",
      "/home/richard/anaconda3/envs/insight/lib/python3.7/site-packages/ipykernel_launcher.py:11: DataConversionWarning: A column-vector y was passed when a 1d array was expected. Please change the shape of y to (n_samples,), for example using ravel().\n",
      "  # This is added back by InteractiveShellApp.init_path()\n",
      "/home/richard/anaconda3/envs/insight/lib/python3.7/site-packages/ipykernel_launcher.py:11: DataConversionWarning: A column-vector y was passed when a 1d array was expected. Please change the shape of y to (n_samples,), for example using ravel().\n",
      "  # This is added back by InteractiveShellApp.init_path()\n",
      "/home/richard/anaconda3/envs/insight/lib/python3.7/site-packages/ipykernel_launcher.py:11: DataConversionWarning: A column-vector y was passed when a 1d array was expected. Please change the shape of y to (n_samples,), for example using ravel().\n",
      "  # This is added back by InteractiveShellApp.init_path()\n"
     ]
    }
   ],
   "source": [
    "X_train_price = pickle.load(open(\"../../0_data/5_train_validation_test/X_train_price_1050.pickle\", \"rb\"))\n",
    "y_train_price = pickle.load(open(\"../../0_data/5_train_validation_test/y_train_price_1050.pickle\", \"rb\"))\n",
    "X_validation_price = pickle.load(open(\"../../0_data/5_train_validation_test/X_validation_price_1050.pickle\", \"rb\"))\n",
    "y_validation_price = pickle.load(open(\"../../0_data/5_train_validation_test/y_validation_price_1050.pickle\", \"rb\"))\n",
    "X_test_price = pickle.load(open(\"../../0_data/5_train_validation_test/X_test_price_1050.pickle\", \"rb\"))\n",
    "y_test_price = pickle.load(open(\"../../0_data/5_train_validation_test/y_test_price_1050.pickle\", \"rb\"))\n",
    "\n",
    "price_syntax = test_model(clf, [syntax_columns], X_train_price, y_train_price, X_test_price, y_test_price)\n",
    "price_metadata = test_model(clf, [metadata_columns, syntax_columns], X_train_price, y_train_price, X_test_price, y_test_price)\n",
    "price_tfidf = test_model(clf, [metadata_columns, syntax_columns, tfidf_unigrams_columns, tfidf_bigrams_columns], X_train_price, y_train_price, X_test_price, y_test_price)\n",
    "price_topics = test_model(clf, [metadata_columns, syntax_columns, tfidf_unigrams_columns, tfidf_bigrams_columns, topics_columns], X_train_price, y_train_price, X_test_price, y_test_price)\n",
    "price_embeddings = test_model(clf, [metadata_columns, syntax_columns, tfidf_unigrams_columns, tfidf_bigrams_columns, topics_columns, embeddings_columns], X_train_price, y_train_price, X_test_price, y_test_price)\n",
    "price_p = pickle.load(open(\"../../4_models/rf_price_4iterations_athreshold_5000_200_1050.pickle\", \"rb\"))\n",
    "price_pseudolabel = price_p.score(X_test_price[:, 1:], y_test_price)\n",
    "\n",
    "price = [price_syntax, price_metadata, price_tfidf, price_topics, price_embeddings, price_pseudolabel]"
   ]
  },
  {
   "cell_type": "code",
   "execution_count": 88,
   "metadata": {},
   "outputs": [
    {
     "data": {
      "text/plain": [
       "[0.6571428571428571,\n",
       " 0.7380952380952381,\n",
       " 0.8142857142857143,\n",
       " 0.8142857142857143,\n",
       " 0.8333333333333334,\n",
       " 0.8428571428571429]"
      ]
     },
     "execution_count": 88,
     "metadata": {},
     "output_type": "execute_result"
    }
   ],
   "source": [
    "price"
   ]
  },
  {
   "cell_type": "code",
   "execution_count": 89,
   "metadata": {},
   "outputs": [
    {
     "name": "stderr",
     "output_type": "stream",
     "text": [
      "/home/richard/anaconda3/envs/insight/lib/python3.7/site-packages/ipykernel_launcher.py:11: DataConversionWarning: A column-vector y was passed when a 1d array was expected. Please change the shape of y to (n_samples,), for example using ravel().\n",
      "  # This is added back by InteractiveShellApp.init_path()\n",
      "/home/richard/anaconda3/envs/insight/lib/python3.7/site-packages/ipykernel_launcher.py:11: DataConversionWarning: A column-vector y was passed when a 1d array was expected. Please change the shape of y to (n_samples,), for example using ravel().\n",
      "  # This is added back by InteractiveShellApp.init_path()\n",
      "/home/richard/anaconda3/envs/insight/lib/python3.7/site-packages/ipykernel_launcher.py:11: DataConversionWarning: A column-vector y was passed when a 1d array was expected. Please change the shape of y to (n_samples,), for example using ravel().\n",
      "  # This is added back by InteractiveShellApp.init_path()\n",
      "/home/richard/anaconda3/envs/insight/lib/python3.7/site-packages/ipykernel_launcher.py:11: DataConversionWarning: A column-vector y was passed when a 1d array was expected. Please change the shape of y to (n_samples,), for example using ravel().\n",
      "  # This is added back by InteractiveShellApp.init_path()\n",
      "/home/richard/anaconda3/envs/insight/lib/python3.7/site-packages/ipykernel_launcher.py:11: DataConversionWarning: A column-vector y was passed when a 1d array was expected. Please change the shape of y to (n_samples,), for example using ravel().\n",
      "  # This is added back by InteractiveShellApp.init_path()\n"
     ]
    }
   ],
   "source": [
    "X_train_food = pickle.load(open(\"../../0_data/5_train_validation_test/X_train_food_1050.pickle\", \"rb\"))\n",
    "y_train_food = pickle.load(open(\"../../0_data/5_train_validation_test/y_train_food_1050.pickle\", \"rb\"))\n",
    "X_validation_food = pickle.load(open(\"../../0_data/5_train_validation_test/X_validation_food_1050.pickle\", \"rb\"))\n",
    "y_validation_food = pickle.load(open(\"../../0_data/5_train_validation_test/y_validation_food_1050.pickle\", \"rb\"))\n",
    "X_test_food = pickle.load(open(\"../../0_data/5_train_validation_test/X_test_food_1050.pickle\", \"rb\"))\n",
    "y_test_food = pickle.load(open(\"../../0_data/5_train_validation_test/y_test_food_1050.pickle\", \"rb\"))\n",
    "\n",
    "food_syntax = test_model(clf, [syntax_columns], X_train_food, y_train_food, X_test_food, y_test_food)\n",
    "food_metadata = test_model(clf, [metadata_columns, syntax_columns], X_train_food, y_train_food, X_test_food, y_test_food)\n",
    "food_tfidf = test_model(clf, [metadata_columns, syntax_columns, tfidf_unigrams_columns, tfidf_bigrams_columns], X_train_food, y_train_food, X_test_food, y_test_food)\n",
    "food_topics = test_model(clf, [metadata_columns, syntax_columns, tfidf_unigrams_columns, tfidf_bigrams_columns, topics_columns], X_train_food, y_train_food, X_test_food, y_test_food)\n",
    "food_embeddings = test_model(clf, [metadata_columns, syntax_columns, tfidf_unigrams_columns, tfidf_bigrams_columns, topics_columns, embeddings_columns], X_train_food, y_train_food, X_test_food, y_test_food)\n",
    "food_p = pickle.load(open(\"../../4_models/rf_food_4iterations_athreshold_5000_200_1050.pickle\", \"rb\"))\n",
    "food_pseudolabel = food_p.score(X_test_food[:, 1:], y_test_food)\n",
    "\n",
    "food = [food_syntax, food_metadata, food_tfidf, food_topics, food_embeddings, food_pseudolabel]"
   ]
  },
  {
   "cell_type": "code",
   "execution_count": 90,
   "metadata": {},
   "outputs": [
    {
     "data": {
      "text/plain": [
       "[0.7857142857142857,\n",
       " 0.819047619047619,\n",
       " 0.7476190476190476,\n",
       " 0.7761904761904762,\n",
       " 0.8666666666666667,\n",
       " 0.8857142857142857]"
      ]
     },
     "execution_count": 90,
     "metadata": {},
     "output_type": "execute_result"
    }
   ],
   "source": [
    "food"
   ]
  },
  {
   "cell_type": "code",
   "execution_count": 95,
   "metadata": {},
   "outputs": [],
   "source": [
    "df = pd.DataFrame({\"features\": [\"1 syntax\",\n",
    "                                \"2 metadata\",\n",
    "                                \"3 tfidf\",\n",
    "                                \"4 topics\",\n",
    "                                \"5 embeddings\",\n",
    "                                \"6 pseudolabel\"],\n",
    "                   \"food\": food,\n",
    "                   \"service\": service,\n",
    "                   \"price\": price,\n",
    "                   \"ambiance\": ambiance})"
   ]
  },
  {
   "cell_type": "code",
   "execution_count": 96,
   "metadata": {},
   "outputs": [],
   "source": [
    "import matplotlib.pyplot as plt\n",
    "import seaborn as sns"
   ]
  },
  {
   "cell_type": "code",
   "execution_count": 127,
   "metadata": {},
   "outputs": [
    {
     "data": {
      "image/png": "[encoded data removed]",
      "text/plain": [
       "<Figure size 432x288 with 1 Axes>"
      ]
     },
     "metadata": {
      "needs_background": "light"
     },
     "output_type": "display_data"
    }
   ],
   "source": [
    "f, ax = plt.subplots()\n",
    "sns.lineplot(x=\"features\", y=\"food\", markers=True, data=df,\n",
    "             color=\"blue\", label=\"food\")\n",
    "sns.lineplot(x=\"features\", y=\"service\", markers=True, data=df,\n",
    "             color=\"red\", label=\"service\")\n",
    "sns.lineplot(x=\"features\", y=\"price\", markers=True, data=df,\n",
    "             color=\"green\", label=\"price\")\n",
    "sns.lineplot(x=\"features\", y=\"ambiance\", markers=True, data=df,\n",
    "             color=\"orange\", label=\"ambiance\")\n",
    "plt.setp(ax.get_xticklabels(), rotation=90)\n",
    "ax.set(ylabel=\"Accuracy\", ylim=(0.4, 1))\n",
    "ax.legend(ncol=2, loc=\"lower right\", frameon=True)\n",
    "ax.grid(True)\n",
    "sns.despine(left=True, bottom=True)\n",
    "plt.tight_layout()\n",
    "plt.savefig(\"../../3_reports/figures/model_accuracy_20190620.png\")"
   ]
  },
  {
   "cell_type": "code",
   "execution_count": 128,
   "metadata": {},
   "outputs": [
    {
     "data": {
      "image/png": "[encoded data removed]",
      "text/plain": [
       "<Figure size 432x288 with 1 Axes>"
      ]
     },
     "metadata": {
      "needs_background": "light"
     },
     "output_type": "display_data"
    }
   ],
   "source": [
    "f, ax = plt.subplots()\n",
    "sns.lineplot(x=\"features\", y=\"food\", markers=True, data=df,\n",
    "             color=\"blue\", label=\"food\")\n",
    "plt.setp(ax.get_xticklabels(), rotation=90)\n",
    "ax.set(ylabel=\"Accuracy\", ylim=(0.4, 1))\n",
    "ax.legend(ncol=2, loc=\"lower right\", frameon=True)\n",
    "ax.grid(True)\n",
    "sns.despine(left=True, bottom=True)\n",
    "plt.tight_layout()\n",
    "plt.savefig(\"../../3_reports/figures/food_model_accuracy_20190620.png\")"
   ]
  },
  {
   "cell_type": "code",
   "execution_count": 129,
   "metadata": {},
   "outputs": [
    {
     "data": {
      "image/png": "[encoded data removed]",
      "text/plain": [
       "<Figure size 432x288 with 1 Axes>"
      ]
     },
     "metadata": {
      "needs_background": "light"
     },
     "output_type": "display_data"
    }
   ],
   "source": [
    "f, ax = plt.subplots()\n",
    "sns.lineplot(x=\"features\", y=\"service\", markers=True, data=df,\n",
    "             color=\"red\", label=\"service\")\n",
    "plt.setp(ax.get_xticklabels(), rotation=90)\n",
    "ax.set(ylabel=\"Accuracy\", ylim=(0.4, 1))\n",
    "ax.legend(ncol=2, loc=\"lower right\", frameon=True)\n",
    "ax.grid(True)\n",
    "sns.despine(left=True, bottom=True)\n",
    "plt.tight_layout()\n",
    "plt.savefig(\"../../3_reports/figures/service_model_accuracy_20190620.png\")"
   ]
  },
  {
   "cell_type": "code",
   "execution_count": 130,
   "metadata": {},
   "outputs": [
    {
     "data": {
      "image/png": "[encoded data removed]",
      "text/plain": [
       "<Figure size 432x288 with 1 Axes>"
      ]
     },
     "metadata": {
      "needs_background": "light"
     },
     "output_type": "display_data"
    }
   ],
   "source": [
    "f, ax = plt.subplots()\n",
    "sns.lineplot(x=\"features\", y=\"price\", markers=True, data=df,\n",
    "             color=\"green\", label=\"price\")\n",
    "plt.setp(ax.get_xticklabels(), rotation=90)\n",
    "ax.set(ylabel=\"Accuracy\", ylim=(0.4, 1))\n",
    "ax.legend(ncol=2, loc=\"lower right\", frameon=True)\n",
    "ax.grid(True)\n",
    "sns.despine(left=True, bottom=True)\n",
    "plt.tight_layout()\n",
    "plt.savefig(\"../../3_reports/figures/price_model_accuracy_20190620.png\")"
   ]
  },
  {
   "cell_type": "code",
   "execution_count": 132,
   "metadata": {},
   "outputs": [
    {
     "data": {
      "image/png": "[encoded data removed]",
      "text/plain": [
       "<Figure size 432x288 with 1 Axes>"
      ]
     },
     "metadata": {
      "needs_background": "light"
     },
     "output_type": "display_data"
    }
   ],
   "source": [
    "f, ax = plt.subplots()\n",
    "sns.lineplot(x=\"features\", y=\"ambiance\", markers=True, data=df,\n",
    "             color=\"orange\", label=\"ambiance\")\n",
    "plt.setp(ax.get_xticklabels(), rotation=90)\n",
    "ax.set(ylabel=\"Accuracy\", ylim=(0.4, 1))\n",
    "ax.legend(ncol=2, loc=\"lower right\", frameon=True)\n",
    "ax.grid(True)\n",
    "sns.despine(left=True, bottom=True)\n",
    "plt.tight_layout()\n",
    "plt.savefig(\"../../3_reports/figures/ambiance_model_accuracy_20190620.png\")"
   ]
  },
  {
   "cell_type": "markdown",
   "metadata": {},
   "source": [
    "#### Features"
   ]
  },
  {
   "cell_type": "code",
   "execution_count": 112,
   "metadata": {},
   "outputs": [],
   "source": [
    "ambiance_p_df = pd.DataFrame(sorted(list(zip(feature_names, ambiance_p.feature_importances_)), key=lambda x: -x[1]))\n",
    "ambiance_p_df.columns = [\"feature\", \"importance\"]"
   ]
  },
  {
   "cell_type": "code",
   "execution_count": 133,
   "metadata": {},
   "outputs": [
    {
     "data": {
      "image/png": "[encoded data removed]",
      "text/plain": [
       "<Figure size 432x288 with 1 Axes>"
      ]
     },
     "metadata": {
      "needs_background": "light"
     },
     "output_type": "display_data"
    }
   ],
   "source": [
    "f, ax = plt.subplots()\n",
    "ax = sns.barplot(y=\"feature\", x=\"importance\", data=ambiance_p_df.iloc[:10,:])\n",
    "plt.tight_layout()\n",
    "plt.savefig(\"../../3_reports/figures/ambiance_fi_20190620.png\")"
   ]
  },
  {
   "cell_type": "code",
   "execution_count": 134,
   "metadata": {},
   "outputs": [
    {
     "data": {
      "image/png": "[encoded data removed]",
      "text/plain": [
       "<Figure size 432x288 with 1 Axes>"
      ]
     },
     "metadata": {
      "needs_background": "light"
     },
     "output_type": "display_data"
    }
   ],
   "source": [
    "service_p_df = pd.DataFrame(sorted(list(zip(feature_names, service_p.feature_importances_)), key=lambda x: -x[1]))\n",
    "service_p_df.columns = [\"feature\", \"importance\"]\n",
    "f, ax = plt.subplots()\n",
    "ax = sns.barplot(y=\"feature\", x=\"importance\", data=service_p_df.iloc[:10,:])\n",
    "plt.tight_layout()\n",
    "plt.savefig(\"../../3_reports/figures/service_fi_20190620.png\")"
   ]
  },
  {
   "cell_type": "code",
   "execution_count": 135,
   "metadata": {},
   "outputs": [
    {
     "data": {
      "image/png": "[encoded data removed]",
      "text/plain": [
       "<Figure size 432x288 with 1 Axes>"
      ]
     },
     "metadata": {
      "needs_background": "light"
     },
     "output_type": "display_data"
    }
   ],
   "source": [
    "price_p_df = pd.DataFrame(sorted(list(zip(feature_names, price_p.feature_importances_)), key=lambda x: -x[1]))\n",
    "price_p_df.columns = [\"feature\", \"importance\"]\n",
    "f, ax = plt.subplots()\n",
    "ax = sns.barplot(y=\"feature\", x=\"importance\", data=price_p_df.iloc[:10,:])\n",
    "plt.tight_layout()\n",
    "plt.savefig(\"../../3_reports/figures/price_fi_20190620.png\")"
   ]
  },
  {
   "cell_type": "code",
   "execution_count": 136,
   "metadata": {},
   "outputs": [
    {
     "data": {
      "image/png": "[encoded data removed]",
      "text/plain": [
       "<Figure size 432x288 with 1 Axes>"
      ]
     },
     "metadata": {
      "needs_background": "light"
     },
     "output_type": "display_data"
    }
   ],
   "source": [
    "food_p_df = pd.DataFrame(sorted(list(zip(feature_names, food_p.feature_importances_)), key=lambda x: -x[1]))\n",
    "food_p_df.columns = [\"feature\", \"importance\"]\n",
    "f, ax = plt.subplots()\n",
    "ax = sns.barplot(y=\"feature\", x=\"importance\", data=food_p_df.iloc[:10,:])\n",
    "plt.tight_layout()\n",
    "plt.savefig(\"../../3_reports/figures/food_fi_20190620.png\")"
   ]
  },
  {
   "cell_type": "code",
   "execution_count": null,
   "metadata": {},
   "outputs": [],
   "source": []
  }
 ],
 "metadata": {
  "kernelspec": {
   "display_name": "Python 3",
   "language": "python",
   "name": "python3"
  },
  "language_info": {
   "codemirror_mode": {
    "name": "ipython",
    "version": 3
   },
   "file_extension": ".py",
   "mimetype": "text/x-python",
   "name": "python",
   "nbconvert_exporter": "python",
   "pygments_lexer": "ipython3",
   "version": "3.7.3"
  }
 },
 "nbformat": 4,
 "nbformat_minor": 2
}
