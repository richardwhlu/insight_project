{
 "cells": [
  {
   "cell_type": "code",
   "execution_count": 1,
   "metadata": {
    "ExecuteTime": {
     "end_time": "2019-06-27T17:37:26.502854Z",
     "start_time": "2019-06-27T17:37:24.823047Z"
    }
   },
   "outputs": [
    {
     "name": "stderr",
     "output_type": "stream",
     "text": [
      "/home/richard/anaconda3/envs/insight/lib/python3.7/site-packages/smart_open/smart_open_lib.py:398: UserWarning: This function is deprecated, use smart_open.open instead. See the migration notes for details: https://github.com/RaRe-Technologies/smart_open/blob/master/README.rst#migrating-to-the-new-open-function\n",
      "  'See the migration notes for details: %s' % _MIGRATION_NOTES_URL\n"
     ]
    }
   ],
   "source": [
    "import os\n",
    "os.chdir(\"1_feature_engineering\")\n",
    "exec(open(\"extract_review_features.py\").read())"
   ]
  },
  {
   "cell_type": "code",
   "execution_count": 2,
   "metadata": {
    "ExecuteTime": {
     "end_time": "2019-06-27T17:39:34.122611Z",
     "start_time": "2019-06-27T17:37:26.504281Z"
    }
   },
   "outputs": [
    {
     "name": "stdout",
     "output_type": "stream",
     "text": [
      "Preprocessing Stem & Join (P): 3.371755838394165\n",
      "Preprocessing No Stem (P): 3.2079265117645264\n",
      "Preprocessing No Stem & Punct (P): 3.064286231994629\n",
      "TFIDF: 0.12612318992614746\n",
      "Topics: 0.41328883171081543\n"
     ]
    },
    {
     "name": "stderr",
     "output_type": "stream",
     "text": [
      "/home/richard/anaconda3/envs/insight/lib/python3.7/site-packages/ipykernel_launcher.py:498: SettingWithCopyWarning: \n",
      "A value is trying to be set on a copy of a slice from a DataFrame.\n",
      "Try using .loc[row_indexer,col_indexer] = value instead\n",
      "\n",
      "See the caveats in the documentation: http://pandas.pydata.org/pandas-docs/stable/indexing.html#indexing-view-versus-copy\n"
     ]
    },
    {
     "name": "stdout",
     "output_type": "stream",
     "text": [
      "Metadata: 0.713386058807373\n"
     ]
    },
    {
     "name": "stderr",
     "output_type": "stream",
     "text": [
      "/home/richard/anaconda3/envs/insight/lib/python3.7/site-packages/ipykernel_launcher.py:354: RuntimeWarning: invalid value encountered in double_scalars\n"
     ]
    },
    {
     "name": "stdout",
     "output_type": "stream",
     "text": [
      "Syntax: 30.582294702529907\n",
      "Embeddings: 83.6813452243805\n"
     ]
    }
   ],
   "source": [
    "feature_matrix = produce_feature_matrix(data2)"
   ]
  },
  {
   "cell_type": "code",
   "execution_count": 3,
   "metadata": {
    "ExecuteTime": {
     "end_time": "2019-06-27T17:39:34.134654Z",
     "start_time": "2019-06-27T17:39:34.124261Z"
    }
   },
   "outputs": [
    {
     "data": {
      "text/plain": [
       "(1050, 459)"
      ]
     },
     "execution_count": 3,
     "metadata": {},
     "output_type": "execute_result"
    }
   ],
   "source": [
    "feature_matrix.shape"
   ]
  },
  {
   "cell_type": "markdown",
   "metadata": {},
   "source": [
    "#### Split out features by categories"
   ]
  },
  {
   "cell_type": "code",
   "execution_count": 4,
   "metadata": {
    "ExecuteTime": {
     "end_time": "2019-06-27T17:39:34.146685Z",
     "start_time": "2019-06-27T17:39:34.136119Z"
    }
   },
   "outputs": [],
   "source": [
    "feature_names = feature_matrix.columns[1:]"
   ]
  },
  {
   "cell_type": "code",
   "execution_count": 6,
   "metadata": {
    "ExecuteTime": {
     "end_time": "2019-06-27T17:41:52.114695Z",
     "start_time": "2019-06-27T17:41:52.093623Z"
    }
   },
   "outputs": [
    {
     "data": {
      "text/plain": [
       "['sen_len',\n",
       " 'sen_avg_len',\n",
       " 'sen_med_len',\n",
       " 'sen_money_len',\n",
       " 'sen_num_len',\n",
       " 'NOUN',\n",
       " 'VERB',\n",
       " 'ADJ',\n",
       " 'ADV',\n",
       " '.',\n",
       " 'ADP',\n",
       " 'NUM',\n",
       " 'PRON',\n",
       " 'PRT',\n",
       " 'DET',\n",
       " 'CONJ',\n",
       " 'X',\n",
       " 'NOUN_VERB',\n",
       " 'NOUN_ADJ',\n",
       " 'NOUN_ADV',\n",
       " 'NOUN_.',\n",
       " 'NOUN_ADP',\n",
       " 'NOUN_NUM',\n",
       " 'NOUN_PRON',\n",
       " 'NOUN_PRT',\n",
       " 'NOUN_DET',\n",
       " 'NOUN_CONJ',\n",
       " 'NOUN_X',\n",
       " 'VERB_NOUN',\n",
       " 'VERB_ADJ',\n",
       " 'VERB_ADV',\n",
       " 'VERB_.',\n",
       " 'VERB_ADP',\n",
       " 'VERB_NUM',\n",
       " 'VERB_PRON',\n",
       " 'VERB_PRT',\n",
       " 'VERB_DET',\n",
       " 'VERB_CONJ',\n",
       " 'VERB_X',\n",
       " 'ADJ_NOUN',\n",
       " 'ADJ_VERB',\n",
       " 'ADJ_ADV',\n",
       " 'ADJ_.',\n",
       " 'ADJ_ADP',\n",
       " 'ADJ_NUM',\n",
       " 'ADJ_PRON',\n",
       " 'ADJ_PRT',\n",
       " 'ADJ_DET',\n",
       " 'ADJ_CONJ',\n",
       " 'ADJ_X',\n",
       " 'ADV_NOUN',\n",
       " 'ADV_VERB',\n",
       " 'ADV_ADJ',\n",
       " 'ADV_.',\n",
       " 'ADV_ADP',\n",
       " 'ADV_NUM',\n",
       " 'ADV_PRON',\n",
       " 'ADV_PRT',\n",
       " 'ADV_DET',\n",
       " 'ADV_CONJ',\n",
       " 'ADV_X',\n",
       " '._NOUN',\n",
       " '._VERB',\n",
       " '._ADJ',\n",
       " '._ADV',\n",
       " '._ADP',\n",
       " '._NUM',\n",
       " '._PRON',\n",
       " '._PRT',\n",
       " '._DET',\n",
       " '._CONJ',\n",
       " '._X',\n",
       " 'ADP_NOUN',\n",
       " 'ADP_VERB',\n",
       " 'ADP_ADJ',\n",
       " 'ADP_ADV',\n",
       " 'ADP_.',\n",
       " 'ADP_NUM',\n",
       " 'ADP_PRON',\n",
       " 'ADP_PRT',\n",
       " 'ADP_DET',\n",
       " 'ADP_CONJ',\n",
       " 'ADP_X',\n",
       " 'NUM_NOUN',\n",
       " 'NUM_VERB',\n",
       " 'NUM_ADJ',\n",
       " 'NUM_ADV',\n",
       " 'NUM_.',\n",
       " 'NUM_ADP',\n",
       " 'NUM_PRON',\n",
       " 'NUM_PRT',\n",
       " 'NUM_DET',\n",
       " 'NUM_CONJ',\n",
       " 'NUM_X',\n",
       " 'PRON_NOUN',\n",
       " 'PRON_VERB',\n",
       " 'PRON_ADJ',\n",
       " 'PRON_ADV',\n",
       " 'PRON_.',\n",
       " 'PRON_ADP',\n",
       " 'PRON_NUM',\n",
       " 'PRON_PRT',\n",
       " 'PRON_DET',\n",
       " 'PRON_CONJ',\n",
       " 'PRON_X',\n",
       " 'PRT_NOUN',\n",
       " 'PRT_VERB',\n",
       " 'PRT_ADJ',\n",
       " 'PRT_ADV',\n",
       " 'PRT_.',\n",
       " 'PRT_ADP',\n",
       " 'PRT_NUM',\n",
       " 'PRT_PRON',\n",
       " 'PRT_DET',\n",
       " 'PRT_CONJ',\n",
       " 'PRT_X',\n",
       " 'DET_NOUN',\n",
       " 'DET_VERB',\n",
       " 'DET_ADJ',\n",
       " 'DET_ADV',\n",
       " 'DET_.',\n",
       " 'DET_ADP',\n",
       " 'DET_NUM',\n",
       " 'DET_PRON',\n",
       " 'DET_PRT',\n",
       " 'DET_CONJ',\n",
       " 'DET_X',\n",
       " 'CONJ_NOUN',\n",
       " 'CONJ_VERB',\n",
       " 'CONJ_ADJ',\n",
       " 'CONJ_ADV',\n",
       " 'CONJ_.',\n",
       " 'CONJ_ADP',\n",
       " 'CONJ_NUM',\n",
       " 'CONJ_PRON',\n",
       " 'CONJ_PRT',\n",
       " 'CONJ_DET',\n",
       " 'CONJ_X',\n",
       " 'X_NOUN',\n",
       " 'X_VERB',\n",
       " 'X_ADJ',\n",
       " 'X_ADV',\n",
       " 'X_.',\n",
       " 'X_ADP',\n",
       " 'X_NUM',\n",
       " 'X_PRON',\n",
       " 'X_PRT',\n",
       " 'X_DET',\n",
       " 'X_CONJ',\n",
       " 'food_3avg_sim',\n",
       " 'delicious_3avg_sim',\n",
       " 'service_3avg_sim',\n",
       " 'staff_3avg_sim',\n",
       " 'price_3avg_similarity',\n",
       " 'cost_3avg_similarity',\n",
       " 'ambiance_3avg_similarity',\n",
       " 'patio_3avg_similarity',\n",
       " 'loud_3avg_similarity',\n",
       " 'also',\n",
       " 'alway',\n",
       " 'amaz',\n",
       " 'around',\n",
       " 'ask',\n",
       " 'back',\n",
       " 'bar',\n",
       " 'best',\n",
       " 'better',\n",
       " 'bit',\n",
       " 'buffet',\n",
       " 'burger',\n",
       " 'came',\n",
       " 'chees',\n",
       " 'chicken',\n",
       " 'come',\n",
       " 'could',\n",
       " 'day',\n",
       " 'definit',\n",
       " 'delici',\n",
       " 'dessert',\n",
       " 'dinner',\n",
       " 'dish',\n",
       " 'drink',\n",
       " 'eat',\n",
       " 'enjoy',\n",
       " 'even',\n",
       " 'everyth',\n",
       " 'experi',\n",
       " 'favorit',\n",
       " 'first',\n",
       " 'flavor',\n",
       " 'food',\n",
       " 'fresh',\n",
       " 'fri',\n",
       " 'friend',\n",
       " 'get',\n",
       " 'go',\n",
       " 'good',\n",
       " 'got',\n",
       " 'great',\n",
       " 'hour',\n",
       " 'know',\n",
       " 'like',\n",
       " 'littl',\n",
       " 'locat',\n",
       " 'look',\n",
       " 'lot',\n",
       " 'love',\n",
       " 'made',\n",
       " 'make',\n",
       " 'meal',\n",
       " 'meat',\n",
       " 'menu',\n",
       " 'much',\n",
       " 'next',\n",
       " 'nice',\n",
       " 'night',\n",
       " 'one',\n",
       " 'order',\n",
       " 'peopl',\n",
       " 'pizza',\n",
       " 'place',\n",
       " 'pretti',\n",
       " 'price',\n",
       " 're',\n",
       " 'realli',\n",
       " 'recommend',\n",
       " 'restaur',\n",
       " 'right',\n",
       " 'room',\n",
       " 'salad',\n",
       " 'sauc',\n",
       " 'say',\n",
       " 'seat',\n",
       " 'serv',\n",
       " 'server',\n",
       " 'servic',\n",
       " 'side',\n",
       " 'star',\n",
       " 'still',\n",
       " 'sweet',\n",
       " 'tabl',\n",
       " 'take',\n",
       " 'tast',\n",
       " 'thing',\n",
       " 'think',\n",
       " 'time',\n",
       " 'top',\n",
       " 'tri',\n",
       " 'two',\n",
       " 'us',\n",
       " 've',\n",
       " 'vega',\n",
       " 'wait',\n",
       " 'want',\n",
       " 'way',\n",
       " 'well',\n",
       " 'went',\n",
       " 'would',\n",
       " '10 minut',\n",
       " '15 minut',\n",
       " '20 minut',\n",
       " 'also order',\n",
       " 'back tri',\n",
       " 'best part',\n",
       " 'ca wait',\n",
       " 'came back',\n",
       " 'chicken waffl',\n",
       " 'come back',\n",
       " 'cook perfectli',\n",
       " 'crab leg',\n",
       " 'custom servic',\n",
       " 'definit back',\n",
       " 'definit come',\n",
       " 'definit worth',\n",
       " 'dim sum',\n",
       " 'dine experi',\n",
       " 'even though',\n",
       " 'everi time',\n",
       " 'feel like',\n",
       " 'felt like',\n",
       " 'first time',\n",
       " 'foie gra',\n",
       " 'food came',\n",
       " 'food good',\n",
       " 'food great',\n",
       " 'food servic',\n",
       " 'french toast',\n",
       " 'fri chicken',\n",
       " 'fri rice',\n",
       " 'gave us',\n",
       " 'give place',\n",
       " 'go back',\n",
       " 'go wrong',\n",
       " 'good food',\n",
       " 'good servic',\n",
       " 'good thing',\n",
       " 'great food',\n",
       " 'great place',\n",
       " 'great servic',\n",
       " 'happi hour',\n",
       " 'highli recommend',\n",
       " 'ice cream',\n",
       " 'la vega',\n",
       " 'last night',\n",
       " 'last time',\n",
       " 'late night',\n",
       " 'like place',\n",
       " 'littl bit',\n",
       " 'long time',\n",
       " 'look forward',\n",
       " 'look like',\n",
       " 'love place',\n",
       " 'mac chees',\n",
       " 'make reserv',\n",
       " 'make sure',\n",
       " 'mash potato',\n",
       " 'medium rare',\n",
       " 'melt mouth',\n",
       " 'much better',\n",
       " 'must tri',\n",
       " 'new york',\n",
       " 'next time',\n",
       " 'noth special',\n",
       " 'one best',\n",
       " 'one favorit',\n",
       " 'one thing',\n",
       " 'place go',\n",
       " 'pork belli',\n",
       " 'pretti good',\n",
       " 'pretti much',\n",
       " 'prime rib',\n",
       " 'qualiti food',\n",
       " 'realli enjoy',\n",
       " 'realli good',\n",
       " 'realli like',\n",
       " 'realli nice',\n",
       " 'reason price',\n",
       " 'recommend place',\n",
       " 'right away',\n",
       " 'seem like',\n",
       " 'servic good',\n",
       " 'servic great',\n",
       " 'short rib',\n",
       " 'sweet potato',\n",
       " 'tast like',\n",
       " 'top notch',\n",
       " 'tri place',\n",
       " 've ever',\n",
       " 've never',\n",
       " 'wait line',\n",
       " 'wait time',\n",
       " 'want tri',\n",
       " 'would come',\n",
       " 'would definit',\n",
       " 'would go',\n",
       " 'would like',\n",
       " 'would recommend',\n",
       " 'would say',\n",
       " 'topic_0',\n",
       " 'topic_1',\n",
       " 'topic_2',\n",
       " 'topic_3',\n",
       " 'topic_4',\n",
       " 'topic_5',\n",
       " 'topic_6',\n",
       " 'topic_7',\n",
       " 'topic_8',\n",
       " 'topic_9',\n",
       " 'topic_10',\n",
       " 'topic_11',\n",
       " 'topic_12',\n",
       " 'topic_13',\n",
       " 'topic_14',\n",
       " 'topic_15',\n",
       " 'topic_16',\n",
       " 'topic_17',\n",
       " 'topic_18',\n",
       " 'topic_19',\n",
       " 'topic_20',\n",
       " 'topic_21',\n",
       " 'topic_22',\n",
       " 'topic_23',\n",
       " 'topic_24',\n",
       " 'topic_25',\n",
       " 'topic_26',\n",
       " 'topic_27',\n",
       " 'topic_28',\n",
       " 'topic_29',\n",
       " 'topic_30',\n",
       " 'topic_31',\n",
       " 'topic_32',\n",
       " 'topic_33',\n",
       " 'topic_34',\n",
       " 'topic_35',\n",
       " 'topic_36',\n",
       " 'topic_37',\n",
       " 'topic_38',\n",
       " 'topic_39',\n",
       " 'topic_40',\n",
       " 'topic_41',\n",
       " 'topic_42',\n",
       " 'topic_43',\n",
       " 'topic_44',\n",
       " 'topic_45',\n",
       " 'topic_46',\n",
       " 'topic_47',\n",
       " 'topic_48',\n",
       " 'topic_49',\n",
       " 'topic_50',\n",
       " 'topic_51',\n",
       " 'topic_52',\n",
       " 'topic_53',\n",
       " 'topic_54',\n",
       " 'topic_55',\n",
       " 'topic_56',\n",
       " 'topic_57',\n",
       " 'topic_58',\n",
       " 'topic_59',\n",
       " 'topic_60',\n",
       " 'topic_61',\n",
       " 'topic_62',\n",
       " 'topic_63',\n",
       " 'topic_64',\n",
       " 'topic_65',\n",
       " 'topic_66',\n",
       " 'topic_67',\n",
       " 'topic_68',\n",
       " 'topic_69',\n",
       " 'topic_70',\n",
       " 'topic_71',\n",
       " 'topic_72',\n",
       " 'topic_73',\n",
       " 'topic_74',\n",
       " 'topic_75',\n",
       " 'topic_76',\n",
       " 'topic_77',\n",
       " 'topic_78',\n",
       " 'topic_79',\n",
       " 'topic_80',\n",
       " 'topic_81',\n",
       " 'topic_82',\n",
       " 'topic_83',\n",
       " 'topic_84',\n",
       " 'topic_85',\n",
       " 'topic_86',\n",
       " 'topic_87',\n",
       " 'topic_88',\n",
       " 'topic_89',\n",
       " 'topic_90',\n",
       " 'topic_91',\n",
       " 'topic_92',\n",
       " 'topic_93',\n",
       " 'topic_94',\n",
       " 'topic_95',\n",
       " 'topic_96',\n",
       " 'topic_97',\n",
       " 'topic_98',\n",
       " 'topic_99']"
      ]
     },
     "execution_count": 6,
     "metadata": {},
     "output_type": "execute_result"
    }
   ],
   "source": [
    "list(feature_names)"
   ]
  },
  {
   "cell_type": "code",
   "execution_count": 7,
   "metadata": {
    "ExecuteTime": {
     "end_time": "2019-06-27T17:54:47.290956Z",
     "start_time": "2019-06-27T17:54:47.286659Z"
    }
   },
   "outputs": [],
   "source": [
    "metadata_columns = feature_names[:5]"
   ]
  },
  {
   "cell_type": "code",
   "execution_count": 8,
   "metadata": {
    "ExecuteTime": {
     "end_time": "2019-06-27T17:54:47.473458Z",
     "start_time": "2019-06-27T17:54:47.470276Z"
    }
   },
   "outputs": [],
   "source": [
    "syntax_columns = feature_names[5:149]"
   ]
  },
  {
   "cell_type": "code",
   "execution_count": 9,
   "metadata": {
    "ExecuteTime": {
     "end_time": "2019-06-27T17:54:47.649023Z",
     "start_time": "2019-06-27T17:54:47.639158Z"
    }
   },
   "outputs": [
    {
     "data": {
      "text/plain": [
       "Index(['NOUN', 'VERB', 'ADJ', 'ADV', '.', 'ADP', 'NUM', 'PRON', 'PRT', 'DET',\n",
       "       'CONJ', 'X', 'NOUN_VERB', 'NOUN_ADJ', 'NOUN_ADV', 'NOUN_.', 'NOUN_ADP',\n",
       "       'NOUN_NUM', 'NOUN_PRON', 'NOUN_PRT', 'NOUN_DET', 'NOUN_CONJ', 'NOUN_X',\n",
       "       'VERB_NOUN', 'VERB_ADJ', 'VERB_ADV', 'VERB_.', 'VERB_ADP', 'VERB_NUM',\n",
       "       'VERB_PRON', 'VERB_PRT', 'VERB_DET', 'VERB_CONJ', 'VERB_X', 'ADJ_NOUN',\n",
       "       'ADJ_VERB', 'ADJ_ADV', 'ADJ_.', 'ADJ_ADP', 'ADJ_NUM', 'ADJ_PRON',\n",
       "       'ADJ_PRT', 'ADJ_DET', 'ADJ_CONJ', 'ADJ_X', 'ADV_NOUN', 'ADV_VERB',\n",
       "       'ADV_ADJ', 'ADV_.', 'ADV_ADP'],\n",
       "      dtype='object')"
      ]
     },
     "execution_count": 9,
     "metadata": {},
     "output_type": "execute_result"
    }
   ],
   "source": [
    "syntax_columns[:50]"
   ]
  },
  {
   "cell_type": "code",
   "execution_count": 10,
   "metadata": {
    "ExecuteTime": {
     "end_time": "2019-06-27T17:54:47.797355Z",
     "start_time": "2019-06-27T17:54:47.795042Z"
    }
   },
   "outputs": [],
   "source": [
    "embeddings_columns = feature_names[149:158]"
   ]
  },
  {
   "cell_type": "code",
   "execution_count": 11,
   "metadata": {
    "ExecuteTime": {
     "end_time": "2019-06-27T17:54:47.977209Z",
     "start_time": "2019-06-27T17:54:47.973503Z"
    }
   },
   "outputs": [],
   "source": [
    "tfidf_unigrams_columns = feature_names[158:258]"
   ]
  },
  {
   "cell_type": "code",
   "execution_count": 12,
   "metadata": {
    "ExecuteTime": {
     "end_time": "2019-06-27T17:54:48.123829Z",
     "start_time": "2019-06-27T17:54:48.120704Z"
    }
   },
   "outputs": [
    {
     "data": {
      "text/plain": [
       "Index(['also', 'alway', 'amaz', 'around', 'ask', 'back', 'bar', 'best',\n",
       "       'better', 'bit', 'buffet', 'burger', 'came', 'chees', 'chicken', 'come',\n",
       "       'could', 'day', 'definit', 'delici', 'dessert', 'dinner', 'dish',\n",
       "       'drink', 'eat', 'enjoy', 'even', 'everyth', 'experi', 'favorit',\n",
       "       'first', 'flavor', 'food', 'fresh', 'fri', 'friend', 'get', 'go',\n",
       "       'good', 'got', 'great', 'hour', 'know', 'like', 'littl', 'locat',\n",
       "       'look', 'lot', 'love', 'made'],\n",
       "      dtype='object')"
      ]
     },
     "execution_count": 12,
     "metadata": {},
     "output_type": "execute_result"
    }
   ],
   "source": [
    "tfidf_unigrams_columns[:50]"
   ]
  },
  {
   "cell_type": "code",
   "execution_count": 13,
   "metadata": {
    "ExecuteTime": {
     "end_time": "2019-06-27T17:54:48.289765Z",
     "start_time": "2019-06-27T17:54:48.287537Z"
    }
   },
   "outputs": [],
   "source": [
    "tfidf_bigrams_columns = feature_names[258:358]"
   ]
  },
  {
   "cell_type": "code",
   "execution_count": 14,
   "metadata": {
    "ExecuteTime": {
     "end_time": "2019-06-27T17:54:48.477388Z",
     "start_time": "2019-06-27T17:54:48.470384Z"
    }
   },
   "outputs": [
    {
     "data": {
      "text/plain": [
       "Index(['10 minut', '15 minut', '20 minut', 'also order', 'back tri',\n",
       "       'best part', 'ca wait', 'came back', 'chicken waffl', 'come back',\n",
       "       'cook perfectli', 'crab leg', 'custom servic', 'definit back',\n",
       "       'definit come', 'definit worth', 'dim sum', 'dine experi',\n",
       "       'even though', 'everi time', 'feel like', 'felt like', 'first time',\n",
       "       'foie gra', 'food came', 'food good', 'food great', 'food servic',\n",
       "       'french toast', 'fri chicken', 'fri rice', 'gave us', 'give place',\n",
       "       'go back', 'go wrong', 'good food', 'good servic', 'good thing',\n",
       "       'great food', 'great place', 'great servic', 'happi hour',\n",
       "       'highli recommend', 'ice cream', 'la vega', 'last night', 'last time',\n",
       "       'late night', 'like place', 'littl bit'],\n",
       "      dtype='object')"
      ]
     },
     "execution_count": 14,
     "metadata": {},
     "output_type": "execute_result"
    }
   ],
   "source": [
    "tfidf_bigrams_columns[:50]"
   ]
  },
  {
   "cell_type": "code",
   "execution_count": 15,
   "metadata": {
    "ExecuteTime": {
     "end_time": "2019-06-27T17:54:48.660240Z",
     "start_time": "2019-06-27T17:54:48.656879Z"
    }
   },
   "outputs": [],
   "source": [
    "topics_columns = feature_names[358:458]"
   ]
  },
  {
   "cell_type": "markdown",
   "metadata": {},
   "source": [
    "#### Get the validation data"
   ]
  },
  {
   "cell_type": "code",
   "execution_count": 16,
   "metadata": {
    "ExecuteTime": {
     "end_time": "2019-06-27T17:54:49.066091Z",
     "start_time": "2019-06-27T17:54:49.035584Z"
    }
   },
   "outputs": [],
   "source": [
    "from sklearn.ensemble import RandomForestClassifier\n",
    "import pickle\n",
    "import copy"
   ]
  },
  {
   "cell_type": "code",
   "execution_count": 17,
   "metadata": {
    "ExecuteTime": {
     "end_time": "2019-06-27T17:54:49.210831Z",
     "start_time": "2019-06-27T17:54:49.205759Z"
    }
   },
   "outputs": [],
   "source": [
    "clf = RandomForestClassifier(n_estimators=1000,\n",
    "                             max_depth=3,\n",
    "                             min_samples_leaf=10,\n",
    "                             max_features=0.6,\n",
    "                             random_state=10191994,\n",
    "                             class_weight=\"balanced\",\n",
    "                             n_jobs=-1)"
   ]
  },
  {
   "cell_type": "code",
   "execution_count": 18,
   "metadata": {
    "ExecuteTime": {
     "end_time": "2019-06-27T17:54:49.418853Z",
     "start_time": "2019-06-27T17:54:49.382866Z"
    }
   },
   "outputs": [],
   "source": [
    "X_train_ambiance = pickle.load(open(\"../../0_data/5_train_validation_test/X_train_ambiance_1050.pickle\", \"rb\"))\n",
    "y_train_ambiance = pickle.load(open(\"../../0_data/5_train_validation_test/y_train_ambiance_1050.pickle\", \"rb\"))\n",
    "X_validation_ambiance = pickle.load(open(\"../../0_data/5_train_validation_test/X_validation_ambiance_1050.pickle\", \"rb\"))\n",
    "y_validation_ambiance = pickle.load(open(\"../../0_data/5_train_validation_test/y_validation_ambiance_1050.pickle\", \"rb\"))\n",
    "X_test_ambiance = pickle.load(open(\"../../0_data/5_train_validation_test/X_test_ambiance_1050.pickle\", \"rb\"))\n",
    "y_test_ambiance = pickle.load(open(\"../../0_data/5_train_validation_test/y_test_ambiance_1050.pickle\", \"rb\"))"
   ]
  },
  {
   "cell_type": "code",
   "execution_count": 19,
   "metadata": {
    "ExecuteTime": {
     "end_time": "2019-06-27T17:54:49.557285Z",
     "start_time": "2019-06-27T17:54:49.547743Z"
    }
   },
   "outputs": [],
   "source": [
    "def test_model(model, cat_list, train_x, train_y, test_x, test_y):\n",
    "    train_x_df = pd.DataFrame(train_x)\n",
    "    train_x_df.columns = [\"text\"] + list(feature_names)\n",
    "    test_x_df = pd.DataFrame(test_x)\n",
    "    test_x_df.columns = [\"text\"] + list(feature_names)\n",
    "    \n",
    "    tmp_train_df = pd.concat([train_x_df[x] for x in cat_list], axis=1)\n",
    "#     print(tmp_train_df.columns)\n",
    "    tmp_test_df = pd.concat([test_x_df[x] for x in cat_list], axis=1)\n",
    "    \n",
    "    tmp_model = copy.deepcopy(model)\n",
    "    tmp_model.fit(tmp_train_df, train_y)\n",
    "    \n",
    "#     return tmp_model\n",
    "    return (tmp_model, tmp_model.score(\n",
    "        tmp_test_df, test_y), tmp_test_df)"
   ]
  },
  {
   "cell_type": "code",
   "execution_count": 20,
   "metadata": {
    "ExecuteTime": {
     "end_time": "2019-06-27T17:54:49.749621Z",
     "start_time": "2019-06-27T17:54:49.723659Z"
    }
   },
   "outputs": [
    {
     "data": {
      "text/html": [
       "<div>\n",
       "<style scoped>\n",
       "    .dataframe tbody tr th:only-of-type {\n",
       "        vertical-align: middle;\n",
       "    }\n",
       "\n",
       "    .dataframe tbody tr th {\n",
       "        vertical-align: top;\n",
       "    }\n",
       "\n",
       "    .dataframe thead th {\n",
       "        text-align: right;\n",
       "    }\n",
       "</style>\n",
       "<table border=\"1\" class=\"dataframe\">\n",
       "  <thead>\n",
       "    <tr style=\"text-align: right;\">\n",
       "      <th></th>\n",
       "      <th>food</th>\n",
       "      <th>service</th>\n",
       "      <th>price</th>\n",
       "      <th>ambiance</th>\n",
       "    </tr>\n",
       "  </thead>\n",
       "  <tbody>\n",
       "    <tr>\n",
       "      <th>count</th>\n",
       "      <td>1050.000000</td>\n",
       "      <td>1050.000000</td>\n",
       "      <td>1050.000000</td>\n",
       "      <td>1050.000000</td>\n",
       "    </tr>\n",
       "    <tr>\n",
       "      <th>mean</th>\n",
       "      <td>0.908571</td>\n",
       "      <td>0.637143</td>\n",
       "      <td>0.263810</td>\n",
       "      <td>0.404762</td>\n",
       "    </tr>\n",
       "    <tr>\n",
       "      <th>std</th>\n",
       "      <td>0.288355</td>\n",
       "      <td>0.481053</td>\n",
       "      <td>0.440907</td>\n",
       "      <td>0.491080</td>\n",
       "    </tr>\n",
       "    <tr>\n",
       "      <th>min</th>\n",
       "      <td>0.000000</td>\n",
       "      <td>0.000000</td>\n",
       "      <td>0.000000</td>\n",
       "      <td>0.000000</td>\n",
       "    </tr>\n",
       "    <tr>\n",
       "      <th>25%</th>\n",
       "      <td>1.000000</td>\n",
       "      <td>0.000000</td>\n",
       "      <td>0.000000</td>\n",
       "      <td>0.000000</td>\n",
       "    </tr>\n",
       "    <tr>\n",
       "      <th>50%</th>\n",
       "      <td>1.000000</td>\n",
       "      <td>1.000000</td>\n",
       "      <td>0.000000</td>\n",
       "      <td>0.000000</td>\n",
       "    </tr>\n",
       "    <tr>\n",
       "      <th>75%</th>\n",
       "      <td>1.000000</td>\n",
       "      <td>1.000000</td>\n",
       "      <td>1.000000</td>\n",
       "      <td>1.000000</td>\n",
       "    </tr>\n",
       "    <tr>\n",
       "      <th>max</th>\n",
       "      <td>1.000000</td>\n",
       "      <td>1.000000</td>\n",
       "      <td>1.000000</td>\n",
       "      <td>1.000000</td>\n",
       "    </tr>\n",
       "  </tbody>\n",
       "</table>\n",
       "</div>"
      ],
      "text/plain": [
       "              food      service        price     ambiance\n",
       "count  1050.000000  1050.000000  1050.000000  1050.000000\n",
       "mean      0.908571     0.637143     0.263810     0.404762\n",
       "std       0.288355     0.481053     0.440907     0.491080\n",
       "min       0.000000     0.000000     0.000000     0.000000\n",
       "25%       1.000000     0.000000     0.000000     0.000000\n",
       "50%       1.000000     1.000000     0.000000     0.000000\n",
       "75%       1.000000     1.000000     1.000000     1.000000\n",
       "max       1.000000     1.000000     1.000000     1.000000"
      ]
     },
     "execution_count": 20,
     "metadata": {},
     "output_type": "execute_result"
    }
   ],
   "source": [
    "data.describe()"
   ]
  },
  {
   "cell_type": "code",
   "execution_count": 21,
   "metadata": {
    "ExecuteTime": {
     "end_time": "2019-06-27T17:54:49.839436Z",
     "start_time": "2019-06-27T17:54:49.836548Z"
    }
   },
   "outputs": [],
   "source": [
    "from sklearn.metrics import precision_recall_fscore_support, confusion_matrix"
   ]
  },
  {
   "cell_type": "code",
   "execution_count": 22,
   "metadata": {
    "ExecuteTime": {
     "end_time": "2019-06-27T17:54:57.823347Z",
     "start_time": "2019-06-27T17:54:49.961752Z"
    }
   },
   "outputs": [
    {
     "name": "stderr",
     "output_type": "stream",
     "text": [
      "/home/richard/anaconda3/envs/insight/lib/python3.7/site-packages/ipykernel_launcher.py:12: DataConversionWarning: A column-vector y was passed when a 1d array was expected. Please change the shape of y to (n_samples,), for example using ravel().\n",
      "  if sys.path[0] == '':\n",
      "/home/richard/anaconda3/envs/insight/lib/python3.7/site-packages/ipykernel_launcher.py:12: DataConversionWarning: A column-vector y was passed when a 1d array was expected. Please change the shape of y to (n_samples,), for example using ravel().\n",
      "  if sys.path[0] == '':\n",
      "/home/richard/anaconda3/envs/insight/lib/python3.7/site-packages/ipykernel_launcher.py:12: DataConversionWarning: A column-vector y was passed when a 1d array was expected. Please change the shape of y to (n_samples,), for example using ravel().\n",
      "  if sys.path[0] == '':\n",
      "/home/richard/anaconda3/envs/insight/lib/python3.7/site-packages/ipykernel_launcher.py:12: DataConversionWarning: A column-vector y was passed when a 1d array was expected. Please change the shape of y to (n_samples,), for example using ravel().\n",
      "  if sys.path[0] == '':\n",
      "/home/richard/anaconda3/envs/insight/lib/python3.7/site-packages/ipykernel_launcher.py:12: DataConversionWarning: A column-vector y was passed when a 1d array was expected. Please change the shape of y to (n_samples,), for example using ravel().\n",
      "  if sys.path[0] == '':\n"
     ]
    }
   ],
   "source": [
    "ambiance_clf1, ambiance_syntax, ambiance_test1 = test_model(clf, [syntax_columns], X_train_ambiance, y_train_ambiance, X_test_ambiance, y_test_ambiance)\n",
    "ambiance_clf2, ambiance_metadata, ambiance_test2 = test_model(clf, [metadata_columns, syntax_columns], X_train_ambiance, y_train_ambiance, X_test_ambiance, y_test_ambiance)\n",
    "ambiance_clf3, ambiance_tfidf, ambiance_test3 = test_model(clf, [metadata_columns, syntax_columns, tfidf_unigrams_columns, tfidf_bigrams_columns], X_train_ambiance, y_train_ambiance, X_test_ambiance, y_test_ambiance)\n",
    "ambiance_clf4, ambiance_topics, ambiance_test4 = test_model(clf, [metadata_columns, syntax_columns, tfidf_unigrams_columns, tfidf_bigrams_columns, topics_columns], X_train_ambiance, y_train_ambiance, X_test_ambiance, y_test_ambiance)\n",
    "ambiance_clf5, ambiance_embeddings, ambiance_test5 = test_model(clf, [metadata_columns, syntax_columns, tfidf_unigrams_columns, tfidf_bigrams_columns, topics_columns, embeddings_columns], X_train_ambiance, y_train_ambiance, X_test_ambiance, y_test_ambiance)\n",
    "ambiance_p = pickle.load(open(\"../../4_models/rf_ambiance_4iterations_athreshold_5000_200_1050.pickle\", \"rb\"))\n",
    "ambiance_pseudolabel = ambiance_p.score(X_test_ambiance[:, 1:], y_test_ambiance)"
   ]
  },
  {
   "cell_type": "code",
   "execution_count": 23,
   "metadata": {
    "ExecuteTime": {
     "end_time": "2019-06-27T17:54:58.034771Z",
     "start_time": "2019-06-27T17:54:57.824718Z"
    }
   },
   "outputs": [
    {
     "data": {
      "text/plain": [
       "array([[106,  19],\n",
       "       [ 25,  60]])"
      ]
     },
     "execution_count": 23,
     "metadata": {},
     "output_type": "execute_result"
    }
   ],
   "source": [
    "confusion_matrix(y_test_ambiance, ambiance_p.predict(X_test_ambiance[:, 1:]))"
   ]
  },
  {
   "cell_type": "code",
   "execution_count": 24,
   "metadata": {
    "ExecuteTime": {
     "end_time": "2019-06-27T17:54:58.244946Z",
     "start_time": "2019-06-27T17:54:58.036462Z"
    }
   },
   "outputs": [
    {
     "data": {
      "text/plain": [
       "(array([0.80916031, 0.75949367]),\n",
       " array([0.848     , 0.70588235]),\n",
       " array([0.828125  , 0.73170732]),\n",
       " array([125,  85]))"
      ]
     },
     "execution_count": 24,
     "metadata": {},
     "output_type": "execute_result"
    }
   ],
   "source": [
    "precision_recall_fscore_support(y_test_ambiance, ambiance_p.predict(X_test_ambiance[:, 1:]))"
   ]
  },
  {
   "cell_type": "code",
   "execution_count": 25,
   "metadata": {
    "ExecuteTime": {
     "end_time": "2019-06-27T17:54:58.250492Z",
     "start_time": "2019-06-27T17:54:58.247255Z"
    }
   },
   "outputs": [],
   "source": [
    "ambiance = [ambiance_syntax, ambiance_metadata, ambiance_tfidf, ambiance_topics, ambiance_embeddings, ambiance_pseudolabel]"
   ]
  },
  {
   "cell_type": "code",
   "execution_count": 26,
   "metadata": {
    "ExecuteTime": {
     "end_time": "2019-06-27T17:54:58.470505Z",
     "start_time": "2019-06-27T17:54:58.252340Z"
    }
   },
   "outputs": [
    {
     "data": {
      "text/plain": [
       "0.780952380952381"
      ]
     },
     "execution_count": 26,
     "metadata": {},
     "output_type": "execute_result"
    }
   ],
   "source": [
    "ambiance_clf5.score(ambiance_test5, y_test_ambiance)"
   ]
  },
  {
   "cell_type": "code",
   "execution_count": 42,
   "metadata": {
    "ExecuteTime": {
     "end_time": "2019-06-27T18:19:20.913505Z",
     "start_time": "2019-06-27T18:19:20.862957Z"
    }
   },
   "outputs": [],
   "source": [
    "with open(\"../../4_models/ambiance_1050_base.pickle\", \"wb\") as f:\n",
    "    pickle.dump(ambiance_clf5, f)\n",
    "    \n",
    "with open(\"../../0_data/6_figures/ambiance_1050_base_test_x.pickle\", \"wb\") as f:\n",
    "    pickle.dump(ambiance_test5, f)\n",
    "    \n",
    "with open(\"../../0_data/6_figures/ambiance_1050_base_test_y.pickle\", \"wb\") as f:\n",
    "    pickle.dump(y_test_ambiance, f)"
   ]
  },
  {
   "cell_type": "code",
   "execution_count": 27,
   "metadata": {
    "ExecuteTime": {
     "end_time": "2019-06-27T17:54:58.476246Z",
     "start_time": "2019-06-27T17:54:58.472224Z"
    }
   },
   "outputs": [
    {
     "data": {
      "text/plain": [
       "Index(['sen_len', 'sen_avg_len', 'sen_med_len', 'sen_money_len', 'sen_num_len',\n",
       "       'NOUN', 'VERB', 'ADJ', 'ADV', '.',\n",
       "       ...\n",
       "       'topic_99', 'food_3avg_sim', 'delicious_3avg_sim', 'service_3avg_sim',\n",
       "       'staff_3avg_sim', 'price_3avg_similarity', 'cost_3avg_similarity',\n",
       "       'ambiance_3avg_similarity', 'patio_3avg_similarity',\n",
       "       'loud_3avg_similarity'],\n",
       "      dtype='object', length=458)"
      ]
     },
     "execution_count": 27,
     "metadata": {},
     "output_type": "execute_result"
    }
   ],
   "source": [
    "ambiance_test5.columns"
   ]
  },
  {
   "cell_type": "code",
   "execution_count": 28,
   "metadata": {
    "ExecuteTime": {
     "end_time": "2019-06-27T17:54:58.485001Z",
     "start_time": "2019-06-27T17:54:58.477573Z"
    }
   },
   "outputs": [
    {
     "data": {
      "text/plain": [
       "[0.5857142857142857,\n",
       " 0.5857142857142857,\n",
       " 0.6238095238095238,\n",
       " 0.7095238095238096,\n",
       " 0.780952380952381,\n",
       " 0.7904761904761904]"
      ]
     },
     "execution_count": 28,
     "metadata": {},
     "output_type": "execute_result"
    }
   ],
   "source": [
    "ambiance"
   ]
  },
  {
   "cell_type": "code",
   "execution_count": 36,
   "metadata": {
    "ExecuteTime": {
     "end_time": "2019-06-27T18:13:58.401485Z",
     "start_time": "2019-06-27T18:13:51.764115Z"
    }
   },
   "outputs": [
    {
     "name": "stderr",
     "output_type": "stream",
     "text": [
      "/home/richard/anaconda3/envs/insight/lib/python3.7/site-packages/ipykernel_launcher.py:12: DataConversionWarning: A column-vector y was passed when a 1d array was expected. Please change the shape of y to (n_samples,), for example using ravel().\n",
      "  if sys.path[0] == '':\n",
      "/home/richard/anaconda3/envs/insight/lib/python3.7/site-packages/ipykernel_launcher.py:12: DataConversionWarning: A column-vector y was passed when a 1d array was expected. Please change the shape of y to (n_samples,), for example using ravel().\n",
      "  if sys.path[0] == '':\n",
      "/home/richard/anaconda3/envs/insight/lib/python3.7/site-packages/ipykernel_launcher.py:12: DataConversionWarning: A column-vector y was passed when a 1d array was expected. Please change the shape of y to (n_samples,), for example using ravel().\n",
      "  if sys.path[0] == '':\n",
      "/home/richard/anaconda3/envs/insight/lib/python3.7/site-packages/ipykernel_launcher.py:12: DataConversionWarning: A column-vector y was passed when a 1d array was expected. Please change the shape of y to (n_samples,), for example using ravel().\n",
      "  if sys.path[0] == '':\n",
      "/home/richard/anaconda3/envs/insight/lib/python3.7/site-packages/ipykernel_launcher.py:12: DataConversionWarning: A column-vector y was passed when a 1d array was expected. Please change the shape of y to (n_samples,), for example using ravel().\n",
      "  if sys.path[0] == '':\n"
     ]
    }
   ],
   "source": [
    "X_train_service = pickle.load(open(\"../../0_data/5_train_validation_test/X_train_service_1050.pickle\", \"rb\"))\n",
    "y_train_service = pickle.load(open(\"../../0_data/5_train_validation_test/y_train_service_1050.pickle\", \"rb\"))\n",
    "X_validation_service = pickle.load(open(\"../../0_data/5_train_validation_test/X_validation_service_1050.pickle\", \"rb\"))\n",
    "y_validation_service = pickle.load(open(\"../../0_data/5_train_validation_test/y_validation_service_1050.pickle\", \"rb\"))\n",
    "X_test_service = pickle.load(open(\"../../0_data/5_train_validation_test/X_test_service_1050.pickle\", \"rb\"))\n",
    "y_test_service = pickle.load(open(\"../../0_data/5_train_validation_test/y_test_service_1050.pickle\", \"rb\"))\n",
    "\n",
    "service_clf1, service_syntax, service_test1 = test_model(clf, [syntax_columns], X_train_service, y_train_service, X_test_service, y_test_service)\n",
    "service_clf2, service_metadata, service_test2 = test_model(clf, [metadata_columns, syntax_columns], X_train_service, y_train_service, X_test_service, y_test_service)\n",
    "service_clf3, service_tfidf, service_test3 = test_model(clf, [metadata_columns, syntax_columns, tfidf_unigrams_columns, tfidf_bigrams_columns], X_train_service, y_train_service, X_test_service, y_test_service)\n",
    "service_clf4, service_topics, service_test4 = test_model(clf, [metadata_columns, syntax_columns, tfidf_unigrams_columns, tfidf_bigrams_columns, topics_columns], X_train_service, y_train_service, X_test_service, y_test_service)\n",
    "service_clf5, service_embeddings, service_test5 = test_model(clf, [metadata_columns, syntax_columns, tfidf_unigrams_columns, tfidf_bigrams_columns, topics_columns, embeddings_columns], X_train_service, y_train_service, X_test_service, y_test_service)\n",
    "service_p = pickle.load(open(\"../../4_models/rf_service_4iterations_athreshold_5000_200_1050.pickle\", \"rb\"))\n",
    "service_pseudolabel = service_p.score(X_test_service[:, 1:], y_test_service)\n",
    "\n",
    "service = [service_syntax, service_metadata, service_tfidf, service_topics, service_embeddings, service_pseudolabel]"
   ]
  },
  {
   "cell_type": "code",
   "execution_count": 37,
   "metadata": {
    "ExecuteTime": {
     "end_time": "2019-06-27T18:15:20.602651Z",
     "start_time": "2019-06-27T18:15:20.388697Z"
    }
   },
   "outputs": [
    {
     "data": {
      "text/plain": [
       "0.861904761904762"
      ]
     },
     "execution_count": 37,
     "metadata": {},
     "output_type": "execute_result"
    }
   ],
   "source": [
    "service_clf5.score(service_test5, y_test_service)"
   ]
  },
  {
   "cell_type": "code",
   "execution_count": 43,
   "metadata": {
    "ExecuteTime": {
     "end_time": "2019-06-27T18:21:28.423685Z",
     "start_time": "2019-06-27T18:21:28.130647Z"
    }
   },
   "outputs": [],
   "source": [
    "with open(\"../../4_models/service_1050_base.pickle\", \"wb\") as f:\n",
    "    pickle.dump(service_clf5, f)\n",
    "    \n",
    "with open(\"../../0_data/6_figures/service_1050_base_test_x.pickle\", \"wb\") as f:\n",
    "    pickle.dump(service_test5, f)\n",
    "    \n",
    "with open(\"../../0_data/6_figures/service_1050_base_test_y.pickle\", \"wb\") as f:\n",
    "    pickle.dump(y_test_service, f)"
   ]
  },
  {
   "cell_type": "code",
   "execution_count": 38,
   "metadata": {
    "ExecuteTime": {
     "end_time": "2019-06-27T18:16:05.984450Z",
     "start_time": "2019-06-27T18:15:58.974818Z"
    }
   },
   "outputs": [
    {
     "name": "stderr",
     "output_type": "stream",
     "text": [
      "/home/richard/anaconda3/envs/insight/lib/python3.7/site-packages/ipykernel_launcher.py:12: DataConversionWarning: A column-vector y was passed when a 1d array was expected. Please change the shape of y to (n_samples,), for example using ravel().\n",
      "  if sys.path[0] == '':\n",
      "/home/richard/anaconda3/envs/insight/lib/python3.7/site-packages/ipykernel_launcher.py:12: DataConversionWarning: A column-vector y was passed when a 1d array was expected. Please change the shape of y to (n_samples,), for example using ravel().\n",
      "  if sys.path[0] == '':\n",
      "/home/richard/anaconda3/envs/insight/lib/python3.7/site-packages/ipykernel_launcher.py:12: DataConversionWarning: A column-vector y was passed when a 1d array was expected. Please change the shape of y to (n_samples,), for example using ravel().\n",
      "  if sys.path[0] == '':\n",
      "/home/richard/anaconda3/envs/insight/lib/python3.7/site-packages/ipykernel_launcher.py:12: DataConversionWarning: A column-vector y was passed when a 1d array was expected. Please change the shape of y to (n_samples,), for example using ravel().\n",
      "  if sys.path[0] == '':\n",
      "/home/richard/anaconda3/envs/insight/lib/python3.7/site-packages/ipykernel_launcher.py:12: DataConversionWarning: A column-vector y was passed when a 1d array was expected. Please change the shape of y to (n_samples,), for example using ravel().\n",
      "  if sys.path[0] == '':\n"
     ]
    }
   ],
   "source": [
    "X_train_price = pickle.load(open(\"../../0_data/5_train_validation_test/X_train_price_1050.pickle\", \"rb\"))\n",
    "y_train_price = pickle.load(open(\"../../0_data/5_train_validation_test/y_train_price_1050.pickle\", \"rb\"))\n",
    "X_validation_price = pickle.load(open(\"../../0_data/5_train_validation_test/X_validation_price_1050.pickle\", \"rb\"))\n",
    "y_validation_price = pickle.load(open(\"../../0_data/5_train_validation_test/y_validation_price_1050.pickle\", \"rb\"))\n",
    "X_test_price = pickle.load(open(\"../../0_data/5_train_validation_test/X_test_price_1050.pickle\", \"rb\"))\n",
    "y_test_price = pickle.load(open(\"../../0_data/5_train_validation_test/y_test_price_1050.pickle\", \"rb\"))\n",
    "\n",
    "price_clf1, price_syntax, price_test1 = test_model(clf, [syntax_columns], X_train_price, y_train_price, X_test_price, y_test_price)\n",
    "price_clf2, price_metadata, price_test2 = test_model(clf, [metadata_columns, syntax_columns], X_train_price, y_train_price, X_test_price, y_test_price)\n",
    "price_clf3, price_tfidf, price_test3 = test_model(clf, [metadata_columns, syntax_columns, tfidf_unigrams_columns, tfidf_bigrams_columns], X_train_price, y_train_price, X_test_price, y_test_price)\n",
    "price_clf4, price_topics, price_test4 = test_model(clf, [metadata_columns, syntax_columns, tfidf_unigrams_columns, tfidf_bigrams_columns, topics_columns], X_train_price, y_train_price, X_test_price, y_test_price)\n",
    "price_clf5, price_embeddings, price_test5 = test_model(clf, [metadata_columns, syntax_columns, tfidf_unigrams_columns, tfidf_bigrams_columns, topics_columns, embeddings_columns], X_train_price, y_train_price, X_test_price, y_test_price)\n",
    "price_p = pickle.load(open(\"../../4_models/rf_price_4iterations_athreshold_5000_200_1050.pickle\", \"rb\"))\n",
    "price_pseudolabel = price_p.score(X_test_price[:, 1:], y_test_price)\n",
    "\n",
    "price = [price_syntax, price_metadata, price_tfidf, price_topics, price_embeddings, price_pseudolabel]"
   ]
  },
  {
   "cell_type": "code",
   "execution_count": 39,
   "metadata": {
    "ExecuteTime": {
     "end_time": "2019-06-27T18:16:12.910975Z",
     "start_time": "2019-06-27T18:16:12.689154Z"
    }
   },
   "outputs": [
    {
     "data": {
      "text/plain": [
       "0.8333333333333334"
      ]
     },
     "execution_count": 39,
     "metadata": {},
     "output_type": "execute_result"
    }
   ],
   "source": [
    "price_clf5.score(price_test5, y_test_price)"
   ]
  },
  {
   "cell_type": "code",
   "execution_count": 44,
   "metadata": {
    "ExecuteTime": {
     "end_time": "2019-06-27T18:21:42.607015Z",
     "start_time": "2019-06-27T18:21:42.549930Z"
    }
   },
   "outputs": [],
   "source": [
    "with open(\"../../4_models/price_1050_base.pickle\", \"wb\") as f:\n",
    "    pickle.dump(price_clf5, f)\n",
    "    \n",
    "with open(\"../../0_data/6_figures/price_1050_base_test_x.pickle\", \"wb\") as f:\n",
    "    pickle.dump(price_test5, f)\n",
    "    \n",
    "with open(\"../../0_data/6_figures/price_1050_base_test_y.pickle\", \"wb\") as f:\n",
    "    pickle.dump(y_test_price, f)"
   ]
  },
  {
   "cell_type": "code",
   "execution_count": 40,
   "metadata": {
    "ExecuteTime": {
     "end_time": "2019-06-27T18:16:34.704978Z",
     "start_time": "2019-06-27T18:16:34.702137Z"
    }
   },
   "outputs": [
    {
     "data": {
      "text/plain": [
       "[0.6571428571428571,\n",
       " 0.7380952380952381,\n",
       " 0.8142857142857143,\n",
       " 0.8142857142857143,\n",
       " 0.8333333333333334,\n",
       " 0.8428571428571429]"
      ]
     },
     "execution_count": 40,
     "metadata": {},
     "output_type": "execute_result"
    }
   ],
   "source": [
    "price"
   ]
  },
  {
   "cell_type": "code",
   "execution_count": 45,
   "metadata": {
    "ExecuteTime": {
     "end_time": "2019-06-27T18:23:19.296931Z",
     "start_time": "2019-06-27T18:23:12.171919Z"
    }
   },
   "outputs": [
    {
     "name": "stderr",
     "output_type": "stream",
     "text": [
      "/home/richard/anaconda3/envs/insight/lib/python3.7/site-packages/ipykernel_launcher.py:12: DataConversionWarning: A column-vector y was passed when a 1d array was expected. Please change the shape of y to (n_samples,), for example using ravel().\n",
      "  if sys.path[0] == '':\n",
      "/home/richard/anaconda3/envs/insight/lib/python3.7/site-packages/ipykernel_launcher.py:12: DataConversionWarning: A column-vector y was passed when a 1d array was expected. Please change the shape of y to (n_samples,), for example using ravel().\n",
      "  if sys.path[0] == '':\n",
      "/home/richard/anaconda3/envs/insight/lib/python3.7/site-packages/ipykernel_launcher.py:12: DataConversionWarning: A column-vector y was passed when a 1d array was expected. Please change the shape of y to (n_samples,), for example using ravel().\n",
      "  if sys.path[0] == '':\n",
      "/home/richard/anaconda3/envs/insight/lib/python3.7/site-packages/ipykernel_launcher.py:12: DataConversionWarning: A column-vector y was passed when a 1d array was expected. Please change the shape of y to (n_samples,), for example using ravel().\n",
      "  if sys.path[0] == '':\n",
      "/home/richard/anaconda3/envs/insight/lib/python3.7/site-packages/ipykernel_launcher.py:12: DataConversionWarning: A column-vector y was passed when a 1d array was expected. Please change the shape of y to (n_samples,), for example using ravel().\n",
      "  if sys.path[0] == '':\n"
     ]
    }
   ],
   "source": [
    "X_train_food = pickle.load(open(\"../../0_data/5_train_validation_test/X_train_food_1050.pickle\", \"rb\"))\n",
    "y_train_food = pickle.load(open(\"../../0_data/5_train_validation_test/y_train_food_1050.pickle\", \"rb\"))\n",
    "X_validation_food = pickle.load(open(\"../../0_data/5_train_validation_test/X_validation_food_1050.pickle\", \"rb\"))\n",
    "y_validation_food = pickle.load(open(\"../../0_data/5_train_validation_test/y_validation_food_1050.pickle\", \"rb\"))\n",
    "X_test_food = pickle.load(open(\"../../0_data/5_train_validation_test/X_test_food_1050.pickle\", \"rb\"))\n",
    "y_test_food = pickle.load(open(\"../../0_data/5_train_validation_test/y_test_food_1050.pickle\", \"rb\"))\n",
    "\n",
    "food_clf1, food_syntax, food_test1 = test_model(clf, [syntax_columns], X_train_food, y_train_food, X_test_food, y_test_food)\n",
    "food_clf2, food_metadata, food_test2 = test_model(clf, [metadata_columns, syntax_columns], X_train_food, y_train_food, X_test_food, y_test_food)\n",
    "food_clf3, food_tfidf, food_test3 = test_model(clf, [metadata_columns, syntax_columns, tfidf_unigrams_columns, tfidf_bigrams_columns], X_train_food, y_train_food, X_test_food, y_test_food)\n",
    "food_clf4, food_topics, food_test4 = test_model(clf, [metadata_columns, syntax_columns, tfidf_unigrams_columns, tfidf_bigrams_columns, topics_columns], X_train_food, y_train_food, X_test_food, y_test_food)\n",
    "food_clf5, food_embeddings, food_test5 = test_model(clf, [metadata_columns, syntax_columns, tfidf_unigrams_columns, tfidf_bigrams_columns, topics_columns, embeddings_columns], X_train_food, y_train_food, X_test_food, y_test_food)\n",
    "food_p = pickle.load(open(\"../../4_models/rf_food_4iterations_athreshold_5000_200_1050.pickle\", \"rb\"))\n",
    "food_pseudolabel = food_p.score(X_test_food[:, 1:], y_test_food)\n",
    "\n",
    "food = [food_syntax, food_metadata, food_tfidf, food_topics, food_embeddings, food_pseudolabel]"
   ]
  },
  {
   "cell_type": "code",
   "execution_count": 46,
   "metadata": {
    "ExecuteTime": {
     "end_time": "2019-06-27T18:23:26.972002Z",
     "start_time": "2019-06-27T18:23:26.757528Z"
    }
   },
   "outputs": [
    {
     "data": {
      "text/plain": [
       "0.8666666666666667"
      ]
     },
     "execution_count": 46,
     "metadata": {},
     "output_type": "execute_result"
    }
   ],
   "source": [
    "food_clf5.score(food_test5, y_test_food)"
   ]
  },
  {
   "cell_type": "code",
   "execution_count": 48,
   "metadata": {
    "ExecuteTime": {
     "end_time": "2019-06-27T18:23:59.588290Z",
     "start_time": "2019-06-27T18:23:59.544234Z"
    }
   },
   "outputs": [],
   "source": [
    "with open(\"../../4_models/food_1050_base.pickle\", \"wb\") as f:\n",
    "    pickle.dump(food_clf5, f)\n",
    "    \n",
    "with open(\"../../0_data/6_figures/food_1050_base_test_x.pickle\", \"wb\") as f:\n",
    "    pickle.dump(food_test5, f)\n",
    "    \n",
    "with open(\"../../0_data/6_figures/food_1050_base_test_y.pickle\", \"wb\") as f:\n",
    "    pickle.dump(y_test_food, f)"
   ]
  },
  {
   "cell_type": "code",
   "execution_count": 47,
   "metadata": {
    "ExecuteTime": {
     "end_time": "2019-06-27T18:23:34.725616Z",
     "start_time": "2019-06-27T18:23:34.717368Z"
    }
   },
   "outputs": [
    {
     "data": {
      "text/plain": [
       "[0.7857142857142857,\n",
       " 0.819047619047619,\n",
       " 0.7476190476190476,\n",
       " 0.7761904761904762,\n",
       " 0.8666666666666667,\n",
       " 0.8857142857142857]"
      ]
     },
     "execution_count": 47,
     "metadata": {},
     "output_type": "execute_result"
    }
   ],
   "source": [
    "food"
   ]
  },
  {
   "cell_type": "code",
   "execution_count": null,
   "metadata": {
    "ExecuteTime": {
     "end_time": "2019-06-27T17:54:59.672371Z",
     "start_time": "2019-06-27T17:54:52.432Z"
    }
   },
   "outputs": [],
   "source": [
    "df = pd.DataFrame({\"features\": [\"1 [Syntax]\",\n",
    "                                \"2 [+ Metadata]\",\n",
    "                                \"3 [+ TF-IDF]\",\n",
    "                                \"4 [+ Topics]\",\n",
    "                                \"5 [+ Embeddings]\",\n",
    "                                \"6 [Pseudo-Label]\"],\n",
    "                   \"food\": food,\n",
    "                   \"service\": service,\n",
    "                   \"price\": price,\n",
    "                   \"ambiance\": ambiance})"
   ]
  },
  {
   "cell_type": "code",
   "execution_count": null,
   "metadata": {
    "ExecuteTime": {
     "end_time": "2019-06-27T17:54:59.673134Z",
     "start_time": "2019-06-27T17:54:52.558Z"
    }
   },
   "outputs": [],
   "source": [
    "import matplotlib.pyplot as plt\n",
    "import seaborn as sns"
   ]
  },
  {
   "cell_type": "code",
   "execution_count": null,
   "metadata": {
    "ExecuteTime": {
     "end_time": "2019-06-27T17:54:59.673848Z",
     "start_time": "2019-06-27T17:54:52.677Z"
    }
   },
   "outputs": [],
   "source": [
    "f, ax = plt.subplots()\n",
    "sns.lineplot(x=\"features\", y=\"food\", markers=True, data=df,\n",
    "             color=\"blue\", label=\"food\")\n",
    "sns.lineplot(x=\"features\", y=\"service\", markers=True, data=df,\n",
    "             color=\"red\", label=\"service\")\n",
    "sns.lineplot(x=\"features\", y=\"price\", markers=True, data=df,\n",
    "             color=\"green\", label=\"price\")\n",
    "sns.lineplot(x=\"features\", y=\"ambiance\", markers=True, data=df,\n",
    "             color=\"orange\", label=\"ambiance\")\n",
    "plt.setp(ax.get_xticklabels(), rotation=30)\n",
    "ax.set(ylabel=\"Accuracy\", xlabel=\"Model\", ylim=(0.4, 1))\n",
    "ax.legend(ncol=2, loc=\"lower right\", frameon=True)\n",
    "ax.grid(True)\n",
    "sns.despine(left=True, bottom=True)\n",
    "plt.tight_layout()\n",
    "plt.savefig(\"../../3_reports/figures/model_accuracy_20190620.eps\", format='eps', dpi=1000)"
   ]
  },
  {
   "cell_type": "code",
   "execution_count": null,
   "metadata": {
    "ExecuteTime": {
     "end_time": "2019-06-27T17:54:59.674619Z",
     "start_time": "2019-06-27T17:54:52.776Z"
    }
   },
   "outputs": [],
   "source": [
    "f, ax = plt.subplots()\n",
    "sns.lineplot(x=\"features\", y=\"food\", markers=True, data=df,\n",
    "             color=\"blue\", label=\"food\")\n",
    "plt.setp(ax.get_xticklabels(), rotation=30)\n",
    "ax.set(ylabel=\"Accuracy\", xlabel=\"Model\", ylim=(0.4, 1))\n",
    "ax.legend(ncol=2, loc=\"lower right\", frameon=True)\n",
    "ax.grid(True)\n",
    "sns.despine(left=True, bottom=True)\n",
    "plt.tight_layout()\n",
    "plt.savefig(\"../../3_reports/figures/food_model_accuracy_20190620.eps\", format='eps', dpi=1000)"
   ]
  },
  {
   "cell_type": "code",
   "execution_count": null,
   "metadata": {
    "ExecuteTime": {
     "end_time": "2019-06-27T17:54:59.675362Z",
     "start_time": "2019-06-27T17:54:53.275Z"
    }
   },
   "outputs": [],
   "source": [
    "f, ax = plt.subplots()\n",
    "sns.lineplot(x=\"features\", y=\"service\", markers=True, data=df,\n",
    "             color=\"red\", label=\"service\")\n",
    "plt.setp(ax.get_xticklabels(), rotation=30)\n",
    "ax.set(ylabel=\"Accuracy\", xlabel=\"Model\", ylim=(0.4, 1))\n",
    "ax.legend(ncol=2, loc=\"lower right\", frameon=True)\n",
    "ax.grid(True)\n",
    "sns.despine(left=True, bottom=True)\n",
    "plt.tight_layout()\n",
    "plt.savefig(\"../../3_reports/figures/service_model_accuracy_20190620.eps\", format='eps', dpi=1000)"
   ]
  },
  {
   "cell_type": "code",
   "execution_count": null,
   "metadata": {
    "ExecuteTime": {
     "end_time": "2019-06-27T17:54:59.676154Z",
     "start_time": "2019-06-27T17:54:53.321Z"
    }
   },
   "outputs": [],
   "source": [
    "f, ax = plt.subplots()\n",
    "sns.lineplot(x=\"features\", y=\"price\", markers=True, data=df,\n",
    "             color=\"green\", label=\"price\")\n",
    "plt.setp(ax.get_xticklabels(), rotation=30)\n",
    "ax.set(ylabel=\"Accuracy\", xlabel=\"Model\", ylim=(0.4, 1))\n",
    "ax.legend(ncol=2, loc=\"lower right\", frameon=True)\n",
    "ax.grid(True)\n",
    "sns.despine(left=True, bottom=True)\n",
    "plt.tight_layout()\n",
    "plt.savefig(\"../../3_reports/figures/price_model_accuracy_20190620.eps\", format='eps', dpi=1000)"
   ]
  },
  {
   "cell_type": "code",
   "execution_count": null,
   "metadata": {
    "ExecuteTime": {
     "end_time": "2019-06-27T17:54:59.676912Z",
     "start_time": "2019-06-27T17:54:53.364Z"
    }
   },
   "outputs": [],
   "source": [
    "f, ax = plt.subplots()\n",
    "sns.lineplot(x=\"features\", y=\"ambiance\", markers=True, data=df,\n",
    "             color=\"orange\", label=\"ambiance\")\n",
    "plt.setp(ax.get_xticklabels(), rotation=30)\n",
    "ax.set(ylabel=\"Accuracy\", xlabel=\"Model\", ylim=(0.4, 1))\n",
    "ax.legend(ncol=2, loc=\"lower right\", frameon=True)\n",
    "ax.grid(True)\n",
    "sns.despine(left=True, bottom=True)\n",
    "plt.tight_layout()\n",
    "plt.savefig(\"../../3_reports/figures/ambiance_model_accuracy_20190620.eps\", format='eps', dpi=1000)"
   ]
  },
  {
   "cell_type": "markdown",
   "metadata": {},
   "source": [
    "#### Features"
   ]
  },
  {
   "cell_type": "code",
   "execution_count": 34,
   "metadata": {
    "ExecuteTime": {
     "end_time": "2019-06-27T17:57:35.567668Z",
     "start_time": "2019-06-27T17:57:35.318837Z"
    }
   },
   "outputs": [],
   "source": [
    "ambiance_embeddings_df = pd.DataFrame(sorted(list(zip(ambiance_test5.columns, ambiance_clf5.feature_importances_)), key=lambda x: -x[1]))\n",
    "ambiance_embeddings_df.columns = [\"feature\", \"importance\"]\n",
    "ambiance_embeddings_tmp_df = ambiance_embeddings_df.iloc[:20, :]\n",
    "ambiance_embeddings_tmp_df.to_csv(\"../../0_data/6_figures/ambiance_base_model_fi.csv\")"
   ]
  },
  {
   "cell_type": "code",
   "execution_count": null,
   "metadata": {
    "ExecuteTime": {
     "end_time": "2019-06-27T17:54:59.678220Z",
     "start_time": "2019-06-27T17:54:53.478Z"
    }
   },
   "outputs": [],
   "source": [
    "ambiance_p_df = pd.DataFrame(sorted(list(zip(feature_names, ambiance_p.feature_importances_)), key=lambda x: -x[1]))\n",
    "ambiance_p_df.columns = [\"feature\", \"importance\"]"
   ]
  },
  {
   "cell_type": "code",
   "execution_count": null,
   "metadata": {
    "ExecuteTime": {
     "end_time": "2019-06-27T17:54:59.679058Z",
     "start_time": "2019-06-27T17:54:53.519Z"
    }
   },
   "outputs": [],
   "source": [
    "ambiance_p_tmp_df = ambiance_p_df.iloc[:6,:]"
   ]
  },
  {
   "cell_type": "code",
   "execution_count": null,
   "metadata": {
    "ExecuteTime": {
     "end_time": "2019-06-27T17:54:59.680141Z",
     "start_time": "2019-06-27T17:54:53.556Z"
    }
   },
   "outputs": [],
   "source": [
    "ambiance_p_tmp_df"
   ]
  },
  {
   "cell_type": "code",
   "execution_count": null,
   "metadata": {
    "ExecuteTime": {
     "end_time": "2019-06-27T17:54:59.681400Z",
     "start_time": "2019-06-27T17:54:53.600Z"
    }
   },
   "outputs": [],
   "source": [
    "ambiance_p_tmp_df[\"feature_name\"] = [\"Sim. to Ambiance\",\n",
    "                                     \"Sim. to Patio\",\n",
    "                                     \"Sim. to Loud\",\n",
    "                                     \"Topic: Atmosphere\",\n",
    "                                     \"Say\",\n",
    "                                     \"Topic: Interior\"]"
   ]
  },
  {
   "cell_type": "code",
   "execution_count": null,
   "metadata": {
    "ExecuteTime": {
     "end_time": "2019-06-27T17:54:59.682892Z",
     "start_time": "2019-06-27T17:54:53.644Z"
    }
   },
   "outputs": [],
   "source": [
    "f, ax = plt.subplots()\n",
    "ax = sns.barplot(y=\"feature_name\", x=\"importance\", data=ambiance_p_tmp_df,\n",
    "                 palette=[\"orange\", \"orange\", \"orange\", \"lightgray\", \"lightgray\", \"lightgray\"])\n",
    "ax.set(xlabel=\"Importance\", ylabel=\"Feature\", xlim=(0, 0.6), title=\"Top Six Features\")\n",
    "plt.tight_layout()\n",
    "plt.savefig(\"../../3_reports/figures/ambiance_fi_20190620_embeddings.eps\", format=\"eps\", dpi=1000)"
   ]
  },
  {
   "cell_type": "code",
   "execution_count": null,
   "metadata": {
    "ExecuteTime": {
     "end_time": "2019-06-27T17:54:59.683733Z",
     "start_time": "2019-06-27T17:54:53.697Z"
    }
   },
   "outputs": [],
   "source": [
    "service_p_df = pd.DataFrame(sorted(list(zip(feature_names, service_p.feature_importances_)), key=lambda x: -x[1]))\n",
    "service_p_df.columns = [\"feature\", \"importance\"]\n",
    "service_p_tmp_df = service_p_df.iloc[:6, :]\n",
    "service_p_tmp_df[\"feature_name\"] = [\"Sim. to Service\",\n",
    "                                    \"Sim. to Staff\",\n",
    "                                    \"Servic\",\n",
    "                                    \"Topic: Order\",\n",
    "                                    \"Topic: Waitress\",\n",
    "                                    \"Topic: Wait\"]"
   ]
  },
  {
   "cell_type": "code",
   "execution_count": null,
   "metadata": {
    "ExecuteTime": {
     "end_time": "2019-06-27T17:54:59.685775Z",
     "start_time": "2019-06-27T17:54:53.738Z"
    }
   },
   "outputs": [],
   "source": [
    "f, ax = plt.subplots()\n",
    "ax = sns.barplot(y=\"feature_name\", x=\"importance\", data=service_p_tmp_df,\n",
    "                 palette=[\"lightgray\", \"lightgray\", \"lightgray\", \"lightgray\", \"lightgray\", \"lightgray\"])\n",
    "ax.set(xlabel=\"Importance\", ylabel=\"Feature\", xlim=(0, 0.6), title=\"Top Six Features\")\n",
    "plt.tight_layout()\n",
    "plt.savefig(\"../../3_reports/figures/service_fi_20190620_gray.eps\", format=\"eps\", dpi=1000)"
   ]
  },
  {
   "cell_type": "code",
   "execution_count": null,
   "metadata": {
    "ExecuteTime": {
     "end_time": "2019-06-27T17:54:59.686394Z",
     "start_time": "2019-06-27T17:54:53.779Z"
    }
   },
   "outputs": [],
   "source": [
    "price_p_df = pd.DataFrame(sorted(list(zip(feature_names, price_p.feature_importances_)), key=lambda x: -x[1]))\n",
    "price_p_df.columns = [\"feature\", \"importance\"]\n",
    "price_p_tmp_df = price_p_df.iloc[:6, :]\n",
    "price_p_tmp_df[\"feature_name\"] = [\"Sim. to Price\",\n",
    "                                  \"Sim. to Cost\",\n",
    "                                  \"Price\",\n",
    "                                  \"(NUM, ADP)\",\n",
    "                                  \"(NUM, PRT)\",\n",
    "                                  \"$%\"]"
   ]
  },
  {
   "cell_type": "code",
   "execution_count": null,
   "metadata": {
    "ExecuteTime": {
     "end_time": "2019-06-27T17:54:59.687065Z",
     "start_time": "2019-06-27T17:54:53.833Z"
    }
   },
   "outputs": [],
   "source": [
    "f, ax = plt.subplots()\n",
    "ax = sns.barplot(y=\"feature_name\", x=\"importance\", data=price_p_tmp_df,\n",
    "                 palette=[\"lightgray\", \"lightgray\", \"lightgray\", \"green\", \"green\", \"green\"])\n",
    "ax.set(xlabel=\"Importance\", ylabel=\"Feature\", xlim=(0, 0.6), title=\"Top Six Features\")\n",
    "plt.tight_layout()\n",
    "plt.savefig(\"../../3_reports/figures/price_fi_20190620_num_symbol.eps\", format=\"eps\", dpi=1000)"
   ]
  },
  {
   "cell_type": "code",
   "execution_count": null,
   "metadata": {
    "ExecuteTime": {
     "end_time": "2019-06-27T17:54:59.687701Z",
     "start_time": "2019-06-27T17:54:53.897Z"
    }
   },
   "outputs": [],
   "source": [
    "food_p_df = pd.DataFrame(sorted(list(zip(feature_names, food_p.feature_importances_)), key=lambda x: -x[1]))\n",
    "food_p_df.columns = [\"feature\", \"importance\"]\n",
    "food_p_tmp_df = food_p_df.iloc[:6, :]\n",
    "food_p_tmp_df[\"feature_name\"] = [\"Sim. to Delicious\",\n",
    "                                 \"Sim. to Food\",\n",
    "                                 \"Topic: Hotel\",\n",
    "                                 \"Food\",\n",
    "                                 \"Much\",\n",
    "                                 \"Topic: Room\"]"
   ]
  },
  {
   "cell_type": "code",
   "execution_count": null,
   "metadata": {
    "ExecuteTime": {
     "end_time": "2019-06-27T17:54:59.688440Z",
     "start_time": "2019-06-27T17:54:53.956Z"
    }
   },
   "outputs": [],
   "source": [
    "f, ax = plt.subplots()\n",
    "ax = sns.barplot(y=\"feature_name\", x=\"importance\", data=food_p_tmp_df,\n",
    "                 palette=[\"blue\", \"blue\", \"lightgray\", \"lightgray\", \"lightgray\", \"lightgray\"])\n",
    "ax.set(xlabel=\"Importance\", ylabel=\"Feature\", xlim=(0, 0.6), title=\"Top Six Features\")\n",
    "plt.tight_layout()\n",
    "plt.savefig(\"../../3_reports/figures/food_fi_20190620_embeddings.eps\", format=\"eps\", dpi=1000)"
   ]
  },
  {
   "cell_type": "markdown",
   "metadata": {},
   "source": [
    "Percentage increase from pseudolabel"
   ]
  },
  {
   "cell_type": "code",
   "execution_count": null,
   "metadata": {
    "ExecuteTime": {
     "end_time": "2019-06-27T17:54:59.689189Z",
     "start_time": "2019-06-27T17:54:54.049Z"
    }
   },
   "outputs": [],
   "source": [
    "food[-1]/food[-2]"
   ]
  },
  {
   "cell_type": "code",
   "execution_count": null,
   "metadata": {
    "ExecuteTime": {
     "end_time": "2019-06-27T17:54:59.689902Z",
     "start_time": "2019-06-27T17:54:54.131Z"
    }
   },
   "outputs": [],
   "source": [
    "service[-1]/service[-2]"
   ]
  },
  {
   "cell_type": "code",
   "execution_count": null,
   "metadata": {
    "ExecuteTime": {
     "end_time": "2019-06-27T17:54:59.690669Z",
     "start_time": "2019-06-27T17:54:54.259Z"
    }
   },
   "outputs": [],
   "source": [
    "price[-1]/price[-2]"
   ]
  },
  {
   "cell_type": "code",
   "execution_count": null,
   "metadata": {
    "ExecuteTime": {
     "end_time": "2019-06-27T17:54:59.691418Z",
     "start_time": "2019-06-27T17:54:54.410Z"
    }
   },
   "outputs": [],
   "source": [
    "ambiance[-1]/ambiance[-2]"
   ]
  },
  {
   "cell_type": "markdown",
   "metadata": {},
   "source": [
    "#### Random assignment accuracy"
   ]
  },
  {
   "cell_type": "code",
   "execution_count": null,
   "metadata": {
    "ExecuteTime": {
     "end_time": "2019-06-27T17:54:59.692171Z",
     "start_time": "2019-06-27T17:54:54.699Z"
    }
   },
   "outputs": [],
   "source": [
    "data.columns"
   ]
  },
  {
   "cell_type": "code",
   "execution_count": null,
   "metadata": {
    "ExecuteTime": {
     "end_time": "2019-06-27T17:54:59.692970Z",
     "start_time": "2019-06-27T17:54:54.834Z"
    }
   },
   "outputs": [],
   "source": [
    "from sklearn.metrics import confusion_matrix\n",
    "import random\n",
    "import copy\n",
    "import numpy as np"
   ]
  },
  {
   "cell_type": "code",
   "execution_count": null,
   "metadata": {
    "ExecuteTime": {
     "end_time": "2019-06-27T17:54:59.693737Z",
     "start_time": "2019-06-27T17:54:54.959Z"
    }
   },
   "outputs": [],
   "source": [
    "cm = confusion_matrix(y_test_ambiance, ambiance_p.predict(X_test_ambiance[:, 1:]))"
   ]
  },
  {
   "cell_type": "code",
   "execution_count": null,
   "metadata": {
    "ExecuteTime": {
     "end_time": "2019-06-27T17:54:59.694563Z",
     "start_time": "2019-06-27T17:54:55.092Z"
    }
   },
   "outputs": [],
   "source": [
    "cm"
   ]
  },
  {
   "cell_type": "code",
   "execution_count": null,
   "metadata": {
    "ExecuteTime": {
     "end_time": "2019-06-27T17:54:59.695334Z",
     "start_time": "2019-06-27T17:54:55.221Z"
    }
   },
   "outputs": [],
   "source": [
    "(cm[0][0] + cm[1][1])/np.sum(cm)"
   ]
  },
  {
   "cell_type": "code",
   "execution_count": null,
   "metadata": {
    "ExecuteTime": {
     "end_time": "2019-06-27T17:54:59.696145Z",
     "start_time": "2019-06-27T17:54:55.361Z"
    }
   },
   "outputs": [],
   "source": [
    "166/210"
   ]
  },
  {
   "cell_type": "code",
   "execution_count": null,
   "metadata": {
    "ExecuteTime": {
     "end_time": "2019-06-27T17:54:59.696918Z",
     "start_time": "2019-06-27T17:54:55.501Z"
    }
   },
   "outputs": [],
   "source": [
    "np.random.randint(2, size=100)"
   ]
  },
  {
   "cell_type": "code",
   "execution_count": null,
   "metadata": {
    "ExecuteTime": {
     "end_time": "2019-06-27T17:54:59.697703Z",
     "start_time": "2019-06-27T17:54:55.635Z"
    }
   },
   "outputs": [],
   "source": [
    "def random_base(n, test):\n",
    "    random.seed(10191994)\n",
    "    tmp_list = []\n",
    "    for i in range(n):\n",
    "#         tmp = copy.deepcopy(test)\n",
    "#         random.shuffle(tmp)\n",
    "        tmp = np.random.randint(2, size=test.shape[0])\n",
    "        tmp_cm = confusion_matrix(test, tmp)\n",
    "        tmp_list.append((tmp_cm[0][0] + tmp_cm[1][1])/np.sum(tmp_cm))\n",
    "    return np.mean(tmp_list)"
   ]
  },
  {
   "cell_type": "code",
   "execution_count": null,
   "metadata": {
    "ExecuteTime": {
     "end_time": "2019-06-27T17:54:59.698497Z",
     "start_time": "2019-06-27T17:54:55.777Z"
    }
   },
   "outputs": [],
   "source": [
    "test0 = random_base(7000, y_test_ambiance)"
   ]
  },
  {
   "cell_type": "code",
   "execution_count": null,
   "metadata": {
    "ExecuteTime": {
     "end_time": "2019-06-27T17:54:59.699264Z",
     "start_time": "2019-06-27T17:54:55.918Z"
    }
   },
   "outputs": [],
   "source": [
    "test0"
   ]
  },
  {
   "cell_type": "code",
   "execution_count": null,
   "metadata": {
    "ExecuteTime": {
     "end_time": "2019-06-27T17:54:59.700056Z",
     "start_time": "2019-06-27T17:54:56.056Z"
    }
   },
   "outputs": [],
   "source": [
    "ambiance[-2]"
   ]
  },
  {
   "cell_type": "code",
   "execution_count": null,
   "metadata": {
    "ExecuteTime": {
     "end_time": "2019-06-27T17:54:59.701796Z",
     "start_time": "2019-06-27T17:54:56.201Z"
    }
   },
   "outputs": [],
   "source": [
    "test1 = random_base(7000, y_test_price)"
   ]
  },
  {
   "cell_type": "code",
   "execution_count": null,
   "metadata": {
    "ExecuteTime": {
     "end_time": "2019-06-27T17:54:59.702648Z",
     "start_time": "2019-06-27T17:54:56.349Z"
    }
   },
   "outputs": [],
   "source": [
    "test1"
   ]
  },
  {
   "cell_type": "code",
   "execution_count": null,
   "metadata": {
    "ExecuteTime": {
     "end_time": "2019-06-27T17:54:59.703420Z",
     "start_time": "2019-06-27T17:54:56.499Z"
    }
   },
   "outputs": [],
   "source": [
    "price[-2]"
   ]
  },
  {
   "cell_type": "code",
   "execution_count": null,
   "metadata": {
    "ExecuteTime": {
     "end_time": "2019-06-27T17:54:59.704163Z",
     "start_time": "2019-06-27T17:54:56.628Z"
    }
   },
   "outputs": [],
   "source": [
    "test2 = random_base(7000, y_test_service)"
   ]
  },
  {
   "cell_type": "code",
   "execution_count": null,
   "metadata": {
    "ExecuteTime": {
     "end_time": "2019-06-27T17:54:59.704941Z",
     "start_time": "2019-06-27T17:54:56.764Z"
    }
   },
   "outputs": [],
   "source": [
    "test2"
   ]
  },
  {
   "cell_type": "code",
   "execution_count": null,
   "metadata": {
    "ExecuteTime": {
     "end_time": "2019-06-27T17:54:59.705735Z",
     "start_time": "2019-06-27T17:54:56.910Z"
    }
   },
   "outputs": [],
   "source": [
    "service[-2]"
   ]
  },
  {
   "cell_type": "code",
   "execution_count": null,
   "metadata": {
    "ExecuteTime": {
     "end_time": "2019-06-27T17:54:59.706440Z",
     "start_time": "2019-06-27T17:54:57.039Z"
    }
   },
   "outputs": [],
   "source": [
    "test3 = random_base(7000, y_test_food)"
   ]
  },
  {
   "cell_type": "code",
   "execution_count": null,
   "metadata": {
    "ExecuteTime": {
     "end_time": "2019-06-27T17:54:59.707129Z",
     "start_time": "2019-06-27T17:54:57.184Z"
    }
   },
   "outputs": [],
   "source": [
    "test3"
   ]
  },
  {
   "cell_type": "code",
   "execution_count": null,
   "metadata": {
    "ExecuteTime": {
     "end_time": "2019-06-27T17:54:59.707908Z",
     "start_time": "2019-06-27T17:54:57.326Z"
    }
   },
   "outputs": [],
   "source": [
    "food[-2]"
   ]
  },
  {
   "cell_type": "code",
   "execution_count": null,
   "metadata": {
    "ExecuteTime": {
     "end_time": "2019-06-27T17:54:59.708714Z",
     "start_time": "2019-06-27T17:54:57.456Z"
    }
   },
   "outputs": [],
   "source": [
    "ambiance"
   ]
  },
  {
   "cell_type": "code",
   "execution_count": null,
   "metadata": {
    "ExecuteTime": {
     "end_time": "2019-06-27T17:54:59.709450Z",
     "start_time": "2019-06-27T17:54:57.606Z"
    }
   },
   "outputs": [],
   "source": [
    "service"
   ]
  },
  {
   "cell_type": "code",
   "execution_count": null,
   "metadata": {
    "ExecuteTime": {
     "end_time": "2019-06-27T17:54:59.710311Z",
     "start_time": "2019-06-27T17:54:57.745Z"
    }
   },
   "outputs": [],
   "source": [
    "price"
   ]
  },
  {
   "cell_type": "code",
   "execution_count": null,
   "metadata": {
    "ExecuteTime": {
     "end_time": "2019-06-27T17:54:59.711166Z",
     "start_time": "2019-06-27T17:54:57.884Z"
    }
   },
   "outputs": [],
   "source": [
    "food"
   ]
  },
  {
   "cell_type": "markdown",
   "metadata": {},
   "source": [
    "#### ROC AUC"
   ]
  },
  {
   "cell_type": "code",
   "execution_count": null,
   "metadata": {
    "ExecuteTime": {
     "end_time": "2019-06-27T17:54:59.711959Z",
     "start_time": "2019-06-27T17:54:58.164Z"
    }
   },
   "outputs": [],
   "source": [
    "from sklearn.metrics import roc_auc_score"
   ]
  },
  {
   "cell_type": "code",
   "execution_count": null,
   "metadata": {
    "ExecuteTime": {
     "end_time": "2019-06-27T17:54:59.712800Z",
     "start_time": "2019-06-27T17:54:58.319Z"
    }
   },
   "outputs": [],
   "source": [
    "food_auc = roc_auc_score(y_test_food, food_p.predict(X_test_food[:, 1:]))\n",
    "service_auc = roc_auc_score(y_test_service, service_p.predict(X_test_service[:, 1:]))\n",
    "price_auc = roc_auc_score(y_test_price, price_p.predict(X_test_price[:, 1:]))\n",
    "ambiance_auc = roc_auc_score(y_test_ambiance, ambiance_p.predict(X_test_ambiance[:, 1:]))"
   ]
  },
  {
   "cell_type": "code",
   "execution_count": null,
   "metadata": {
    "ExecuteTime": {
     "end_time": "2019-06-27T17:54:59.713500Z",
     "start_time": "2019-06-27T17:54:58.452Z"
    }
   },
   "outputs": [],
   "source": [
    "food_auc"
   ]
  },
  {
   "cell_type": "code",
   "execution_count": null,
   "metadata": {
    "ExecuteTime": {
     "end_time": "2019-06-27T17:54:59.714371Z",
     "start_time": "2019-06-27T17:54:58.596Z"
    }
   },
   "outputs": [],
   "source": [
    "service_auc"
   ]
  },
  {
   "cell_type": "code",
   "execution_count": null,
   "metadata": {
    "ExecuteTime": {
     "end_time": "2019-06-27T17:54:59.715149Z",
     "start_time": "2019-06-27T17:54:58.722Z"
    }
   },
   "outputs": [],
   "source": [
    "price_auc"
   ]
  },
  {
   "cell_type": "code",
   "execution_count": null,
   "metadata": {
    "ExecuteTime": {
     "end_time": "2019-06-27T17:54:59.715760Z",
     "start_time": "2019-06-27T17:54:58.837Z"
    }
   },
   "outputs": [],
   "source": [
    "ambiance_auc"
   ]
  },
  {
   "cell_type": "code",
   "execution_count": null,
   "metadata": {
    "ExecuteTime": {
     "end_time": "2019-06-27T17:54:59.716369Z",
     "start_time": "2019-06-27T17:54:58.967Z"
    }
   },
   "outputs": [],
   "source": [
    "print(roc_auc_score(y_validation_food, food_p.predict(X_validation_food[:, 1:])))\n",
    "print(roc_auc_score(y_validation_service, service_p.predict(X_validation_service[:, 1:])))\n",
    "print(roc_auc_score(y_validation_price, price_p.predict(X_validation_price[:, 1:])))\n",
    "print(roc_auc_score(y_validation_ambiance, ambiance_p.predict(X_validation_ambiance[:, 1:])))"
   ]
  },
  {
   "cell_type": "code",
   "execution_count": null,
   "metadata": {
    "ExecuteTime": {
     "end_time": "2019-06-27T17:54:59.717100Z",
     "start_time": "2019-06-27T17:54:59.095Z"
    }
   },
   "outputs": [],
   "source": [
    "print(roc_auc_score(y_test_food, food_p.predict(X_test_food[:, 1:])))\n",
    "print(roc_auc_score(y_test_service, service_p.predict(X_test_service[:, 1:])))\n",
    "print(roc_auc_score(y_test_price, price_p.predict(X_test_price[:, 1:])))\n",
    "print(roc_auc_score(y_test_ambiance, ambiance_p.predict(X_test_ambiance[:, 1:])))"
   ]
  },
  {
   "cell_type": "code",
   "execution_count": null,
   "metadata": {
    "ExecuteTime": {
     "end_time": "2019-06-27T17:54:59.717763Z",
     "start_time": "2019-06-27T17:54:59.234Z"
    }
   },
   "outputs": [],
   "source": [
    "def test_model2(model, cat_list, train_x, train_y, test_x, test_y):\n",
    "    train_x_df = pd.DataFrame(train_x)\n",
    "    train_x_df.columns = [\"text\"] + list(feature_names)\n",
    "    test_x_df = pd.DataFrame(test_x)\n",
    "    test_x_df.columns = [\"text\"] + list(feature_names)\n",
    "    \n",
    "    tmp_train_df = pd.concat([train_x_df[x] for x in cat_list], axis=1)\n",
    "#     print(tmp_train_df.columns)\n",
    "    tmp_test_df = pd.concat([test_x_df[x] for x in cat_list], axis=1)\n",
    "    \n",
    "    model.fit(tmp_train_df, train_y)\n",
    "    \n",
    "    return roc_auc_score(test_y, model.predict(tmp_test_df))"
   ]
  },
  {
   "cell_type": "code",
   "execution_count": null,
   "metadata": {
    "ExecuteTime": {
     "end_time": "2019-06-27T17:54:59.719120Z",
     "start_time": "2019-06-27T17:54:59.368Z"
    }
   },
   "outputs": [],
   "source": [
    "print(test_model2(clf, [metadata_columns, syntax_columns, tfidf_unigrams_columns, tfidf_bigrams_columns, topics_columns, embeddings_columns], X_train_food, y_train_food, X_validation_food, y_validation_food))\n",
    "print(test_model2(clf, [metadata_columns, syntax_columns, tfidf_unigrams_columns, tfidf_bigrams_columns, topics_columns, embeddings_columns], X_train_service, y_train_service, X_validation_service, y_validation_service))\n",
    "print(test_model2(clf, [metadata_columns, syntax_columns, tfidf_unigrams_columns, tfidf_bigrams_columns, topics_columns, embeddings_columns], X_train_price, y_train_price, X_validation_price, y_validation_price))\n",
    "print(test_model2(clf, [metadata_columns, syntax_columns, tfidf_unigrams_columns, tfidf_bigrams_columns, topics_columns, embeddings_columns], X_train_ambiance, y_train_ambiance, X_validation_ambiance, y_validation_ambiance))"
   ]
  },
  {
   "cell_type": "code",
   "execution_count": null,
   "metadata": {
    "ExecuteTime": {
     "end_time": "2019-06-27T17:54:59.720396Z",
     "start_time": "2019-06-27T17:54:59.503Z"
    }
   },
   "outputs": [],
   "source": [
    "print(test_model2(clf, [metadata_columns, syntax_columns, tfidf_unigrams_columns, tfidf_bigrams_columns, topics_columns, embeddings_columns], X_train_food, y_train_food, X_test_food, y_test_food))\n",
    "print(test_model2(clf, [metadata_columns, syntax_columns, tfidf_unigrams_columns, tfidf_bigrams_columns, topics_columns, embeddings_columns], X_train_service, y_train_service, X_test_service, y_test_service))\n",
    "print(test_model2(clf, [metadata_columns, syntax_columns, tfidf_unigrams_columns, tfidf_bigrams_columns, topics_columns, embeddings_columns], X_train_price, y_train_price, X_test_price, y_test_price))\n",
    "print(test_model2(clf, [metadata_columns, syntax_columns, tfidf_unigrams_columns, tfidf_bigrams_columns, topics_columns, embeddings_columns], X_train_ambiance, y_train_ambiance, X_test_ambiance, y_test_ambiance))"
   ]
  },
  {
   "cell_type": "markdown",
   "metadata": {},
   "source": [
    "#### Average PR"
   ]
  },
  {
   "cell_type": "code",
   "execution_count": 30,
   "metadata": {
    "ExecuteTime": {
     "end_time": "2019-06-27T17:54:59.833288Z",
     "start_time": "2019-06-27T17:54:59.822512Z"
    }
   },
   "outputs": [
    {
     "ename": "NameError",
     "evalue": "name 'y_test_food' is not defined",
     "output_type": "error",
     "traceback": [
      "\u001b[0;31m---------------------------------------------------------------------------\u001b[0m",
      "\u001b[0;31mNameError\u001b[0m                                 Traceback (most recent call last)",
      "\u001b[0;32m<ipython-input-30-211b29bbd15e>\u001b[0m in \u001b[0;36m<module>\u001b[0;34m\u001b[0m\n\u001b[1;32m      1\u001b[0m \u001b[0;31m# precision\u001b[0m\u001b[0;34m\u001b[0m\u001b[0;34m\u001b[0m\u001b[0;34m\u001b[0m\u001b[0m\n\u001b[0;32m----> 2\u001b[0;31m np.mean([precision_recall_fscore_support(y_test_food, food_p.predict(X_test_food[:, 1:]))[0][1],\n\u001b[0m\u001b[1;32m      3\u001b[0m          \u001b[0mprecision_recall_fscore_support\u001b[0m\u001b[0;34m(\u001b[0m\u001b[0my_test_service\u001b[0m\u001b[0;34m,\u001b[0m \u001b[0mservice_p\u001b[0m\u001b[0;34m.\u001b[0m\u001b[0mpredict\u001b[0m\u001b[0;34m(\u001b[0m\u001b[0mX_test_service\u001b[0m\u001b[0;34m[\u001b[0m\u001b[0;34m:\u001b[0m\u001b[0;34m,\u001b[0m \u001b[0;36m1\u001b[0m\u001b[0;34m:\u001b[0m\u001b[0;34m]\u001b[0m\u001b[0;34m)\u001b[0m\u001b[0;34m)\u001b[0m\u001b[0;34m[\u001b[0m\u001b[0;36m0\u001b[0m\u001b[0;34m]\u001b[0m\u001b[0;34m[\u001b[0m\u001b[0;36m1\u001b[0m\u001b[0;34m]\u001b[0m\u001b[0;34m,\u001b[0m\u001b[0;34m\u001b[0m\u001b[0;34m\u001b[0m\u001b[0m\n\u001b[1;32m      4\u001b[0m          \u001b[0mprecision_recall_fscore_support\u001b[0m\u001b[0;34m(\u001b[0m\u001b[0my_test_price\u001b[0m\u001b[0;34m,\u001b[0m \u001b[0mprice_p\u001b[0m\u001b[0;34m.\u001b[0m\u001b[0mpredict\u001b[0m\u001b[0;34m(\u001b[0m\u001b[0mX_test_price\u001b[0m\u001b[0;34m[\u001b[0m\u001b[0;34m:\u001b[0m\u001b[0;34m,\u001b[0m \u001b[0;36m1\u001b[0m\u001b[0;34m:\u001b[0m\u001b[0;34m]\u001b[0m\u001b[0;34m)\u001b[0m\u001b[0;34m)\u001b[0m\u001b[0;34m[\u001b[0m\u001b[0;36m0\u001b[0m\u001b[0;34m]\u001b[0m\u001b[0;34m[\u001b[0m\u001b[0;36m1\u001b[0m\u001b[0;34m]\u001b[0m\u001b[0;34m,\u001b[0m\u001b[0;34m\u001b[0m\u001b[0;34m\u001b[0m\u001b[0m\n\u001b[1;32m      5\u001b[0m          precision_recall_fscore_support(y_test_ambiance, ambiance_p.predict(X_test_ambiance[:, 1:]))[0][1]])\n",
      "\u001b[0;31mNameError\u001b[0m: name 'y_test_food' is not defined"
     ]
    }
   ],
   "source": [
    "# precision\n",
    "np.mean([precision_recall_fscore_support(y_test_food, food_p.predict(X_test_food[:, 1:]))[0][1],\n",
    "         precision_recall_fscore_support(y_test_service, service_p.predict(X_test_service[:, 1:]))[0][1],\n",
    "         precision_recall_fscore_support(y_test_price, price_p.predict(X_test_price[:, 1:]))[0][1],\n",
    "         precision_recall_fscore_support(y_test_ambiance, ambiance_p.predict(X_test_ambiance[:, 1:]))[0][1]])"
   ]
  },
  {
   "cell_type": "code",
   "execution_count": 31,
   "metadata": {
    "ExecuteTime": {
     "end_time": "2019-06-27T17:54:59.946615Z",
     "start_time": "2019-06-27T17:54:59.935700Z"
    }
   },
   "outputs": [
    {
     "ename": "NameError",
     "evalue": "name 'y_test_food' is not defined",
     "output_type": "error",
     "traceback": [
      "\u001b[0;31m---------------------------------------------------------------------------\u001b[0m",
      "\u001b[0;31mNameError\u001b[0m                                 Traceback (most recent call last)",
      "\u001b[0;32m<ipython-input-31-3ec383ee1b1d>\u001b[0m in \u001b[0;36m<module>\u001b[0;34m\u001b[0m\n\u001b[1;32m      1\u001b[0m \u001b[0;31m# recall\u001b[0m\u001b[0;34m\u001b[0m\u001b[0;34m\u001b[0m\u001b[0;34m\u001b[0m\u001b[0m\n\u001b[0;32m----> 2\u001b[0;31m np.mean([precision_recall_fscore_support(y_test_food, food_p.predict(X_test_food[:, 1:]))[1][1],\n\u001b[0m\u001b[1;32m      3\u001b[0m          \u001b[0mprecision_recall_fscore_support\u001b[0m\u001b[0;34m(\u001b[0m\u001b[0my_test_service\u001b[0m\u001b[0;34m,\u001b[0m \u001b[0mservice_p\u001b[0m\u001b[0;34m.\u001b[0m\u001b[0mpredict\u001b[0m\u001b[0;34m(\u001b[0m\u001b[0mX_test_service\u001b[0m\u001b[0;34m[\u001b[0m\u001b[0;34m:\u001b[0m\u001b[0;34m,\u001b[0m \u001b[0;36m1\u001b[0m\u001b[0;34m:\u001b[0m\u001b[0;34m]\u001b[0m\u001b[0;34m)\u001b[0m\u001b[0;34m)\u001b[0m\u001b[0;34m[\u001b[0m\u001b[0;36m1\u001b[0m\u001b[0;34m]\u001b[0m\u001b[0;34m[\u001b[0m\u001b[0;36m1\u001b[0m\u001b[0;34m]\u001b[0m\u001b[0;34m,\u001b[0m\u001b[0;34m\u001b[0m\u001b[0;34m\u001b[0m\u001b[0m\n\u001b[1;32m      4\u001b[0m          \u001b[0mprecision_recall_fscore_support\u001b[0m\u001b[0;34m(\u001b[0m\u001b[0my_test_price\u001b[0m\u001b[0;34m,\u001b[0m \u001b[0mprice_p\u001b[0m\u001b[0;34m.\u001b[0m\u001b[0mpredict\u001b[0m\u001b[0;34m(\u001b[0m\u001b[0mX_test_price\u001b[0m\u001b[0;34m[\u001b[0m\u001b[0;34m:\u001b[0m\u001b[0;34m,\u001b[0m \u001b[0;36m1\u001b[0m\u001b[0;34m:\u001b[0m\u001b[0;34m]\u001b[0m\u001b[0;34m)\u001b[0m\u001b[0;34m)\u001b[0m\u001b[0;34m[\u001b[0m\u001b[0;36m1\u001b[0m\u001b[0;34m]\u001b[0m\u001b[0;34m[\u001b[0m\u001b[0;36m1\u001b[0m\u001b[0;34m]\u001b[0m\u001b[0;34m,\u001b[0m\u001b[0;34m\u001b[0m\u001b[0;34m\u001b[0m\u001b[0m\n\u001b[1;32m      5\u001b[0m          precision_recall_fscore_support(y_test_ambiance, ambiance_p.predict(X_test_ambiance[:, 1:]))[1][1]])\n",
      "\u001b[0;31mNameError\u001b[0m: name 'y_test_food' is not defined"
     ]
    }
   ],
   "source": [
    "# recall\n",
    "np.mean([precision_recall_fscore_support(y_test_food, food_p.predict(X_test_food[:, 1:]))[1][1],\n",
    "         precision_recall_fscore_support(y_test_service, service_p.predict(X_test_service[:, 1:]))[1][1],\n",
    "         precision_recall_fscore_support(y_test_price, price_p.predict(X_test_price[:, 1:]))[1][1],\n",
    "         precision_recall_fscore_support(y_test_ambiance, ambiance_p.predict(X_test_ambiance[:, 1:]))[1][1]])"
   ]
  },
  {
   "cell_type": "code",
   "execution_count": null,
   "metadata": {},
   "outputs": [],
   "source": []
  },
  {
   "cell_type": "code",
   "execution_count": null,
   "metadata": {},
   "outputs": [],
   "source": []
  },
  {
   "cell_type": "code",
   "execution_count": null,
   "metadata": {},
   "outputs": [],
   "source": []
  },
  {
   "cell_type": "code",
   "execution_count": null,
   "metadata": {},
   "outputs": [],
   "source": []
  },
  {
   "cell_type": "code",
   "execution_count": null,
   "metadata": {},
   "outputs": [],
   "source": []
  }
 ],
 "metadata": {
  "kernelspec": {
   "display_name": "Python 3",
   "language": "python",
   "name": "python3"
  },
  "language_info": {
   "codemirror_mode": {
    "name": "ipython",
    "version": 3
   },
   "file_extension": ".py",
   "mimetype": "text/x-python",
   "name": "python",
   "nbconvert_exporter": "python",
   "pygments_lexer": "ipython3",
   "version": "3.7.3"
  },
  "toc": {
   "base_numbering": 1,
   "nav_menu": {},
   "number_sections": true,
   "sideBar": true,
   "skip_h1_title": false,
   "title_cell": "Table of Contents",
   "title_sidebar": "Contents",
   "toc_cell": false,
   "toc_position": {},
   "toc_section_display": true,
   "toc_window_display": false
  }
 },
 "nbformat": 4,
 "nbformat_minor": 2
}
