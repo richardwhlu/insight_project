{
 "cells": [
  {
   "cell_type": "code",
   "execution_count": 1,
   "metadata": {},
   "outputs": [],
   "source": [
    "import os\n",
    "import pandas as pd"
   ]
  },
  {
   "cell_type": "code",
   "execution_count": 2,
   "metadata": {},
   "outputs": [],
   "source": [
    "business = pd.read_json(\"../0_data/1_raw_data/business.json\",\n",
    "                       lines=True)"
   ]
  },
  {
   "cell_type": "code",
   "execution_count": 3,
   "metadata": {},
   "outputs": [
    {
     "data": {
      "text/plain": [
       "(192609, 14)"
      ]
     },
     "execution_count": 3,
     "metadata": {},
     "output_type": "execute_result"
    }
   ],
   "source": [
    "business.shape"
   ]
  },
  {
   "cell_type": "code",
   "execution_count": 4,
   "metadata": {},
   "outputs": [],
   "source": [
    "def split_cats(text):\n",
    "    try:\n",
    "        return x.split(\", \")\n",
    "    except:\n",
    "        return []"
   ]
  },
  {
   "cell_type": "code",
   "execution_count": 5,
   "metadata": {},
   "outputs": [],
   "source": [
    "condition2 = business[\"categories\"].apply(lambda x: \"restaurant\" in split_cats(x))"
   ]
  },
  {
   "cell_type": "code",
   "execution_count": 6,
   "metadata": {},
   "outputs": [],
   "source": [
    "business_open = business[business[\"is_open\"]==1 & condition2]"
   ]
  },
  {
   "cell_type": "code",
   "execution_count": 7,
   "metadata": {},
   "outputs": [
    {
     "data": {
      "text/plain": [
       "(34084, 14)"
      ]
     },
     "execution_count": 7,
     "metadata": {},
     "output_type": "execute_result"
    }
   ],
   "source": [
    "business_open.shape"
   ]
  },
  {
   "cell_type": "code",
   "execution_count": 8,
   "metadata": {},
   "outputs": [
    {
     "data": {
      "text/plain": [
       "Index(['address', 'attributes', 'business_id', 'categories', 'city', 'hours',\n",
       "       'is_open', 'latitude', 'longitude', 'name', 'postal_code',\n",
       "       'review_count', 'stars', 'state'],\n",
       "      dtype='object')"
      ]
     },
     "execution_count": 8,
     "metadata": {},
     "output_type": "execute_result"
    }
   ],
   "source": [
    "business_open.columns"
   ]
  },
  {
   "cell_type": "code",
   "execution_count": 9,
   "metadata": {},
   "outputs": [],
   "source": [
    "stars = business_open.groupby(\"stars\").count()[\"address\"].reset_index()"
   ]
  },
  {
   "cell_type": "code",
   "execution_count": 10,
   "metadata": {},
   "outputs": [],
   "source": [
    "stars.columns = [\"stars\", \"count\"]"
   ]
  },
  {
   "cell_type": "code",
   "execution_count": 11,
   "metadata": {},
   "outputs": [
    {
     "data": {
      "text/plain": [
       "(9, 2)"
      ]
     },
     "execution_count": 11,
     "metadata": {},
     "output_type": "execute_result"
    }
   ],
   "source": [
    "stars.shape"
   ]
  },
  {
   "cell_type": "code",
   "execution_count": 12,
   "metadata": {},
   "outputs": [
    {
     "data": {
      "text/html": [
       "<div>\n",
       "<style scoped>\n",
       "    .dataframe tbody tr th:only-of-type {\n",
       "        vertical-align: middle;\n",
       "    }\n",
       "\n",
       "    .dataframe tbody tr th {\n",
       "        vertical-align: top;\n",
       "    }\n",
       "\n",
       "    .dataframe thead th {\n",
       "        text-align: right;\n",
       "    }\n",
       "</style>\n",
       "<table border=\"1\" class=\"dataframe\">\n",
       "  <thead>\n",
       "    <tr style=\"text-align: right;\">\n",
       "      <th></th>\n",
       "      <th>stars</th>\n",
       "      <th>count</th>\n",
       "    </tr>\n",
       "  </thead>\n",
       "  <tbody>\n",
       "    <tr>\n",
       "      <th>0</th>\n",
       "      <td>1.0</td>\n",
       "      <td>600</td>\n",
       "    </tr>\n",
       "    <tr>\n",
       "      <th>1</th>\n",
       "      <td>1.5</td>\n",
       "      <td>797</td>\n",
       "    </tr>\n",
       "    <tr>\n",
       "      <th>2</th>\n",
       "      <td>2.0</td>\n",
       "      <td>1951</td>\n",
       "    </tr>\n",
       "    <tr>\n",
       "      <th>3</th>\n",
       "      <td>2.5</td>\n",
       "      <td>3600</td>\n",
       "    </tr>\n",
       "    <tr>\n",
       "      <th>4</th>\n",
       "      <td>3.0</td>\n",
       "      <td>5950</td>\n",
       "    </tr>\n",
       "    <tr>\n",
       "      <th>5</th>\n",
       "      <td>3.5</td>\n",
       "      <td>7465</td>\n",
       "    </tr>\n",
       "    <tr>\n",
       "      <th>6</th>\n",
       "      <td>4.0</td>\n",
       "      <td>6848</td>\n",
       "    </tr>\n",
       "    <tr>\n",
       "      <th>7</th>\n",
       "      <td>4.5</td>\n",
       "      <td>4099</td>\n",
       "    </tr>\n",
       "    <tr>\n",
       "      <th>8</th>\n",
       "      <td>5.0</td>\n",
       "      <td>2774</td>\n",
       "    </tr>\n",
       "  </tbody>\n",
       "</table>\n",
       "</div>"
      ],
      "text/plain": [
       "   stars  count\n",
       "0    1.0    600\n",
       "1    1.5    797\n",
       "2    2.0   1951\n",
       "3    2.5   3600\n",
       "4    3.0   5950\n",
       "5    3.5   7465\n",
       "6    4.0   6848\n",
       "7    4.5   4099\n",
       "8    5.0   2774"
      ]
     },
     "execution_count": 12,
     "metadata": {},
     "output_type": "execute_result"
    }
   ],
   "source": [
    "stars"
   ]
  },
  {
   "cell_type": "markdown",
   "metadata": {},
   "source": [
    "#### Get graph of stars distribution"
   ]
  },
  {
   "cell_type": "code",
   "execution_count": 13,
   "metadata": {},
   "outputs": [],
   "source": [
    "import matplotlib.pyplot as plt"
   ]
  },
  {
   "cell_type": "code",
   "execution_count": 14,
   "metadata": {},
   "outputs": [
    {
     "data": {
      "text/plain": [
       "<BarContainer object of 9 artists>"
      ]
     },
     "execution_count": 14,
     "metadata": {},
     "output_type": "execute_result"
    },
    {
     "data": {
      "image/png": "[encoded data removed]",
      "text/plain": [
       "<Figure size 432x288 with 1 Axes>"
      ]
     },
     "metadata": {
      "needs_background": "light"
     },
     "output_type": "display_data"
    }
   ],
   "source": [
    "plt.bar(stars[\"stars\"].apply(lambda x: str(x)), stars[\"count\"])"
   ]
  },
  {
   "cell_type": "markdown",
   "metadata": {},
   "source": [
    "try with seaborn"
   ]
  },
  {
   "cell_type": "code",
   "execution_count": 15,
   "metadata": {},
   "outputs": [],
   "source": [
    "import seaborn as sns"
   ]
  },
  {
   "cell_type": "code",
   "execution_count": 16,
   "metadata": {},
   "outputs": [
    {
     "data": {
      "image/png": "[encoded data removed]",
      "text/plain": [
       "<Figure size 432x288 with 1 Axes>"
      ]
     },
     "metadata": {
      "needs_background": "light"
     },
     "output_type": "display_data"
    }
   ],
   "source": [
    "sns.barplot(y=stars[\"stars\"].apply(lambda x: str(x)), x=stars[\"count\"],\n",
    "            color=\"red\", orient=\"h\")\n",
    "sns.despine(left=True, bottom=True)"
   ]
  },
  {
   "cell_type": "code",
   "execution_count": 17,
   "metadata": {},
   "outputs": [
    {
     "data": {
      "image/png": "[encoded data removed]",
      "text/plain": [
       "<Figure size 432x288 with 1 Axes>"
      ]
     },
     "metadata": {},
     "output_type": "display_data"
    }
   ],
   "source": [
    "sns.set(style=\"whitegrid\")\n",
    "\n",
    "tmp_data = pd.DataFrame({\"col1\": [1, 4, 4, 4, 5],\n",
    "                         \"col2\": [\"A     600\", \"B   1951\", \"C   5950\", \"D   6848\", \"E   2774\"]})\n",
    "\n",
    "sns.set_color_codes(\"pastel\")\n",
    "f, ax = plt.subplots()\n",
    "sns.barplot(x=\"col1\",\n",
    "            y=\"col2\",\n",
    "            data=tmp_data,\n",
    "            color=\"r\", orient=\"h\")\n",
    "ax.set(xlabel=\"stars\", ylabel=\"\")\n",
    "\n",
    "sns.set_color_codes(\"muted\")\n",
    "sns.barplot(x=[1,2,3,4,5],\n",
    "            y=[\"A     600\", \"B   1951\", \"C   5950\", \"D   6848\", \"E   2774\"],\n",
    "            color=\"r\", orient=\"h\")\n",
    "ax.set(xlabel=\"stars\", ylabel=\"\")\n",
    "\n",
    "f.savefig(\"../3_reports/figures/business_stars2.png\")"
   ]
  },
  {
   "cell_type": "code",
   "execution_count": 18,
   "metadata": {},
   "outputs": [
    {
     "data": {
      "text/plain": [
       "566818.4000000001"
      ]
     },
     "execution_count": 18,
     "metadata": {},
     "output_type": "execute_result"
    }
   ],
   "source": [
    "((1951/1500000) * .2 + (5950/1500000) * .1) * 863000000"
   ]
  },
  {
   "cell_type": "markdown",
   "metadata": {},
   "source": [
    "#### Model Performance"
   ]
  },
  {
   "cell_type": "code",
   "execution_count": 20,
   "metadata": {},
   "outputs": [
    {
     "name": "stderr",
     "output_type": "stream",
     "text": [
      "/home/richard/anaconda3/envs/insight/lib/python3.7/site-packages/smart_open/smart_open_lib.py:398: UserWarning: This function is deprecated, use smart_open.open instead. See the migration notes for details: https://github.com/RaRe-Technologies/smart_open/blob/master/README.rst#migrating-to-the-new-open-function\n",
      "  'See the migration notes for details: %s' % _MIGRATION_NOTES_URL\n"
     ]
    }
   ],
   "source": [
    "os.chdir(\"1_feature_engineering\")\n",
    "exec(open(\"extract_review_features.py\").read())"
   ]
  },
  {
   "cell_type": "code",
   "execution_count": 21,
   "metadata": {},
   "outputs": [
    {
     "name": "stdout",
     "output_type": "stream",
     "text": [
      "Preprocessing Stem & Join (P): 7.304466485977173\n",
      "Preprocessing No Stem (P): 5.680806636810303\n",
      "Preprocessing No Stem & Punct (P): 6.176894187927246\n",
      "TFIDF: 0.21582961082458496\n",
      "Topics: 0.9059181213378906\n"
     ]
    },
    {
     "name": "stderr",
     "output_type": "stream",
     "text": [
      "/home/richard/anaconda3/envs/insight/lib/python3.7/site-packages/ipykernel_launcher.py:498: SettingWithCopyWarning: \n",
      "A value is trying to be set on a copy of a slice from a DataFrame.\n",
      "Try using .loc[row_indexer,col_indexer] = value instead\n",
      "\n",
      "See the caveats in the documentation: http://pandas.pydata.org/pandas-docs/stable/indexing.html#indexing-view-versus-copy\n"
     ]
    },
    {
     "name": "stdout",
     "output_type": "stream",
     "text": [
      "Metadata: 1.0993058681488037\n"
     ]
    },
    {
     "name": "stderr",
     "output_type": "stream",
     "text": [
      "/home/richard/anaconda3/envs/insight/lib/python3.7/site-packages/ipykernel_launcher.py:354: RuntimeWarning: invalid value encountered in double_scalars\n"
     ]
    },
    {
     "name": "stdout",
     "output_type": "stream",
     "text": [
      "Syntax: 44.69997501373291\n",
      "Embeddings: 130.93154573440552\n"
     ]
    }
   ],
   "source": [
    "feature_matrix = produce_feature_matrix(data2)"
   ]
  },
  {
   "cell_type": "code",
   "execution_count": 22,
   "metadata": {},
   "outputs": [
    {
     "data": {
      "text/plain": [
       "(1050, 459)"
      ]
     },
     "execution_count": 22,
     "metadata": {},
     "output_type": "execute_result"
    }
   ],
   "source": [
    "feature_matrix.shape"
   ]
  },
  {
   "cell_type": "code",
   "execution_count": 23,
   "metadata": {},
   "outputs": [
    {
     "data": {
      "text/html": [
       "<div>\n",
       "<style scoped>\n",
       "    .dataframe tbody tr th:only-of-type {\n",
       "        vertical-align: middle;\n",
       "    }\n",
       "\n",
       "    .dataframe tbody tr th {\n",
       "        vertical-align: top;\n",
       "    }\n",
       "\n",
       "    .dataframe thead th {\n",
       "        text-align: right;\n",
       "    }\n",
       "</style>\n",
       "<table border=\"1\" class=\"dataframe\">\n",
       "  <thead>\n",
       "    <tr style=\"text-align: right;\">\n",
       "      <th></th>\n",
       "      <th>text_formatted</th>\n",
       "      <th>sen_len</th>\n",
       "      <th>sen_avg_len</th>\n",
       "      <th>sen_med_len</th>\n",
       "      <th>sen_money_len</th>\n",
       "      <th>sen_num_len</th>\n",
       "      <th>NOUN</th>\n",
       "      <th>VERB</th>\n",
       "      <th>ADJ</th>\n",
       "      <th>ADV</th>\n",
       "      <th>...</th>\n",
       "      <th>topic_90</th>\n",
       "      <th>topic_91</th>\n",
       "      <th>topic_92</th>\n",
       "      <th>topic_93</th>\n",
       "      <th>topic_94</th>\n",
       "      <th>topic_95</th>\n",
       "      <th>topic_96</th>\n",
       "      <th>topic_97</th>\n",
       "      <th>topic_98</th>\n",
       "      <th>topic_99</th>\n",
       "    </tr>\n",
       "  </thead>\n",
       "  <tbody>\n",
       "    <tr>\n",
       "      <th>0</th>\n",
       "      <td>In my dream world this amazing incredible plac...</td>\n",
       "      <td>65</td>\n",
       "      <td>4.062500</td>\n",
       "      <td>5.0</td>\n",
       "      <td>0</td>\n",
       "      <td>0</td>\n",
       "      <td>-0.889222</td>\n",
       "      <td>-0.718838</td>\n",
       "      <td>-0.823667</td>\n",
       "      <td>-0.943411</td>\n",
       "      <td>...</td>\n",
       "      <td>0.001000</td>\n",
       "      <td>0.001000</td>\n",
       "      <td>0.001000</td>\n",
       "      <td>0.001000</td>\n",
       "      <td>0.001000</td>\n",
       "      <td>0.236909</td>\n",
       "      <td>0.001000</td>\n",
       "      <td>0.001000</td>\n",
       "      <td>0.001000</td>\n",
       "      <td>0.001000</td>\n",
       "    </tr>\n",
       "    <tr>\n",
       "      <th>1</th>\n",
       "      <td>Pretty good ramen.  It honestly wasn't quite a...</td>\n",
       "      <td>100</td>\n",
       "      <td>4.347826</td>\n",
       "      <td>4.0</td>\n",
       "      <td>1</td>\n",
       "      <td>0</td>\n",
       "      <td>-0.791382</td>\n",
       "      <td>-0.641034</td>\n",
       "      <td>-0.823667</td>\n",
       "      <td>0.057682</td>\n",
       "      <td>...</td>\n",
       "      <td>0.000526</td>\n",
       "      <td>0.000526</td>\n",
       "      <td>0.000526</td>\n",
       "      <td>0.000526</td>\n",
       "      <td>0.000526</td>\n",
       "      <td>0.000526</td>\n",
       "      <td>0.000526</td>\n",
       "      <td>0.000526</td>\n",
       "      <td>0.000526</td>\n",
       "      <td>0.000526</td>\n",
       "    </tr>\n",
       "    <tr>\n",
       "      <th>2</th>\n",
       "      <td>First time there chicken for both me and my wi...</td>\n",
       "      <td>480</td>\n",
       "      <td>4.571429</td>\n",
       "      <td>5.0</td>\n",
       "      <td>1</td>\n",
       "      <td>6</td>\n",
       "      <td>0.627291</td>\n",
       "      <td>0.992857</td>\n",
       "      <td>0.397608</td>\n",
       "      <td>0.391380</td>\n",
       "      <td>...</td>\n",
       "      <td>0.193696</td>\n",
       "      <td>0.000132</td>\n",
       "      <td>0.000132</td>\n",
       "      <td>0.122451</td>\n",
       "      <td>0.120293</td>\n",
       "      <td>0.000132</td>\n",
       "      <td>0.000132</td>\n",
       "      <td>0.000132</td>\n",
       "      <td>0.000132</td>\n",
       "      <td>0.000132</td>\n",
       "    </tr>\n",
       "    <tr>\n",
       "      <th>3</th>\n",
       "      <td>The staff is friendly and service is done quic...</td>\n",
       "      <td>98</td>\n",
       "      <td>4.454545</td>\n",
       "      <td>4.5</td>\n",
       "      <td>0</td>\n",
       "      <td>0</td>\n",
       "      <td>-0.693543</td>\n",
       "      <td>-0.718838</td>\n",
       "      <td>-0.917611</td>\n",
       "      <td>-0.776562</td>\n",
       "      <td>...</td>\n",
       "      <td>0.000556</td>\n",
       "      <td>0.000556</td>\n",
       "      <td>0.000556</td>\n",
       "      <td>0.000556</td>\n",
       "      <td>0.000556</td>\n",
       "      <td>0.000556</td>\n",
       "      <td>0.000556</td>\n",
       "      <td>0.000556</td>\n",
       "      <td>0.000556</td>\n",
       "      <td>0.000556</td>\n",
       "    </tr>\n",
       "    <tr>\n",
       "      <th>4</th>\n",
       "      <td>I originally gave Main Ingredient two stars ba...</td>\n",
       "      <td>898</td>\n",
       "      <td>4.338164</td>\n",
       "      <td>4.0</td>\n",
       "      <td>1</td>\n",
       "      <td>6</td>\n",
       "      <td>2.143805</td>\n",
       "      <td>0.759444</td>\n",
       "      <td>2.370435</td>\n",
       "      <td>1.225624</td>\n",
       "      <td>...</td>\n",
       "      <td>0.084085</td>\n",
       "      <td>0.000090</td>\n",
       "      <td>0.000090</td>\n",
       "      <td>0.000090</td>\n",
       "      <td>0.000090</td>\n",
       "      <td>0.017087</td>\n",
       "      <td>0.000090</td>\n",
       "      <td>0.000090</td>\n",
       "      <td>0.052086</td>\n",
       "      <td>0.027683</td>\n",
       "    </tr>\n",
       "  </tbody>\n",
       "</table>\n",
       "<p>5 rows × 459 columns</p>\n",
       "</div>"
      ],
      "text/plain": [
       "                                      text_formatted  sen_len  sen_avg_len  \\\n",
       "0  In my dream world this amazing incredible plac...       65     4.062500   \n",
       "1  Pretty good ramen.  It honestly wasn't quite a...      100     4.347826   \n",
       "2  First time there chicken for both me and my wi...      480     4.571429   \n",
       "3  The staff is friendly and service is done quic...       98     4.454545   \n",
       "4  I originally gave Main Ingredient two stars ba...      898     4.338164   \n",
       "\n",
       "   sen_med_len  sen_money_len  sen_num_len      NOUN      VERB       ADJ  \\\n",
       "0          5.0              0            0 -0.889222 -0.718838 -0.823667   \n",
       "1          4.0              1            0 -0.791382 -0.641034 -0.823667   \n",
       "2          5.0              1            6  0.627291  0.992857  0.397608   \n",
       "3          4.5              0            0 -0.693543 -0.718838 -0.917611   \n",
       "4          4.0              1            6  2.143805  0.759444  2.370435   \n",
       "\n",
       "        ADV  ...  topic_90  topic_91  topic_92  topic_93  topic_94  topic_95  \\\n",
       "0 -0.943411  ...  0.001000  0.001000  0.001000  0.001000  0.001000  0.236909   \n",
       "1  0.057682  ...  0.000526  0.000526  0.000526  0.000526  0.000526  0.000526   \n",
       "2  0.391380  ...  0.193696  0.000132  0.000132  0.122451  0.120293  0.000132   \n",
       "3 -0.776562  ...  0.000556  0.000556  0.000556  0.000556  0.000556  0.000556   \n",
       "4  1.225624  ...  0.084085  0.000090  0.000090  0.000090  0.000090  0.017087   \n",
       "\n",
       "   topic_96  topic_97  topic_98  topic_99  \n",
       "0  0.001000  0.001000  0.001000  0.001000  \n",
       "1  0.000526  0.000526  0.000526  0.000526  \n",
       "2  0.000132  0.000132  0.000132  0.000132  \n",
       "3  0.000556  0.000556  0.000556  0.000556  \n",
       "4  0.000090  0.000090  0.052086  0.027683  \n",
       "\n",
       "[5 rows x 459 columns]"
      ]
     },
     "execution_count": 23,
     "metadata": {},
     "output_type": "execute_result"
    }
   ],
   "source": [
    "feature_matrix.head()"
   ]
  },
  {
   "cell_type": "code",
   "execution_count": 24,
   "metadata": {},
   "outputs": [],
   "source": [
    "feature_matrix = feature_matrix.fillna(0)"
   ]
  },
  {
   "cell_type": "code",
   "execution_count": 25,
   "metadata": {},
   "outputs": [],
   "source": [
    "target = data[[\"food\", \"service\", \"price\", \"ambiance\"]]"
   ]
  },
  {
   "cell_type": "code",
   "execution_count": 26,
   "metadata": {},
   "outputs": [],
   "source": [
    "exec(open(\"iterative_stratification.py\").read())"
   ]
  },
  {
   "cell_type": "code",
   "execution_count": 27,
   "metadata": {},
   "outputs": [],
   "source": [
    "X_tmp, y_tmp, X_test, y_test = iterative_train_test_split(\n",
    "    np.array(feature_matrix),\n",
    "    np.array(target),\n",
    "    test_size=0.4,\n",
    "    random_state=10191994)\n",
    "\n",
    "X_train, y_train, X_validation, y_validation = iterative_train_test_split(\n",
    "    X_tmp,\n",
    "    y_tmp,\n",
    "    test_size=0.3,\n",
    "    random_state=10191994)"
   ]
  },
  {
   "cell_type": "code",
   "execution_count": 28,
   "metadata": {},
   "outputs": [],
   "source": [
    "from sklearn.ensemble import RandomForestClassifier"
   ]
  },
  {
   "cell_type": "code",
   "execution_count": 29,
   "metadata": {},
   "outputs": [],
   "source": [
    "from sklearn.metrics import confusion_matrix"
   ]
  },
  {
   "cell_type": "code",
   "execution_count": 30,
   "metadata": {},
   "outputs": [],
   "source": [
    "clf = RandomForestClassifier(n_estimators=1000,\n",
    "                             max_depth=3,\n",
    "                             min_samples_leaf=10,\n",
    "                             max_features=0.6,\n",
    "                             random_state=10191994,\n",
    "                             n_jobs=-1)"
   ]
  },
  {
   "cell_type": "code",
   "execution_count": 31,
   "metadata": {},
   "outputs": [
    {
     "data": {
      "text/plain": [
       "Index(['sen_len', 'sen_avg_len', 'sen_med_len'], dtype='object')"
      ]
     },
     "execution_count": 31,
     "metadata": {},
     "output_type": "execute_result"
    }
   ],
   "source": [
    "feature_matrix.columns[1:4]"
   ]
  },
  {
   "cell_type": "code",
   "execution_count": 32,
   "metadata": {},
   "outputs": [
    {
     "data": {
      "text/plain": [
       "Index(['sen_money_len', 'sen_num_len', 'NOUN', 'VERB', 'ADJ', 'ADV', '.',\n",
       "       'ADP', 'NUM', 'PRON',\n",
       "       ...\n",
       "       'CONJ_X', 'X_NOUN', 'X_VERB', 'X_ADJ', 'X_ADV', 'X_.', 'X_ADP', 'X_NUM',\n",
       "       'X_PRON', 'X_PRT'],\n",
       "      dtype='object', length=144)"
      ]
     },
     "execution_count": 32,
     "metadata": {},
     "output_type": "execute_result"
    }
   ],
   "source": [
    "feature_matrix.columns[4:148]"
   ]
  },
  {
   "cell_type": "code",
   "execution_count": 33,
   "metadata": {},
   "outputs": [
    {
     "data": {
      "text/plain": [
       "Index(['X_DET', 'X_CONJ', 'food_3avg_sim', 'delicious_3avg_sim',\n",
       "       'service_3avg_sim', 'staff_3avg_sim', 'price_3avg_similarity',\n",
       "       'cost_3avg_similarity', 'ambiance_3avg_similarity',\n",
       "       'patio_3avg_similarity', 'loud_3avg_similarity', 'also', 'alway',\n",
       "       'amaz', 'around', 'ask', 'back', 'bar', 'best', 'better'],\n",
       "      dtype='object')"
      ]
     },
     "execution_count": 33,
     "metadata": {},
     "output_type": "execute_result"
    }
   ],
   "source": [
    "feature_matrix.columns[148:168]"
   ]
  },
  {
   "cell_type": "code",
   "execution_count": 34,
   "metadata": {},
   "outputs": [
    {
     "data": {
      "text/plain": [
       "Index(['bit', 'buffet', 'burger', 'came', 'chees', 'chicken', 'come', 'could',\n",
       "       'day', 'definit', 'delici', 'dessert', 'dinner', 'dish', 'drink', 'eat',\n",
       "       'enjoy', 'even', 'everyth', 'experi', 'favorit', 'first', 'flavor',\n",
       "       'food', 'fresh', 'fri', 'friend', 'get', 'go', 'good', 'got', 'great',\n",
       "       'hour', 'know', 'like', 'littl', 'locat', 'look', 'lot', 'love', 'made',\n",
       "       'make', 'meal', 'meat', 'menu', 'much', 'next', 'nice', 'night', 'one',\n",
       "       'order', 'peopl', 'pizza', 'place', 'pretti', 'price', 're', 'realli',\n",
       "       'recommend', 'restaur', 'right', 'room', 'salad', 'sauc', 'say', 'seat',\n",
       "       'serv', 'server', 'servic', 'side', 'star', 'still', 'sweet', 'tabl',\n",
       "       'take', 'tast', 'thing', 'think', 'time', 'top', 'tri', 'two', 'us',\n",
       "       've', 'vega', 'wait', 'want', 'way', 'well', 'went', 'would',\n",
       "       '10 minut', '15 minut', '20 minut', 'also order', 'back tri',\n",
       "       'best part', 'ca wait', 'came back', 'chicken waffl'],\n",
       "      dtype='object')"
      ]
     },
     "execution_count": 34,
     "metadata": {},
     "output_type": "execute_result"
    }
   ],
   "source": [
    "feature_matrix.columns[168:268]"
   ]
  },
  {
   "cell_type": "code",
   "execution_count": 35,
   "metadata": {},
   "outputs": [
    {
     "data": {
      "text/plain": [
       "Index(['come back', 'cook perfectli', 'crab leg', 'custom servic',\n",
       "       'definit back', 'definit come', 'definit worth', 'dim sum',\n",
       "       'dine experi', 'even though', 'everi time', 'feel like', 'felt like',\n",
       "       'first time', 'foie gra', 'food came', 'food good', 'food great',\n",
       "       'food servic', 'french toast', 'fri chicken', 'fri rice', 'gave us',\n",
       "       'give place', 'go back', 'go wrong', 'good food', 'good servic',\n",
       "       'good thing', 'great food', 'great place', 'great servic', 'happi hour',\n",
       "       'highli recommend', 'ice cream', 'la vega', 'last night', 'last time',\n",
       "       'late night', 'like place', 'littl bit', 'long time', 'look forward',\n",
       "       'look like', 'love place', 'mac chees', 'make reserv', 'make sure',\n",
       "       'mash potato', 'medium rare', 'melt mouth', 'much better', 'must tri',\n",
       "       'new york', 'next time', 'noth special', 'one best', 'one favorit',\n",
       "       'one thing', 'place go', 'pork belli', 'pretti good', 'pretti much',\n",
       "       'prime rib', 'qualiti food', 'realli enjoy', 'realli good',\n",
       "       'realli like', 'realli nice', 'reason price', 'recommend place',\n",
       "       'right away', 'seem like', 'servic good', 'servic great', 'short rib',\n",
       "       'sweet potato', 'tast like', 'top notch', 'tri place', 've ever',\n",
       "       've never', 'wait line', 'wait time', 'want tri', 'would come',\n",
       "       'would definit', 'would go', 'would like', 'would recommend',\n",
       "       'would say', 'topic_0', 'topic_1', 'topic_2', 'topic_3', 'topic_4',\n",
       "       'topic_5', 'topic_6', 'topic_7', 'topic_8'],\n",
       "      dtype='object')"
      ]
     },
     "execution_count": 35,
     "metadata": {},
     "output_type": "execute_result"
    }
   ],
   "source": [
    "feature_matrix.columns[268:368]"
   ]
  },
  {
   "cell_type": "code",
   "execution_count": 36,
   "metadata": {},
   "outputs": [
    {
     "data": {
      "text/html": [
       "<div>\n",
       "<style scoped>\n",
       "    .dataframe tbody tr th:only-of-type {\n",
       "        vertical-align: middle;\n",
       "    }\n",
       "\n",
       "    .dataframe tbody tr th {\n",
       "        vertical-align: top;\n",
       "    }\n",
       "\n",
       "    .dataframe thead th {\n",
       "        text-align: right;\n",
       "    }\n",
       "</style>\n",
       "<table border=\"1\" class=\"dataframe\">\n",
       "  <thead>\n",
       "    <tr style=\"text-align: right;\">\n",
       "      <th></th>\n",
       "      <th>food</th>\n",
       "      <th>service</th>\n",
       "      <th>price</th>\n",
       "      <th>ambiance</th>\n",
       "    </tr>\n",
       "  </thead>\n",
       "  <tbody>\n",
       "    <tr>\n",
       "      <th>count</th>\n",
       "      <td>1050.000000</td>\n",
       "      <td>1050.000000</td>\n",
       "      <td>1050.000000</td>\n",
       "      <td>1050.000000</td>\n",
       "    </tr>\n",
       "    <tr>\n",
       "      <th>mean</th>\n",
       "      <td>0.908571</td>\n",
       "      <td>0.637143</td>\n",
       "      <td>0.263810</td>\n",
       "      <td>0.404762</td>\n",
       "    </tr>\n",
       "    <tr>\n",
       "      <th>std</th>\n",
       "      <td>0.288355</td>\n",
       "      <td>0.481053</td>\n",
       "      <td>0.440907</td>\n",
       "      <td>0.491080</td>\n",
       "    </tr>\n",
       "    <tr>\n",
       "      <th>min</th>\n",
       "      <td>0.000000</td>\n",
       "      <td>0.000000</td>\n",
       "      <td>0.000000</td>\n",
       "      <td>0.000000</td>\n",
       "    </tr>\n",
       "    <tr>\n",
       "      <th>25%</th>\n",
       "      <td>1.000000</td>\n",
       "      <td>0.000000</td>\n",
       "      <td>0.000000</td>\n",
       "      <td>0.000000</td>\n",
       "    </tr>\n",
       "    <tr>\n",
       "      <th>50%</th>\n",
       "      <td>1.000000</td>\n",
       "      <td>1.000000</td>\n",
       "      <td>0.000000</td>\n",
       "      <td>0.000000</td>\n",
       "    </tr>\n",
       "    <tr>\n",
       "      <th>75%</th>\n",
       "      <td>1.000000</td>\n",
       "      <td>1.000000</td>\n",
       "      <td>1.000000</td>\n",
       "      <td>1.000000</td>\n",
       "    </tr>\n",
       "    <tr>\n",
       "      <th>max</th>\n",
       "      <td>1.000000</td>\n",
       "      <td>1.000000</td>\n",
       "      <td>1.000000</td>\n",
       "      <td>1.000000</td>\n",
       "    </tr>\n",
       "  </tbody>\n",
       "</table>\n",
       "</div>"
      ],
      "text/plain": [
       "              food      service        price     ambiance\n",
       "count  1050.000000  1050.000000  1050.000000  1050.000000\n",
       "mean      0.908571     0.637143     0.263810     0.404762\n",
       "std       0.288355     0.481053     0.440907     0.491080\n",
       "min       0.000000     0.000000     0.000000     0.000000\n",
       "25%       1.000000     0.000000     0.000000     0.000000\n",
       "50%       1.000000     1.000000     0.000000     0.000000\n",
       "75%       1.000000     1.000000     1.000000     1.000000\n",
       "max       1.000000     1.000000     1.000000     1.000000"
      ]
     },
     "execution_count": 36,
     "metadata": {},
     "output_type": "execute_result"
    }
   ],
   "source": [
    "target.describe()"
   ]
  },
  {
   "cell_type": "markdown",
   "metadata": {},
   "source": [
    "#### Food"
   ]
  },
  {
   "cell_type": "code",
   "execution_count": 37,
   "metadata": {},
   "outputs": [],
   "source": [
    "import pickle"
   ]
  },
  {
   "cell_type": "code",
   "execution_count": 38,
   "metadata": {},
   "outputs": [],
   "source": [
    "def train_model(index):\n",
    "    if index == 0:\n",
    "        model = \"food\"\n",
    "    elif index == 1:\n",
    "        model = \"service\"\n",
    "    elif index == 2:\n",
    "        model = \"price\"\n",
    "    elif index == 3:\n",
    "        model = \"ambiance\"\n",
    "        \n",
    "    score_metadata = clf.fit(pd.DataFrame(X_train[:, 1:4])\n",
    "                             , y_train[:, index]\n",
    "        ).score(pd.DataFrame(X_validation[:, 1:4])\n",
    "                , y_validation[:, index])\n",
    "    score_syntax = clf.fit(pd.DataFrame(X_train[:, 1:148])\n",
    "                           , y_train[:, index]\n",
    "        ).score(pd.DataFrame(X_validation[:, 1:148])\n",
    "                , y_validation[:, index])\n",
    "    score_embeddings = clf.fit(pd.DataFrame(X_train[:, 1:168])\n",
    "                               , y_train[:, index]\n",
    "        ).score(pd.DataFrame(X_validation[:, 1:168])\n",
    "                , y_validation[:, index])\n",
    "    score_tfidf = clf.fit(pd.DataFrame(X_train[:, 1:268])\n",
    "                          , y_train[:, index]\n",
    "        ).score(pd.DataFrame(X_validation[:, 1:268])\n",
    "                , y_validation[:, index])\n",
    "    score_topics = clf.fit(pd.DataFrame(X_train[:, 1:368])\n",
    "                           , y_train[:, index]\n",
    "        ).score(pd.DataFrame(X_validation[:, 1:368])\n",
    "                , y_validation[:, index])\n",
    "    with open(\n",
    "        \"../../4_models/rf_{}_50iterations_0.8threshold.pickle\"\n",
    "        .format(model), \"rb\") as f:\n",
    "        clf_pseudolabel = pickle.load(f)\n",
    "        \n",
    "        score_pseudolabel = clf_pseudolabel.fit(\n",
    "            pd.DataFrame(X_train[:, 1:368])\n",
    "            , y_train[:, index]\n",
    "            ).score(pd.DataFrame(X_validation[:, 1:368])\n",
    "                    , y_validation[:, index])\n",
    "        return [score_metadata,\n",
    "                score_syntax,\n",
    "                score_embeddings,\n",
    "                score_tfidf,\n",
    "                score_topics,\n",
    "                score_pseudolabel]"
   ]
  },
  {
   "cell_type": "code",
   "execution_count": 39,
   "metadata": {},
   "outputs": [],
   "source": [
    "food = train_model(0)\n",
    "service = train_model(1)\n",
    "price = train_model(2)\n",
    "ambiance = train_model(3)"
   ]
  },
  {
   "cell_type": "code",
   "execution_count": 40,
   "metadata": {},
   "outputs": [
    {
     "data": {
      "text/plain": [
       "[0.908571,\n",
       " 0.9148936170212766,\n",
       " 0.9148936170212766,\n",
       " 0.925531914893617,\n",
       " 0.9202127659574468,\n",
       " 0.9202127659574468,\n",
       " 0.9202127659574468]"
      ]
     },
     "execution_count": 40,
     "metadata": {},
     "output_type": "execute_result"
    }
   ],
   "source": [
    "food = [0.908571] + food\n",
    "food"
   ]
  },
  {
   "cell_type": "code",
   "execution_count": 41,
   "metadata": {},
   "outputs": [
    {
     "data": {
      "text/plain": [
       "[0.637143,\n",
       " 0.6382978723404256,\n",
       " 0.6382978723404256,\n",
       " 0.8404255319148937,\n",
       " 0.824468085106383,\n",
       " 0.824468085106383,\n",
       " 0.824468085106383]"
      ]
     },
     "execution_count": 41,
     "metadata": {},
     "output_type": "execute_result"
    }
   ],
   "source": [
    "service = [0.637143] + service\n",
    "service"
   ]
  },
  {
   "cell_type": "code",
   "execution_count": 42,
   "metadata": {},
   "outputs": [
    {
     "data": {
      "text/plain": [
       "[0.73619,\n",
       " 0.7340425531914894,\n",
       " 0.776595744680851,\n",
       " 0.8138297872340425,\n",
       " 0.8563829787234043,\n",
       " 0.851063829787234,\n",
       " 0.851063829787234]"
      ]
     },
     "execution_count": 42,
     "metadata": {},
     "output_type": "execute_result"
    }
   ],
   "source": [
    "price = [1-0.263810] + price\n",
    "price"
   ]
  },
  {
   "cell_type": "code",
   "execution_count": 43,
   "metadata": {},
   "outputs": [
    {
     "data": {
      "text/plain": [
       "[0.5952379999999999,\n",
       " 0.6276595744680851,\n",
       " 0.6382978723404256,\n",
       " 0.824468085106383,\n",
       " 0.8191489361702128,\n",
       " 0.8138297872340425,\n",
       " 0.8138297872340425]"
      ]
     },
     "execution_count": 43,
     "metadata": {},
     "output_type": "execute_result"
    }
   ],
   "source": [
    "ambiance = [1-0.404762] + ambiance\n",
    "ambiance"
   ]
  },
  {
   "cell_type": "code",
   "execution_count": 44,
   "metadata": {},
   "outputs": [],
   "source": [
    "df = pd.DataFrame({\"features\": [\"0 base\",\n",
    "                                \"1 metadata\",\n",
    "                                \"2 syntax\",\n",
    "                                \"3 embeddings\",\n",
    "                                \"4 tfidf\",\n",
    "                                \"5 topics\",\n",
    "                                \"6 pseudolabel\"],\n",
    "                   \"food\": food,\n",
    "                   \"service\": service,\n",
    "                   \"price\": price,\n",
    "                   \"ambiance\": ambiance})"
   ]
  },
  {
   "cell_type": "code",
   "execution_count": 45,
   "metadata": {},
   "outputs": [
    {
     "data": {
      "text/html": [
       "<div>\n",
       "<style scoped>\n",
       "    .dataframe tbody tr th:only-of-type {\n",
       "        vertical-align: middle;\n",
       "    }\n",
       "\n",
       "    .dataframe tbody tr th {\n",
       "        vertical-align: top;\n",
       "    }\n",
       "\n",
       "    .dataframe thead th {\n",
       "        text-align: right;\n",
       "    }\n",
       "</style>\n",
       "<table border=\"1\" class=\"dataframe\">\n",
       "  <thead>\n",
       "    <tr style=\"text-align: right;\">\n",
       "      <th></th>\n",
       "      <th>features</th>\n",
       "      <th>food</th>\n",
       "      <th>service</th>\n",
       "      <th>price</th>\n",
       "      <th>ambiance</th>\n",
       "    </tr>\n",
       "  </thead>\n",
       "  <tbody>\n",
       "    <tr>\n",
       "      <th>0</th>\n",
       "      <td>0 base</td>\n",
       "      <td>0.908571</td>\n",
       "      <td>0.637143</td>\n",
       "      <td>0.736190</td>\n",
       "      <td>0.595238</td>\n",
       "    </tr>\n",
       "    <tr>\n",
       "      <th>1</th>\n",
       "      <td>1 metadata</td>\n",
       "      <td>0.914894</td>\n",
       "      <td>0.638298</td>\n",
       "      <td>0.734043</td>\n",
       "      <td>0.627660</td>\n",
       "    </tr>\n",
       "    <tr>\n",
       "      <th>2</th>\n",
       "      <td>2 syntax</td>\n",
       "      <td>0.914894</td>\n",
       "      <td>0.638298</td>\n",
       "      <td>0.776596</td>\n",
       "      <td>0.638298</td>\n",
       "    </tr>\n",
       "    <tr>\n",
       "      <th>3</th>\n",
       "      <td>3 embeddings</td>\n",
       "      <td>0.925532</td>\n",
       "      <td>0.840426</td>\n",
       "      <td>0.813830</td>\n",
       "      <td>0.824468</td>\n",
       "    </tr>\n",
       "    <tr>\n",
       "      <th>4</th>\n",
       "      <td>4 tfidf</td>\n",
       "      <td>0.920213</td>\n",
       "      <td>0.824468</td>\n",
       "      <td>0.856383</td>\n",
       "      <td>0.819149</td>\n",
       "    </tr>\n",
       "    <tr>\n",
       "      <th>5</th>\n",
       "      <td>5 topics</td>\n",
       "      <td>0.920213</td>\n",
       "      <td>0.824468</td>\n",
       "      <td>0.851064</td>\n",
       "      <td>0.813830</td>\n",
       "    </tr>\n",
       "    <tr>\n",
       "      <th>6</th>\n",
       "      <td>6 pseudolabel</td>\n",
       "      <td>0.920213</td>\n",
       "      <td>0.824468</td>\n",
       "      <td>0.851064</td>\n",
       "      <td>0.813830</td>\n",
       "    </tr>\n",
       "  </tbody>\n",
       "</table>\n",
       "</div>"
      ],
      "text/plain": [
       "        features      food   service     price  ambiance\n",
       "0         0 base  0.908571  0.637143  0.736190  0.595238\n",
       "1     1 metadata  0.914894  0.638298  0.734043  0.627660\n",
       "2       2 syntax  0.914894  0.638298  0.776596  0.638298\n",
       "3   3 embeddings  0.925532  0.840426  0.813830  0.824468\n",
       "4        4 tfidf  0.920213  0.824468  0.856383  0.819149\n",
       "5       5 topics  0.920213  0.824468  0.851064  0.813830\n",
       "6  6 pseudolabel  0.920213  0.824468  0.851064  0.813830"
      ]
     },
     "execution_count": 45,
     "metadata": {},
     "output_type": "execute_result"
    }
   ],
   "source": [
    "df"
   ]
  },
  {
   "cell_type": "code",
   "execution_count": 46,
   "metadata": {},
   "outputs": [
    {
     "data": {
      "image/png": "[encoded data removed]",
      "text/plain": [
       "<Figure size 432x288 with 1 Axes>"
      ]
     },
     "metadata": {},
     "output_type": "display_data"
    }
   ],
   "source": [
    "f, ax = plt.subplots()\n",
    "sns.lineplot(x=\"features\", y=\"food\", markers=True, data=df,\n",
    "             color=\"blue\", label=\"food\")\n",
    "sns.lineplot(x=\"features\", y=\"service\", markers=True, data=df,\n",
    "             color=\"red\", label=\"service\")\n",
    "sns.lineplot(x=\"features\", y=\"price\", markers=True, data=df,\n",
    "             color=\"green\", label=\"price\")\n",
    "sns.lineplot(x=\"features\", y=\"ambiance\", markers=True, data=df,\n",
    "             color=\"orange\", label=\"ambiance\")\n",
    "plt.setp(ax.get_xticklabels(), rotation=90)\n",
    "ax.set(ylabel=\"Accuracy\", ylim=(0.4, 1))\n",
    "ax.legend(ncol=2, loc=\"lower right\", frameon=True)\n",
    "sns.despine(left=True, bottom=True)\n",
    "plt.savefig(\"../../3_reports/figures/model_accuracy_20190613.png\")"
   ]
  },
  {
   "cell_type": "code",
   "execution_count": null,
   "metadata": {},
   "outputs": [],
   "source": []
  },
  {
   "cell_type": "code",
   "execution_count": null,
   "metadata": {},
   "outputs": [],
   "source": []
  }
 ],
 "metadata": {
  "kernelspec": {
   "display_name": "Python 3",
   "language": "python",
   "name": "python3"
  },
  "language_info": {
   "codemirror_mode": {
    "name": "ipython",
    "version": 3
   },
   "file_extension": ".py",
   "mimetype": "text/x-python",
   "name": "python",
   "nbconvert_exporter": "python",
   "pygments_lexer": "ipython3",
   "version": "3.7.3"
  }
 },
 "nbformat": 4,
 "nbformat_minor": 2
}
