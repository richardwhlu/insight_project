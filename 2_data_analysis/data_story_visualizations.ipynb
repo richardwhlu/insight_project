{
 "cells": [
  {
   "cell_type": "code",
   "execution_count": 1,
   "metadata": {},
   "outputs": [],
   "source": [
    "import os\n",
    "import pandas as pd"
   ]
  },
  {
   "cell_type": "code",
   "execution_count": 2,
   "metadata": {},
   "outputs": [],
   "source": [
    "business = pd.read_json(\"../0_data/1_raw_data/business.json\",\n",
    "                       lines=True)"
   ]
  },
  {
   "cell_type": "code",
   "execution_count": 3,
   "metadata": {},
   "outputs": [
    {
     "data": {
      "text/plain": [
       "(192609, 14)"
      ]
     },
     "execution_count": 3,
     "metadata": {},
     "output_type": "execute_result"
    }
   ],
   "source": [
    "business.shape"
   ]
  },
  {
   "cell_type": "code",
   "execution_count": 13,
   "metadata": {},
   "outputs": [],
   "source": [
    "def split_cats(text):\n",
    "    try:\n",
    "        return x.split(\", \")\n",
    "    except:\n",
    "        return []"
   ]
  },
  {
   "cell_type": "code",
   "execution_count": 14,
   "metadata": {},
   "outputs": [],
   "source": [
    "condition2 = business[\"categories\"].apply(lambda x: \"restaurant\" in split_cats(x))"
   ]
  },
  {
   "cell_type": "code",
   "execution_count": 15,
   "metadata": {},
   "outputs": [],
   "source": [
    "business_open = business[business[\"is_open\"]==1 & condition2]"
   ]
  },
  {
   "cell_type": "code",
   "execution_count": 16,
   "metadata": {},
   "outputs": [
    {
     "data": {
      "text/plain": [
       "(34084, 14)"
      ]
     },
     "execution_count": 16,
     "metadata": {},
     "output_type": "execute_result"
    }
   ],
   "source": [
    "business_open.shape"
   ]
  },
  {
   "cell_type": "code",
   "execution_count": 17,
   "metadata": {},
   "outputs": [
    {
     "data": {
      "text/plain": [
       "Index(['address', 'attributes', 'business_id', 'categories', 'city', 'hours',\n",
       "       'is_open', 'latitude', 'longitude', 'name', 'postal_code',\n",
       "       'review_count', 'stars', 'state'],\n",
       "      dtype='object')"
      ]
     },
     "execution_count": 17,
     "metadata": {},
     "output_type": "execute_result"
    }
   ],
   "source": [
    "business_open.columns"
   ]
  },
  {
   "cell_type": "code",
   "execution_count": 18,
   "metadata": {},
   "outputs": [],
   "source": [
    "stars = business_open.groupby(\"stars\").count()[\"address\"].reset_index()"
   ]
  },
  {
   "cell_type": "code",
   "execution_count": 19,
   "metadata": {},
   "outputs": [],
   "source": [
    "stars.columns = [\"stars\", \"count\"]"
   ]
  },
  {
   "cell_type": "code",
   "execution_count": 20,
   "metadata": {},
   "outputs": [
    {
     "data": {
      "text/plain": [
       "(9, 2)"
      ]
     },
     "execution_count": 20,
     "metadata": {},
     "output_type": "execute_result"
    }
   ],
   "source": [
    "stars.shape"
   ]
  },
  {
   "cell_type": "code",
   "execution_count": 22,
   "metadata": {},
   "outputs": [
    {
     "data": {
      "text/html": [
       "<div>\n",
       "<style scoped>\n",
       "    .dataframe tbody tr th:only-of-type {\n",
       "        vertical-align: middle;\n",
       "    }\n",
       "\n",
       "    .dataframe tbody tr th {\n",
       "        vertical-align: top;\n",
       "    }\n",
       "\n",
       "    .dataframe thead th {\n",
       "        text-align: right;\n",
       "    }\n",
       "</style>\n",
       "<table border=\"1\" class=\"dataframe\">\n",
       "  <thead>\n",
       "    <tr style=\"text-align: right;\">\n",
       "      <th></th>\n",
       "      <th>stars</th>\n",
       "      <th>count</th>\n",
       "    </tr>\n",
       "  </thead>\n",
       "  <tbody>\n",
       "    <tr>\n",
       "      <th>0</th>\n",
       "      <td>1.0</td>\n",
       "      <td>600</td>\n",
       "    </tr>\n",
       "    <tr>\n",
       "      <th>1</th>\n",
       "      <td>1.5</td>\n",
       "      <td>797</td>\n",
       "    </tr>\n",
       "    <tr>\n",
       "      <th>2</th>\n",
       "      <td>2.0</td>\n",
       "      <td>1951</td>\n",
       "    </tr>\n",
       "    <tr>\n",
       "      <th>3</th>\n",
       "      <td>2.5</td>\n",
       "      <td>3600</td>\n",
       "    </tr>\n",
       "    <tr>\n",
       "      <th>4</th>\n",
       "      <td>3.0</td>\n",
       "      <td>5950</td>\n",
       "    </tr>\n",
       "    <tr>\n",
       "      <th>5</th>\n",
       "      <td>3.5</td>\n",
       "      <td>7465</td>\n",
       "    </tr>\n",
       "    <tr>\n",
       "      <th>6</th>\n",
       "      <td>4.0</td>\n",
       "      <td>6848</td>\n",
       "    </tr>\n",
       "    <tr>\n",
       "      <th>7</th>\n",
       "      <td>4.5</td>\n",
       "      <td>4099</td>\n",
       "    </tr>\n",
       "    <tr>\n",
       "      <th>8</th>\n",
       "      <td>5.0</td>\n",
       "      <td>2774</td>\n",
       "    </tr>\n",
       "  </tbody>\n",
       "</table>\n",
       "</div>"
      ],
      "text/plain": [
       "   stars  count\n",
       "0    1.0    600\n",
       "1    1.5    797\n",
       "2    2.0   1951\n",
       "3    2.5   3600\n",
       "4    3.0   5950\n",
       "5    3.5   7465\n",
       "6    4.0   6848\n",
       "7    4.5   4099\n",
       "8    5.0   2774"
      ]
     },
     "execution_count": 22,
     "metadata": {},
     "output_type": "execute_result"
    }
   ],
   "source": [
    "stars"
   ]
  },
  {
   "cell_type": "markdown",
   "metadata": {},
   "source": [
    "#### Get graph of stars distribution"
   ]
  },
  {
   "cell_type": "code",
   "execution_count": 23,
   "metadata": {},
   "outputs": [],
   "source": [
    "import matplotlib.pyplot as plt"
   ]
  },
  {
   "cell_type": "code",
   "execution_count": 24,
   "metadata": {},
   "outputs": [
    {
     "data": {
      "text/plain": [
       "<BarContainer object of 9 artists>"
      ]
     },
     "execution_count": 24,
     "metadata": {},
     "output_type": "execute_result"
    },
    {
     "data": {
      "image/png": "[encoded data removed]",
      "text/plain": [
       "<Figure size 432x288 with 1 Axes>"
      ]
     },
     "metadata": {
      "needs_background": "light"
     },
     "output_type": "display_data"
    }
   ],
   "source": [
    "plt.bar(stars[\"stars\"].apply(lambda x: str(x)), stars[\"count\"])"
   ]
  },
  {
   "cell_type": "markdown",
   "metadata": {},
   "source": [
    "try with seaborn"
   ]
  },
  {
   "cell_type": "code",
   "execution_count": 26,
   "metadata": {},
   "outputs": [],
   "source": [
    "import seaborn as sns"
   ]
  },
  {
   "cell_type": "code",
   "execution_count": 27,
   "metadata": {},
   "outputs": [
    {
     "data": {
      "image/png": "[encoded data removed]",
      "text/plain": [
       "<Figure size 432x288 with 1 Axes>"
      ]
     },
     "metadata": {
      "needs_background": "light"
     },
     "output_type": "display_data"
    }
   ],
   "source": [
    "sns.barplot(y=stars[\"stars\"].apply(lambda x: str(x)), x=stars[\"count\"],\n",
    "            color=\"red\", orient=\"h\")\n",
    "sns.despine(left=True, bottom=True)"
   ]
  },
  {
   "cell_type": "code",
   "execution_count": 31,
   "metadata": {},
   "outputs": [
    {
     "data": {
      "image/png": "[encoded data removed]",
      "text/plain": [
       "<Figure size 432x288 with 1 Axes>"
      ]
     },
     "metadata": {},
     "output_type": "display_data"
    }
   ],
   "source": [
    "sns.set(style=\"whitegrid\")\n",
    "\n",
    "tmp_data = pd.DataFrame({\"col1\": [1, 4, 4, 4, 5],\n",
    "                         \"col2\": [\"A     600\", \"B   1951\", \"C   5950\", \"D   6848\", \"E   2774\"]})\n",
    "\n",
    "sns.set_color_codes(\"pastel\")\n",
    "f, ax = plt.subplots()\n",
    "sns.barplot(x=\"col1\",\n",
    "            y=\"col2\",\n",
    "            data=tmp_data,\n",
    "            color=\"r\", orient=\"h\")\n",
    "ax.set(xlabel=\"stars\", ylabel=\"\")\n",
    "\n",
    "sns.set_color_codes(\"muted\")\n",
    "sns.barplot(x=[1,2,3,4,5],\n",
    "            y=[\"A     600\", \"B   1951\", \"C   5950\", \"D   6848\", \"E   2774\"],\n",
    "            color=\"r\", orient=\"h\")\n",
    "ax.set(xlabel=\"stars\", ylabel=\"\")\n",
    "\n",
    "f.savefig(\"../3_reports/figures/business_stars2.png\")"
   ]
  },
  {
   "cell_type": "code",
   "execution_count": 34,
   "metadata": {},
   "outputs": [
    {
     "data": {
      "text/plain": [
       "566818.4000000001"
      ]
     },
     "execution_count": 34,
     "metadata": {},
     "output_type": "execute_result"
    }
   ],
   "source": [
    "((1951/1500000) * .2 + (5950/1500000) * .1) * 863000000"
   ]
  },
  {
   "cell_type": "markdown",
   "metadata": {},
   "source": [
    "#### Model Performance"
   ]
  },
  {
   "cell_type": "code",
   "execution_count": 86,
   "metadata": {},
   "outputs": [
    {
     "name": "stderr",
     "output_type": "stream",
     "text": [
      "/home/richard/anaconda3/envs/insight/lib/python3.7/site-packages/smart_open/smart_open_lib.py:398: UserWarning: This function is deprecated, use smart_open.open instead. See the migration notes for details: https://github.com/RaRe-Technologies/smart_open/blob/master/README.rst#migrating-to-the-new-open-function\n",
      "  'See the migration notes for details: %s' % _MIGRATION_NOTES_URL\n"
     ]
    }
   ],
   "source": [
    "# os.chdir(\"1_feature_engineering\")\n",
    "exec(open(\"extract_review_features.py\").read())"
   ]
  },
  {
   "cell_type": "code",
   "execution_count": 87,
   "metadata": {},
   "outputs": [
    {
     "name": "stdout",
     "output_type": "stream",
     "text": [
      "Preprocessing (P): 3.5770504474639893\n",
      "Preprocessing2 (P): 3.041956901550293\n",
      "TFIDF: 0.053965091705322266\n",
      "Topics: 0.41849470138549805\n"
     ]
    },
    {
     "name": "stderr",
     "output_type": "stream",
     "text": [
      "/home/richard/anaconda3/envs/insight/lib/python3.7/site-packages/ipykernel_launcher.py:604: SettingWithCopyWarning: \n",
      "A value is trying to be set on a copy of a slice from a DataFrame.\n",
      "Try using .loc[row_indexer,col_indexer] = value instead\n",
      "\n",
      "See the caveats in the documentation: http://pandas.pydata.org/pandas-docs/stable/indexing.html#indexing-view-versus-copy\n"
     ]
    },
    {
     "name": "stdout",
     "output_type": "stream",
     "text": [
      "Metadata: 0.6005206108093262\n"
     ]
    },
    {
     "name": "stderr",
     "output_type": "stream",
     "text": [
      "/home/richard/anaconda3/envs/insight/lib/python3.7/site-packages/ipykernel_launcher.py:753: SettingWithCopyWarning: \n",
      "A value is trying to be set on a copy of a slice from a DataFrame.\n",
      "Try using .loc[row_indexer,col_indexer] = value instead\n",
      "\n",
      "See the caveats in the documentation: http://pandas.pydata.org/pandas-docs/stable/indexing.html#indexing-view-versus-copy\n"
     ]
    },
    {
     "name": "stdout",
     "output_type": "stream",
     "text": [
      "Syntax: 3.183506965637207\n",
      "Embeddings: 12.020823240280151\n"
     ]
    },
    {
     "name": "stderr",
     "output_type": "stream",
     "text": [
      "/home/richard/anaconda3/envs/insight/lib/python3.7/site-packages/ipykernel_launcher.py:474: RuntimeWarning: invalid value encountered in double_scalars\n"
     ]
    }
   ],
   "source": [
    "feature_matrix = produce_feature_matrix(data2)"
   ]
  },
  {
   "cell_type": "code",
   "execution_count": 88,
   "metadata": {},
   "outputs": [
    {
     "data": {
      "text/plain": [
       "(1050, 368)"
      ]
     },
     "execution_count": 88,
     "metadata": {},
     "output_type": "execute_result"
    }
   ],
   "source": [
    "feature_matrix.shape"
   ]
  },
  {
   "cell_type": "code",
   "execution_count": 89,
   "metadata": {},
   "outputs": [
    {
     "data": {
      "text/html": [
       "<div>\n",
       "<style scoped>\n",
       "    .dataframe tbody tr th:only-of-type {\n",
       "        vertical-align: middle;\n",
       "    }\n",
       "\n",
       "    .dataframe tbody tr th {\n",
       "        vertical-align: top;\n",
       "    }\n",
       "\n",
       "    .dataframe thead th {\n",
       "        text-align: right;\n",
       "    }\n",
       "</style>\n",
       "<table border=\"1\" class=\"dataframe\">\n",
       "  <thead>\n",
       "    <tr style=\"text-align: right;\">\n",
       "      <th></th>\n",
       "      <th>text_formatted</th>\n",
       "      <th>sen_len</th>\n",
       "      <th>sen_avg_len</th>\n",
       "      <th>sen_med_len</th>\n",
       "      <th>NOUN</th>\n",
       "      <th>VERB</th>\n",
       "      <th>ADJ</th>\n",
       "      <th>ADV</th>\n",
       "      <th>.</th>\n",
       "      <th>ADP</th>\n",
       "      <th>...</th>\n",
       "      <th>topic_90</th>\n",
       "      <th>topic_91</th>\n",
       "      <th>topic_92</th>\n",
       "      <th>topic_93</th>\n",
       "      <th>topic_94</th>\n",
       "      <th>topic_95</th>\n",
       "      <th>topic_96</th>\n",
       "      <th>topic_97</th>\n",
       "      <th>topic_98</th>\n",
       "      <th>topic_99</th>\n",
       "    </tr>\n",
       "  </thead>\n",
       "  <tbody>\n",
       "    <tr>\n",
       "      <th>0</th>\n",
       "      <td>In my dream world this amazing incredible plac...</td>\n",
       "      <td>59</td>\n",
       "      <td>5.900000</td>\n",
       "      <td>5.0</td>\n",
       "      <td>-0.889222</td>\n",
       "      <td>-0.718838</td>\n",
       "      <td>-0.823667</td>\n",
       "      <td>-0.943411</td>\n",
       "      <td>-0.418849</td>\n",
       "      <td>-0.679363</td>\n",
       "      <td>...</td>\n",
       "      <td>0.001000</td>\n",
       "      <td>0.001000</td>\n",
       "      <td>0.001000</td>\n",
       "      <td>0.001000</td>\n",
       "      <td>0.001000</td>\n",
       "      <td>0.236909</td>\n",
       "      <td>0.001000</td>\n",
       "      <td>0.001000</td>\n",
       "      <td>0.001000</td>\n",
       "      <td>0.001000</td>\n",
       "    </tr>\n",
       "    <tr>\n",
       "      <th>1</th>\n",
       "      <td>Pretty good ramen.  It honestly wasn't quite a...</td>\n",
       "      <td>97</td>\n",
       "      <td>4.850000</td>\n",
       "      <td>4.5</td>\n",
       "      <td>-0.791382</td>\n",
       "      <td>-0.641034</td>\n",
       "      <td>-0.823667</td>\n",
       "      <td>0.057682</td>\n",
       "      <td>0.231730</td>\n",
       "      <td>-0.679363</td>\n",
       "      <td>...</td>\n",
       "      <td>0.000526</td>\n",
       "      <td>0.000526</td>\n",
       "      <td>0.000526</td>\n",
       "      <td>0.000526</td>\n",
       "      <td>0.000526</td>\n",
       "      <td>0.000526</td>\n",
       "      <td>0.000526</td>\n",
       "      <td>0.000526</td>\n",
       "      <td>0.000526</td>\n",
       "      <td>0.000526</td>\n",
       "    </tr>\n",
       "    <tr>\n",
       "      <th>2</th>\n",
       "      <td>First time there chicken for both me and my wi...</td>\n",
       "      <td>468</td>\n",
       "      <td>5.032258</td>\n",
       "      <td>5.0</td>\n",
       "      <td>0.627291</td>\n",
       "      <td>0.992857</td>\n",
       "      <td>0.397608</td>\n",
       "      <td>0.391380</td>\n",
       "      <td>0.882309</td>\n",
       "      <td>0.656463</td>\n",
       "      <td>...</td>\n",
       "      <td>0.193696</td>\n",
       "      <td>0.000132</td>\n",
       "      <td>0.000132</td>\n",
       "      <td>0.122451</td>\n",
       "      <td>0.120293</td>\n",
       "      <td>0.000132</td>\n",
       "      <td>0.000132</td>\n",
       "      <td>0.000132</td>\n",
       "      <td>0.000132</td>\n",
       "      <td>0.000132</td>\n",
       "    </tr>\n",
       "    <tr>\n",
       "      <th>3</th>\n",
       "      <td>The staff is friendly and service is done quic...</td>\n",
       "      <td>94</td>\n",
       "      <td>5.222222</td>\n",
       "      <td>5.0</td>\n",
       "      <td>-0.693543</td>\n",
       "      <td>-0.718838</td>\n",
       "      <td>-0.917611</td>\n",
       "      <td>-0.776562</td>\n",
       "      <td>-0.418849</td>\n",
       "      <td>1.992289</td>\n",
       "      <td>...</td>\n",
       "      <td>0.000556</td>\n",
       "      <td>0.000556</td>\n",
       "      <td>0.000556</td>\n",
       "      <td>0.000556</td>\n",
       "      <td>0.000556</td>\n",
       "      <td>0.000556</td>\n",
       "      <td>0.000556</td>\n",
       "      <td>0.000556</td>\n",
       "      <td>0.000556</td>\n",
       "      <td>0.000556</td>\n",
       "    </tr>\n",
       "    <tr>\n",
       "      <th>4</th>\n",
       "      <td>I originally gave Main Ingredient two stars ba...</td>\n",
       "      <td>854</td>\n",
       "      <td>5.239264</td>\n",
       "      <td>5.0</td>\n",
       "      <td>2.143805</td>\n",
       "      <td>0.759444</td>\n",
       "      <td>2.370435</td>\n",
       "      <td>1.225624</td>\n",
       "      <td>0.882309</td>\n",
       "      <td>2.660202</td>\n",
       "      <td>...</td>\n",
       "      <td>0.084085</td>\n",
       "      <td>0.000090</td>\n",
       "      <td>0.000090</td>\n",
       "      <td>0.000090</td>\n",
       "      <td>0.000090</td>\n",
       "      <td>0.017087</td>\n",
       "      <td>0.000090</td>\n",
       "      <td>0.000090</td>\n",
       "      <td>0.052086</td>\n",
       "      <td>0.027683</td>\n",
       "    </tr>\n",
       "  </tbody>\n",
       "</table>\n",
       "<p>5 rows × 368 columns</p>\n",
       "</div>"
      ],
      "text/plain": [
       "                                      text_formatted  sen_len  sen_avg_len  \\\n",
       "0  In my dream world this amazing incredible plac...       59     5.900000   \n",
       "1  Pretty good ramen.  It honestly wasn't quite a...       97     4.850000   \n",
       "2  First time there chicken for both me and my wi...      468     5.032258   \n",
       "3  The staff is friendly and service is done quic...       94     5.222222   \n",
       "4  I originally gave Main Ingredient two stars ba...      854     5.239264   \n",
       "\n",
       "   sen_med_len      NOUN      VERB       ADJ       ADV         .       ADP  \\\n",
       "0          5.0 -0.889222 -0.718838 -0.823667 -0.943411 -0.418849 -0.679363   \n",
       "1          4.5 -0.791382 -0.641034 -0.823667  0.057682  0.231730 -0.679363   \n",
       "2          5.0  0.627291  0.992857  0.397608  0.391380  0.882309  0.656463   \n",
       "3          5.0 -0.693543 -0.718838 -0.917611 -0.776562 -0.418849  1.992289   \n",
       "4          5.0  2.143805  0.759444  2.370435  1.225624  0.882309  2.660202   \n",
       "\n",
       "   ...  topic_90  topic_91  topic_92  topic_93  topic_94  topic_95  topic_96  \\\n",
       "0  ...  0.001000  0.001000  0.001000  0.001000  0.001000  0.236909  0.001000   \n",
       "1  ...  0.000526  0.000526  0.000526  0.000526  0.000526  0.000526  0.000526   \n",
       "2  ...  0.193696  0.000132  0.000132  0.122451  0.120293  0.000132  0.000132   \n",
       "3  ...  0.000556  0.000556  0.000556  0.000556  0.000556  0.000556  0.000556   \n",
       "4  ...  0.084085  0.000090  0.000090  0.000090  0.000090  0.017087  0.000090   \n",
       "\n",
       "   topic_97  topic_98  topic_99  \n",
       "0  0.001000  0.001000  0.001000  \n",
       "1  0.000526  0.000526  0.000526  \n",
       "2  0.000132  0.000132  0.000132  \n",
       "3  0.000556  0.000556  0.000556  \n",
       "4  0.000090  0.052086  0.027683  \n",
       "\n",
       "[5 rows x 368 columns]"
      ]
     },
     "execution_count": 89,
     "metadata": {},
     "output_type": "execute_result"
    }
   ],
   "source": [
    "feature_matrix.head()"
   ]
  },
  {
   "cell_type": "code",
   "execution_count": 142,
   "metadata": {},
   "outputs": [],
   "source": [
    "feature_matrix = feature_matrix.fillna(0)"
   ]
  },
  {
   "cell_type": "code",
   "execution_count": 143,
   "metadata": {},
   "outputs": [],
   "source": [
    "target = data[[\"food\", \"service\", \"price\", \"ambiance\"]]"
   ]
  },
  {
   "cell_type": "code",
   "execution_count": 144,
   "metadata": {},
   "outputs": [],
   "source": [
    "exec(open(\"iterative_stratification.py\").read())"
   ]
  },
  {
   "cell_type": "code",
   "execution_count": 160,
   "metadata": {},
   "outputs": [],
   "source": [
    "X_tmp, y_tmp, X_test, y_test = iterative_train_test_split(\n",
    "    np.array(feature_matrix),\n",
    "    np.array(target),\n",
    "    test_size=0.4,\n",
    "    random_state=10191994)\n",
    "\n",
    "X_train, y_train, X_validation, y_validation = iterative_train_test_split(\n",
    "    X_tmp,\n",
    "    y_tmp,\n",
    "    test_size=0.3,\n",
    "    random_state=10191994)"
   ]
  },
  {
   "cell_type": "code",
   "execution_count": 161,
   "metadata": {},
   "outputs": [],
   "source": [
    "from sklearn.ensemble import RandomForestClassifier"
   ]
  },
  {
   "cell_type": "code",
   "execution_count": 162,
   "metadata": {},
   "outputs": [],
   "source": [
    "from sklearn.metrics import confusion_matrix"
   ]
  },
  {
   "cell_type": "code",
   "execution_count": 163,
   "metadata": {},
   "outputs": [],
   "source": [
    "clf = RandomForestClassifier(n_estimators=1000,\n",
    "                             max_depth=3,\n",
    "                             min_samples_leaf=10,\n",
    "                             max_features=0.6,\n",
    "                             random_state=10191994,\n",
    "                             n_jobs=-1)"
   ]
  },
  {
   "cell_type": "code",
   "execution_count": 164,
   "metadata": {},
   "outputs": [
    {
     "data": {
      "text/plain": [
       "Index(['sen_len', 'sen_avg_len', 'sen_med_len'], dtype='object')"
      ]
     },
     "execution_count": 164,
     "metadata": {},
     "output_type": "execute_result"
    }
   ],
   "source": [
    "feature_matrix.columns[1:4]"
   ]
  },
  {
   "cell_type": "code",
   "execution_count": 165,
   "metadata": {},
   "outputs": [
    {
     "data": {
      "text/plain": [
       "Index(['NOUN', 'VERB', 'ADJ', 'ADV', '.', 'ADP', 'NUM', 'PRON', 'PRT', 'DET',\n",
       "       ...\n",
       "       'X_VERB', 'X_ADJ', 'X_ADV', 'X_.', 'X_ADP', 'X_NUM', 'X_PRON', 'X_PRT',\n",
       "       'X_DET', 'X_CONJ'],\n",
       "      dtype='object', length=144)"
      ]
     },
     "execution_count": 165,
     "metadata": {},
     "output_type": "execute_result"
    }
   ],
   "source": [
    "feature_matrix.columns[4:148]"
   ]
  },
  {
   "cell_type": "code",
   "execution_count": 166,
   "metadata": {},
   "outputs": [
    {
     "data": {
      "text/plain": [
       "Index(['food_avg_sim', 'service_avg_sim', 'price_avg_sim', 'ambiance_avg_sim',\n",
       "       'tasty_avg_similarity', 'delicious_avg_similarity',\n",
       "       'yummy_avg_similarity', 'fast_avg_similarity', 'quick_avg_similarity',\n",
       "       'line_avg_similarity', 'wait_avg_similarity', 'seated_avg_similarity',\n",
       "       'expensive_avg_similarity', 'cost_avg_similarity',\n",
       "       'worth_avg_similarity', 'atmosphere_avg_similarity',\n",
       "       'environment_avg_similarity', 'patio_avg_similarity',\n",
       "       'loud_avg_similarity', 'smelly_avg_similarity'],\n",
       "      dtype='object')"
      ]
     },
     "execution_count": 166,
     "metadata": {},
     "output_type": "execute_result"
    }
   ],
   "source": [
    "feature_matrix.columns[148:168]"
   ]
  },
  {
   "cell_type": "code",
   "execution_count": 167,
   "metadata": {},
   "outputs": [
    {
     "data": {
      "text/plain": [
       "Index(['also', 'alway', 'amaz', 'around', 'ask', 'back', 'bar', 'best',\n",
       "       'better', 'bit', 'buffet', 'burger', 'came', 'chees', 'chicken', 'come',\n",
       "       'could', 'day', 'definit', 'delici', 'dessert', 'dinner', 'dish',\n",
       "       'drink', 'eat', 'enjoy', 'even', 'everyth', 'experi', 'favorit',\n",
       "       'first', 'flavor', 'food', 'fresh', 'fri', 'friend', 'get', 'go',\n",
       "       'good', 'got', 'great', 'hour', 'know', 'like', 'littl', 'locat',\n",
       "       'look', 'lot', 'love', 'made', 'make', 'meal', 'meat', 'menu', 'much',\n",
       "       'next', 'nice', 'night', 'one', 'order', 'peopl', 'pizza', 'place',\n",
       "       'pretti', 'price', 're', 'realli', 'recommend', 'restaur', 'right',\n",
       "       'room', 'salad', 'sauc', 'say', 'seat', 'serv', 'server', 'servic',\n",
       "       'side', 'star', 'still', 'sweet', 'tabl', 'take', 'tast', 'thing',\n",
       "       'think', 'time', 'top', 'tri', 'two', 'us', 've', 'vega', 'wait',\n",
       "       'want', 'way', 'well', 'went', 'would'],\n",
       "      dtype='object')"
      ]
     },
     "execution_count": 167,
     "metadata": {},
     "output_type": "execute_result"
    }
   ],
   "source": [
    "feature_matrix.columns[168:268]"
   ]
  },
  {
   "cell_type": "code",
   "execution_count": 168,
   "metadata": {},
   "outputs": [
    {
     "data": {
      "text/plain": [
       "Index(['topic_0', 'topic_1', 'topic_2', 'topic_3', 'topic_4', 'topic_5',\n",
       "       'topic_6', 'topic_7', 'topic_8', 'topic_9', 'topic_10', 'topic_11',\n",
       "       'topic_12', 'topic_13', 'topic_14', 'topic_15', 'topic_16', 'topic_17',\n",
       "       'topic_18', 'topic_19', 'topic_20', 'topic_21', 'topic_22', 'topic_23',\n",
       "       'topic_24', 'topic_25', 'topic_26', 'topic_27', 'topic_28', 'topic_29',\n",
       "       'topic_30', 'topic_31', 'topic_32', 'topic_33', 'topic_34', 'topic_35',\n",
       "       'topic_36', 'topic_37', 'topic_38', 'topic_39', 'topic_40', 'topic_41',\n",
       "       'topic_42', 'topic_43', 'topic_44', 'topic_45', 'topic_46', 'topic_47',\n",
       "       'topic_48', 'topic_49', 'topic_50', 'topic_51', 'topic_52', 'topic_53',\n",
       "       'topic_54', 'topic_55', 'topic_56', 'topic_57', 'topic_58', 'topic_59',\n",
       "       'topic_60', 'topic_61', 'topic_62', 'topic_63', 'topic_64', 'topic_65',\n",
       "       'topic_66', 'topic_67', 'topic_68', 'topic_69', 'topic_70', 'topic_71',\n",
       "       'topic_72', 'topic_73', 'topic_74', 'topic_75', 'topic_76', 'topic_77',\n",
       "       'topic_78', 'topic_79', 'topic_80', 'topic_81', 'topic_82', 'topic_83',\n",
       "       'topic_84', 'topic_85', 'topic_86', 'topic_87', 'topic_88', 'topic_89',\n",
       "       'topic_90', 'topic_91', 'topic_92', 'topic_93', 'topic_94', 'topic_95',\n",
       "       'topic_96', 'topic_97', 'topic_98', 'topic_99'],\n",
       "      dtype='object')"
      ]
     },
     "execution_count": 168,
     "metadata": {},
     "output_type": "execute_result"
    }
   ],
   "source": [
    "feature_matrix.columns[268:368]"
   ]
  },
  {
   "cell_type": "code",
   "execution_count": 169,
   "metadata": {},
   "outputs": [
    {
     "data": {
      "text/html": [
       "<div>\n",
       "<style scoped>\n",
       "    .dataframe tbody tr th:only-of-type {\n",
       "        vertical-align: middle;\n",
       "    }\n",
       "\n",
       "    .dataframe tbody tr th {\n",
       "        vertical-align: top;\n",
       "    }\n",
       "\n",
       "    .dataframe thead th {\n",
       "        text-align: right;\n",
       "    }\n",
       "</style>\n",
       "<table border=\"1\" class=\"dataframe\">\n",
       "  <thead>\n",
       "    <tr style=\"text-align: right;\">\n",
       "      <th></th>\n",
       "      <th>food</th>\n",
       "      <th>service</th>\n",
       "      <th>price</th>\n",
       "      <th>ambiance</th>\n",
       "    </tr>\n",
       "  </thead>\n",
       "  <tbody>\n",
       "    <tr>\n",
       "      <th>count</th>\n",
       "      <td>1050.000000</td>\n",
       "      <td>1050.000000</td>\n",
       "      <td>1050.000000</td>\n",
       "      <td>1050.000000</td>\n",
       "    </tr>\n",
       "    <tr>\n",
       "      <th>mean</th>\n",
       "      <td>0.908571</td>\n",
       "      <td>0.637143</td>\n",
       "      <td>0.263810</td>\n",
       "      <td>0.404762</td>\n",
       "    </tr>\n",
       "    <tr>\n",
       "      <th>std</th>\n",
       "      <td>0.288355</td>\n",
       "      <td>0.481053</td>\n",
       "      <td>0.440907</td>\n",
       "      <td>0.491080</td>\n",
       "    </tr>\n",
       "    <tr>\n",
       "      <th>min</th>\n",
       "      <td>0.000000</td>\n",
       "      <td>0.000000</td>\n",
       "      <td>0.000000</td>\n",
       "      <td>0.000000</td>\n",
       "    </tr>\n",
       "    <tr>\n",
       "      <th>25%</th>\n",
       "      <td>1.000000</td>\n",
       "      <td>0.000000</td>\n",
       "      <td>0.000000</td>\n",
       "      <td>0.000000</td>\n",
       "    </tr>\n",
       "    <tr>\n",
       "      <th>50%</th>\n",
       "      <td>1.000000</td>\n",
       "      <td>1.000000</td>\n",
       "      <td>0.000000</td>\n",
       "      <td>0.000000</td>\n",
       "    </tr>\n",
       "    <tr>\n",
       "      <th>75%</th>\n",
       "      <td>1.000000</td>\n",
       "      <td>1.000000</td>\n",
       "      <td>1.000000</td>\n",
       "      <td>1.000000</td>\n",
       "    </tr>\n",
       "    <tr>\n",
       "      <th>max</th>\n",
       "      <td>1.000000</td>\n",
       "      <td>1.000000</td>\n",
       "      <td>1.000000</td>\n",
       "      <td>1.000000</td>\n",
       "    </tr>\n",
       "  </tbody>\n",
       "</table>\n",
       "</div>"
      ],
      "text/plain": [
       "              food      service        price     ambiance\n",
       "count  1050.000000  1050.000000  1050.000000  1050.000000\n",
       "mean      0.908571     0.637143     0.263810     0.404762\n",
       "std       0.288355     0.481053     0.440907     0.491080\n",
       "min       0.000000     0.000000     0.000000     0.000000\n",
       "25%       1.000000     0.000000     0.000000     0.000000\n",
       "50%       1.000000     1.000000     0.000000     0.000000\n",
       "75%       1.000000     1.000000     1.000000     1.000000\n",
       "max       1.000000     1.000000     1.000000     1.000000"
      ]
     },
     "execution_count": 169,
     "metadata": {},
     "output_type": "execute_result"
    }
   ],
   "source": [
    "target.describe()"
   ]
  },
  {
   "cell_type": "markdown",
   "metadata": {},
   "source": [
    "#### Food"
   ]
  },
  {
   "cell_type": "code",
   "execution_count": 170,
   "metadata": {},
   "outputs": [],
   "source": [
    "import pickle"
   ]
  },
  {
   "cell_type": "code",
   "execution_count": 171,
   "metadata": {},
   "outputs": [],
   "source": [
    "def train_model(index):\n",
    "    if index == 0:\n",
    "        model = \"food\"\n",
    "    elif index == 1:\n",
    "        model = \"service\"\n",
    "    elif index == 2:\n",
    "        model = \"price\"\n",
    "    elif index == 3:\n",
    "        model = \"ambiance\"\n",
    "        \n",
    "    score_metadata = clf.fit(pd.DataFrame(X_train[:, 1:4])\n",
    "                             , y_train[:, index]\n",
    "        ).score(pd.DataFrame(X_validation[:, 1:4])\n",
    "                , y_validation[:, index])\n",
    "    score_syntax = clf.fit(pd.DataFrame(X_train[:, 1:148])\n",
    "                           , y_train[:, index]\n",
    "        ).score(pd.DataFrame(X_validation[:, 1:148])\n",
    "                , y_validation[:, index])\n",
    "    score_embeddings = clf.fit(pd.DataFrame(X_train[:, 1:168])\n",
    "                               , y_train[:, index]\n",
    "        ).score(pd.DataFrame(X_validation[:, 1:168])\n",
    "                , y_validation[:, index])\n",
    "    score_tfidf = clf.fit(pd.DataFrame(X_train[:, 1:268])\n",
    "                          , y_train[:, index]\n",
    "        ).score(pd.DataFrame(X_validation[:, 1:268])\n",
    "                , y_validation[:, index])\n",
    "    score_topics = clf.fit(pd.DataFrame(X_train[:, 1:368])\n",
    "                           , y_train[:, index]\n",
    "        ).score(pd.DataFrame(X_validation[:, 1:368])\n",
    "                , y_validation[:, index])\n",
    "    with open(\n",
    "        \"../../4_models/rf_{}_50iterations_0.8threshold.pickle\"\n",
    "        .format(model), \"rb\") as f:\n",
    "        clf_pseudolabel = pickle.load(f)\n",
    "        \n",
    "        score_pseudolabel = clf_pseudolabel.fit(\n",
    "            pd.DataFrame(X_train[:, 1:368])\n",
    "            , y_train[:, index]\n",
    "            ).score(pd.DataFrame(X_validation[:, 1:368])\n",
    "                    , y_validation[:, index])\n",
    "        return [score_metadata,\n",
    "                score_syntax,\n",
    "                score_embeddings,\n",
    "                score_tfidf,\n",
    "                score_topics,\n",
    "                score_pseudolabel]"
   ]
  },
  {
   "cell_type": "code",
   "execution_count": 181,
   "metadata": {},
   "outputs": [],
   "source": [
    "food = train_model(0)\n",
    "service = train_model(1)\n",
    "price = train_model(2)\n",
    "ambiance = train_model(3)"
   ]
  },
  {
   "cell_type": "code",
   "execution_count": 182,
   "metadata": {},
   "outputs": [
    {
     "data": {
      "text/plain": [
       "[0.908571,\n",
       " 0.9148936170212766,\n",
       " 0.9148936170212766,\n",
       " 0.8882978723404256,\n",
       " 0.8936170212765957,\n",
       " 0.8936170212765957,\n",
       " 0.8936170212765957]"
      ]
     },
     "execution_count": 182,
     "metadata": {},
     "output_type": "execute_result"
    }
   ],
   "source": [
    "food = [0.908571] + food\n",
    "food"
   ]
  },
  {
   "cell_type": "code",
   "execution_count": 183,
   "metadata": {},
   "outputs": [
    {
     "data": {
      "text/plain": [
       "[0.637143,\n",
       " 0.6382978723404256,\n",
       " 0.648936170212766,\n",
       " 0.675531914893617,\n",
       " 0.776595744680851,\n",
       " 0.7819148936170213,\n",
       " 0.7819148936170213]"
      ]
     },
     "execution_count": 183,
     "metadata": {},
     "output_type": "execute_result"
    }
   ],
   "source": [
    "service = [0.637143] + service\n",
    "service"
   ]
  },
  {
   "cell_type": "code",
   "execution_count": 184,
   "metadata": {},
   "outputs": [
    {
     "data": {
      "text/plain": [
       "[0.73619,\n",
       " 0.7340425531914894,\n",
       " 0.7340425531914894,\n",
       " 0.7606382978723404,\n",
       " 0.8031914893617021,\n",
       " 0.8031914893617021,\n",
       " 0.8031914893617021]"
      ]
     },
     "execution_count": 184,
     "metadata": {},
     "output_type": "execute_result"
    }
   ],
   "source": [
    "price = [1-0.263810] + price\n",
    "price"
   ]
  },
  {
   "cell_type": "code",
   "execution_count": 185,
   "metadata": {},
   "outputs": [
    {
     "data": {
      "text/plain": [
       "[0.5952379999999999,\n",
       " 0.6329787234042553,\n",
       " 0.648936170212766,\n",
       " 0.7553191489361702,\n",
       " 0.75,\n",
       " 0.723404255319149,\n",
       " 0.723404255319149]"
      ]
     },
     "execution_count": 185,
     "metadata": {},
     "output_type": "execute_result"
    }
   ],
   "source": [
    "ambiance = [1-0.404762] + ambiance\n",
    "ambiance"
   ]
  },
  {
   "cell_type": "code",
   "execution_count": 192,
   "metadata": {},
   "outputs": [],
   "source": [
    "df = pd.DataFrame({\"features\": [\"0 base\",\n",
    "                                \"1 metadata\",\n",
    "                                \"2 syntax\",\n",
    "                                \"3 embeddings\",\n",
    "                                \"4 tfidf\",\n",
    "                                \"5 topics\",\n",
    "                                \"6 pseudolabel\"],\n",
    "                   \"food\": food,\n",
    "                   \"service\": service,\n",
    "                   \"price\": price,\n",
    "                   \"ambiance\": ambiance})"
   ]
  },
  {
   "cell_type": "code",
   "execution_count": 193,
   "metadata": {},
   "outputs": [
    {
     "data": {
      "text/html": [
       "<div>\n",
       "<style scoped>\n",
       "    .dataframe tbody tr th:only-of-type {\n",
       "        vertical-align: middle;\n",
       "    }\n",
       "\n",
       "    .dataframe tbody tr th {\n",
       "        vertical-align: top;\n",
       "    }\n",
       "\n",
       "    .dataframe thead th {\n",
       "        text-align: right;\n",
       "    }\n",
       "</style>\n",
       "<table border=\"1\" class=\"dataframe\">\n",
       "  <thead>\n",
       "    <tr style=\"text-align: right;\">\n",
       "      <th></th>\n",
       "      <th>features</th>\n",
       "      <th>food</th>\n",
       "      <th>service</th>\n",
       "      <th>price</th>\n",
       "      <th>ambiance</th>\n",
       "    </tr>\n",
       "  </thead>\n",
       "  <tbody>\n",
       "    <tr>\n",
       "      <th>0</th>\n",
       "      <td>0 base</td>\n",
       "      <td>0.908571</td>\n",
       "      <td>0.637143</td>\n",
       "      <td>0.736190</td>\n",
       "      <td>0.595238</td>\n",
       "    </tr>\n",
       "    <tr>\n",
       "      <th>1</th>\n",
       "      <td>1 metadata</td>\n",
       "      <td>0.914894</td>\n",
       "      <td>0.638298</td>\n",
       "      <td>0.734043</td>\n",
       "      <td>0.632979</td>\n",
       "    </tr>\n",
       "    <tr>\n",
       "      <th>2</th>\n",
       "      <td>2 syntax</td>\n",
       "      <td>0.914894</td>\n",
       "      <td>0.648936</td>\n",
       "      <td>0.734043</td>\n",
       "      <td>0.648936</td>\n",
       "    </tr>\n",
       "    <tr>\n",
       "      <th>3</th>\n",
       "      <td>3 embeddings</td>\n",
       "      <td>0.888298</td>\n",
       "      <td>0.675532</td>\n",
       "      <td>0.760638</td>\n",
       "      <td>0.755319</td>\n",
       "    </tr>\n",
       "    <tr>\n",
       "      <th>4</th>\n",
       "      <td>4 tfidf</td>\n",
       "      <td>0.893617</td>\n",
       "      <td>0.776596</td>\n",
       "      <td>0.803191</td>\n",
       "      <td>0.750000</td>\n",
       "    </tr>\n",
       "    <tr>\n",
       "      <th>5</th>\n",
       "      <td>5 topics</td>\n",
       "      <td>0.893617</td>\n",
       "      <td>0.781915</td>\n",
       "      <td>0.803191</td>\n",
       "      <td>0.723404</td>\n",
       "    </tr>\n",
       "    <tr>\n",
       "      <th>6</th>\n",
       "      <td>6 pseudolabel</td>\n",
       "      <td>0.893617</td>\n",
       "      <td>0.781915</td>\n",
       "      <td>0.803191</td>\n",
       "      <td>0.723404</td>\n",
       "    </tr>\n",
       "  </tbody>\n",
       "</table>\n",
       "</div>"
      ],
      "text/plain": [
       "        features      food   service     price  ambiance\n",
       "0         0 base  0.908571  0.637143  0.736190  0.595238\n",
       "1     1 metadata  0.914894  0.638298  0.734043  0.632979\n",
       "2       2 syntax  0.914894  0.648936  0.734043  0.648936\n",
       "3   3 embeddings  0.888298  0.675532  0.760638  0.755319\n",
       "4        4 tfidf  0.893617  0.776596  0.803191  0.750000\n",
       "5       5 topics  0.893617  0.781915  0.803191  0.723404\n",
       "6  6 pseudolabel  0.893617  0.781915  0.803191  0.723404"
      ]
     },
     "execution_count": 193,
     "metadata": {},
     "output_type": "execute_result"
    }
   ],
   "source": [
    "df"
   ]
  },
  {
   "cell_type": "code",
   "execution_count": 218,
   "metadata": {},
   "outputs": [
    {
     "data": {
      "image/png": "[encoded data removed]",
      "text/plain": [
       "<Figure size 432x288 with 1 Axes>"
      ]
     },
     "metadata": {},
     "output_type": "display_data"
    }
   ],
   "source": [
    "f, ax = plt.subplots()\n",
    "sns.lineplot(x=\"features\", y=\"food\", markers=True, data=df,\n",
    "             color=\"blue\", label=\"food\")\n",
    "sns.lineplot(x=\"features\", y=\"service\", markers=True, data=df,\n",
    "             color=\"red\", label=\"service\")\n",
    "sns.lineplot(x=\"features\", y=\"price\", markers=True, data=df,\n",
    "             color=\"green\", label=\"price\")\n",
    "sns.lineplot(x=\"features\", y=\"ambiance\", markers=True, data=df,\n",
    "             color=\"orange\", label=\"ambiance\")\n",
    "plt.setp(ax.get_xticklabels(), rotation=90)\n",
    "ax.set(ylabel=\"Accuracy\", ylim=(0.4, 1))\n",
    "ax.legend(ncol=2, loc=\"lower right\", frameon=True)\n",
    "sns.despine(left=True, bottom=True)\n",
    "plt.savefig(\"../../3_reports/figures/model_accuracy_20190613.png\")"
   ]
  },
  {
   "cell_type": "code",
   "execution_count": null,
   "metadata": {},
   "outputs": [],
   "source": []
  },
  {
   "cell_type": "code",
   "execution_count": null,
   "metadata": {},
   "outputs": [],
   "source": []
  }
 ],
 "metadata": {
  "kernelspec": {
   "display_name": "Python 3",
   "language": "python",
   "name": "python3"
  },
  "language_info": {
   "codemirror_mode": {
    "name": "ipython",
    "version": 3
   },
   "file_extension": ".py",
   "mimetype": "text/x-python",
   "name": "python",
   "nbconvert_exporter": "python",
   "pygments_lexer": "ipython3",
   "version": "3.7.3"
  }
 },
 "nbformat": 4,
 "nbformat_minor": 2
}
